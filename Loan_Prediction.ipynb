{
  "nbformat": 4,
  "nbformat_minor": 0,
  "metadata": {
    "kernelspec": {
      "display_name": "Python 3",
      "language": "python",
      "name": "python3"
    },
    "language_info": {
      "codemirror_mode": {
        "name": "ipython",
        "version": 3
      },
      "file_extension": ".py",
      "mimetype": "text/x-python",
      "name": "python",
      "nbconvert_exporter": "python",
      "pygments_lexer": "ipython3",
      "version": "3.7.0"
    },
    "colab": {
      "name": "DAA_IPYNB.ipynb",
      "provenance": [],
      "collapsed_sections": []
    }
  },
  "cells": [
    {
      "cell_type": "code",
      "metadata": {
        "id": "vK5ct9nqdWm3"
      },
      "source": [
        "# Add Origination Date and first payment data to check if the AUC improves"
      ],
      "execution_count": null,
      "outputs": []
    },
    {
      "cell_type": "code",
      "metadata": {
        "colab": {
          "base_uri": "https://localhost:8080/"
        },
        "id": "ZiqQngnVdaOG",
        "outputId": "45355b82-b04e-401f-dd27-514ed8844120"
      },
      "source": [
        "pip install pyspark"
      ],
      "execution_count": 204,
      "outputs": [
        {
          "output_type": "stream",
          "text": [
            "Requirement already satisfied: pyspark in /usr/local/lib/python3.7/dist-packages (3.1.1)\n",
            "Requirement already satisfied: py4j==0.10.9 in /usr/local/lib/python3.7/dist-packages (from pyspark) (0.10.9)\n"
          ],
          "name": "stdout"
        }
      ]
    },
    {
      "cell_type": "code",
      "metadata": {
        "id": "_Gb-p51Top-H"
      },
      "source": [
        "from pyspark.sql import SparkSession\n",
        "spark = SparkSession.builder \\\n",
        "    .master(\"local\") \\\n",
        "    .appName(\"CreditRisk\") \\\n",
        "    .config(\"spark.some.config.option\", \"some-value\") \\\n",
        "    .getOrCreate()\n",
        "df = spark.read.csv(\"dataset.csv\", inferSchema = True, header = True, sep=\",\")"
      ],
      "execution_count": 397,
      "outputs": []
    },
    {
      "cell_type": "code",
      "metadata": {
        "colab": {
          "base_uri": "https://localhost:8080/"
        },
        "id": "QoeUH4tTqA8G",
        "outputId": "0ca6d399-fab0-47f5-b5d8-1dd8041a209c"
      },
      "source": [
        "#Check dimension's\n",
        "print((df.count(),len(df.columns)))"
      ],
      "execution_count": 398,
      "outputs": [
        {
          "output_type": "stream",
          "text": [
            "(614, 13)\n"
          ],
          "name": "stdout"
        }
      ]
    },
    {
      "cell_type": "code",
      "metadata": {
        "colab": {
          "base_uri": "https://localhost:8080/"
        },
        "id": "ViNiZ-wMqHYA",
        "outputId": "9c373d28-c180-4052-b70b-cff515571f06"
      },
      "source": [
        "#Check for the schema\n",
        "df.printSchema()"
      ],
      "execution_count": 399,
      "outputs": [
        {
          "output_type": "stream",
          "text": [
            "root\n",
            " |-- Loan_ID: string (nullable = true)\n",
            " |-- Gender: string (nullable = true)\n",
            " |-- Married: string (nullable = true)\n",
            " |-- Dependents: string (nullable = true)\n",
            " |-- Education: string (nullable = true)\n",
            " |-- Self_Employed: string (nullable = true)\n",
            " |-- ApplicantIncome: integer (nullable = true)\n",
            " |-- CoapplicantIncome: double (nullable = true)\n",
            " |-- LoanAmount: integer (nullable = true)\n",
            " |-- Loan_Amount_Term: integer (nullable = true)\n",
            " |-- Credit_History: integer (nullable = true)\n",
            " |-- Property_Area: string (nullable = true)\n",
            " |-- Loan_Status: string (nullable = true)\n",
            "\n"
          ],
          "name": "stdout"
        }
      ]
    },
    {
      "cell_type": "code",
      "metadata": {
        "colab": {
          "base_uri": "https://localhost:8080/"
        },
        "id": "4GzYgrI8Cspt",
        "outputId": "30f421ae-a9d9-449a-fc78-2d12be82ab7c"
      },
      "source": [
        "df.show(200)"
      ],
      "execution_count": 400,
      "outputs": [
        {
          "output_type": "stream",
          "text": [
            "+--------+------+-------+----------+------------+-------------+---------------+-----------------+----------+----------------+--------------+-------------+-----------+\n",
            "| Loan_ID|Gender|Married|Dependents|   Education|Self_Employed|ApplicantIncome|CoapplicantIncome|LoanAmount|Loan_Amount_Term|Credit_History|Property_Area|Loan_Status|\n",
            "+--------+------+-------+----------+------------+-------------+---------------+-----------------+----------+----------------+--------------+-------------+-----------+\n",
            "|LP001002|  Male|     No|         0|    Graduate|           No|           5849|              0.0|      null|             360|             1|        Urban|          Y|\n",
            "|LP001003|  Male|    Yes|         1|    Graduate|           No|           4583|           1508.0|       128|             360|             1|        Rural|          N|\n",
            "|LP001005|  Male|    Yes|         0|    Graduate|          Yes|           3000|              0.0|        66|             360|             1|        Urban|          Y|\n",
            "|LP001006|  Male|    Yes|         0|Not Graduate|           No|           2583|           2358.0|       120|             360|             1|        Urban|          Y|\n",
            "|LP001008|  Male|     No|         0|    Graduate|           No|           6000|              0.0|       141|             360|             1|        Urban|          Y|\n",
            "|LP001011|  Male|    Yes|         2|    Graduate|          Yes|           5417|           4196.0|       267|             360|             1|        Urban|          Y|\n",
            "|LP001013|  Male|    Yes|         0|Not Graduate|           No|           2333|           1516.0|        95|             360|             1|        Urban|          Y|\n",
            "|LP001014|  Male|    Yes|        3+|    Graduate|           No|           3036|           2504.0|       158|             360|             0|    Semiurban|          N|\n",
            "|LP001018|  Male|    Yes|         2|    Graduate|           No|           4006|           1526.0|       168|             360|             1|        Urban|          Y|\n",
            "|LP001020|  Male|    Yes|         1|    Graduate|           No|          12841|          10968.0|       349|             360|             1|    Semiurban|          N|\n",
            "|LP001024|  Male|    Yes|         2|    Graduate|           No|           3200|            700.0|        70|             360|             1|        Urban|          Y|\n",
            "|LP001027|  Male|    Yes|         2|    Graduate|         null|           2500|           1840.0|       109|             360|             1|        Urban|          Y|\n",
            "|LP001028|  Male|    Yes|         2|    Graduate|           No|           3073|           8106.0|       200|             360|             1|        Urban|          Y|\n",
            "|LP001029|  Male|     No|         0|    Graduate|           No|           1853|           2840.0|       114|             360|             1|        Rural|          N|\n",
            "|LP001030|  Male|    Yes|         2|    Graduate|           No|           1299|           1086.0|        17|             120|             1|        Urban|          Y|\n",
            "|LP001032|  Male|     No|         0|    Graduate|           No|           4950|              0.0|       125|             360|             1|        Urban|          Y|\n",
            "|LP001034|  Male|     No|         1|Not Graduate|           No|           3596|              0.0|       100|             240|          null|        Urban|          Y|\n",
            "|LP001036|Female|     No|         0|    Graduate|           No|           3510|              0.0|        76|             360|             0|        Urban|          N|\n",
            "|LP001038|  Male|    Yes|         0|Not Graduate|           No|           4887|              0.0|       133|             360|             1|        Rural|          N|\n",
            "|LP001041|  Male|    Yes|         0|    Graduate|         null|           2600|           3500.0|       115|            null|             1|        Urban|          Y|\n",
            "|LP001043|  Male|    Yes|         0|Not Graduate|           No|           7660|              0.0|       104|             360|             0|        Urban|          N|\n",
            "|LP001046|  Male|    Yes|         1|    Graduate|           No|           5955|           5625.0|       315|             360|             1|        Urban|          Y|\n",
            "|LP001047|  Male|    Yes|         0|Not Graduate|           No|           2600|           1911.0|       116|             360|             0|    Semiurban|          N|\n",
            "|LP001050|  null|    Yes|         2|Not Graduate|           No|           3365|           1917.0|       112|             360|             0|        Rural|          N|\n",
            "|LP001052|  Male|    Yes|         1|    Graduate|         null|           3717|           2925.0|       151|             360|          null|    Semiurban|          N|\n",
            "|LP001066|  Male|    Yes|         0|    Graduate|          Yes|           9560|              0.0|       191|             360|             1|    Semiurban|          Y|\n",
            "|LP001068|  Male|    Yes|         0|    Graduate|           No|           2799|           2253.0|       122|             360|             1|    Semiurban|          Y|\n",
            "|LP001073|  Male|    Yes|         2|Not Graduate|           No|           4226|           1040.0|       110|             360|             1|        Urban|          Y|\n",
            "|LP001086|  Male|     No|         0|Not Graduate|           No|           1442|              0.0|        35|             360|             1|        Urban|          N|\n",
            "|LP001087|Female|     No|         2|    Graduate|         null|           3750|           2083.0|       120|             360|             1|    Semiurban|          Y|\n",
            "|LP001091|  Male|    Yes|         1|    Graduate|         null|           4166|           3369.0|       201|             360|          null|        Urban|          N|\n",
            "|LP001095|  Male|     No|         0|    Graduate|           No|           3167|              0.0|        74|             360|             1|        Urban|          N|\n",
            "|LP001097|  Male|     No|         1|    Graduate|          Yes|           4692|              0.0|       106|             360|             1|        Rural|          N|\n",
            "|LP001098|  Male|    Yes|         0|    Graduate|           No|           3500|           1667.0|       114|             360|             1|    Semiurban|          Y|\n",
            "|LP001100|  Male|     No|        3+|    Graduate|           No|          12500|           3000.0|       320|             360|             1|        Rural|          N|\n",
            "|LP001106|  Male|    Yes|         0|    Graduate|           No|           2275|           2067.0|      null|             360|             1|        Urban|          Y|\n",
            "|LP001109|  Male|    Yes|         0|    Graduate|           No|           1828|           1330.0|       100|            null|             0|        Urban|          N|\n",
            "|LP001112|Female|    Yes|         0|    Graduate|           No|           3667|           1459.0|       144|             360|             1|    Semiurban|          Y|\n",
            "|LP001114|  Male|     No|         0|    Graduate|           No|           4166|           7210.0|       184|             360|             1|        Urban|          Y|\n",
            "|LP001116|  Male|     No|         0|Not Graduate|           No|           3748|           1668.0|       110|             360|             1|    Semiurban|          Y|\n",
            "|LP001119|  Male|     No|         0|    Graduate|           No|           3600|              0.0|        80|             360|             1|        Urban|          N|\n",
            "|LP001120|  Male|     No|         0|    Graduate|           No|           1800|           1213.0|        47|             360|             1|        Urban|          Y|\n",
            "|LP001123|  Male|    Yes|         0|    Graduate|           No|           2400|              0.0|        75|             360|          null|        Urban|          Y|\n",
            "|LP001131|  Male|    Yes|         0|    Graduate|           No|           3941|           2336.0|       134|             360|             1|    Semiurban|          Y|\n",
            "|LP001136|  Male|    Yes|         0|Not Graduate|          Yes|           4695|              0.0|        96|            null|             1|        Urban|          Y|\n",
            "|LP001137|Female|     No|         0|    Graduate|           No|           3410|              0.0|        88|            null|             1|        Urban|          Y|\n",
            "|LP001138|  Male|    Yes|         1|    Graduate|           No|           5649|              0.0|        44|             360|             1|        Urban|          Y|\n",
            "|LP001144|  Male|    Yes|         0|    Graduate|           No|           5821|              0.0|       144|             360|             1|        Urban|          Y|\n",
            "|LP001146|Female|    Yes|         0|    Graduate|           No|           2645|           3440.0|       120|             360|             0|        Urban|          N|\n",
            "|LP001151|Female|     No|         0|    Graduate|           No|           4000|           2275.0|       144|             360|             1|    Semiurban|          Y|\n",
            "|LP001155|Female|    Yes|         0|Not Graduate|           No|           1928|           1644.0|       100|             360|             1|    Semiurban|          Y|\n",
            "|LP001157|Female|     No|         0|    Graduate|           No|           3086|              0.0|       120|             360|             1|    Semiurban|          Y|\n",
            "|LP001164|Female|     No|         0|    Graduate|           No|           4230|              0.0|       112|             360|             1|    Semiurban|          N|\n",
            "|LP001179|  Male|    Yes|         2|    Graduate|           No|           4616|              0.0|       134|             360|             1|        Urban|          N|\n",
            "|LP001186|Female|    Yes|         1|    Graduate|          Yes|          11500|              0.0|       286|             360|             0|        Urban|          N|\n",
            "|LP001194|  Male|    Yes|         2|    Graduate|           No|           2708|           1167.0|        97|             360|             1|    Semiurban|          Y|\n",
            "|LP001195|  Male|    Yes|         0|    Graduate|           No|           2132|           1591.0|        96|             360|             1|    Semiurban|          Y|\n",
            "|LP001197|  Male|    Yes|         0|    Graduate|           No|           3366|           2200.0|       135|             360|             1|        Rural|          N|\n",
            "|LP001198|  Male|    Yes|         1|    Graduate|           No|           8080|           2250.0|       180|             360|             1|        Urban|          Y|\n",
            "|LP001199|  Male|    Yes|         2|Not Graduate|           No|           3357|           2859.0|       144|             360|             1|        Urban|          Y|\n",
            "|LP001205|  Male|    Yes|         0|    Graduate|           No|           2500|           3796.0|       120|             360|             1|        Urban|          Y|\n",
            "|LP001206|  Male|    Yes|        3+|    Graduate|           No|           3029|              0.0|        99|             360|             1|        Urban|          Y|\n",
            "|LP001207|  Male|    Yes|         0|Not Graduate|          Yes|           2609|           3449.0|       165|             180|             0|        Rural|          N|\n",
            "|LP001213|  Male|    Yes|         1|    Graduate|           No|           4945|              0.0|      null|             360|             0|        Rural|          N|\n",
            "|LP001222|Female|     No|         0|    Graduate|           No|           4166|              0.0|       116|             360|             0|    Semiurban|          N|\n",
            "|LP001225|  Male|    Yes|         0|    Graduate|           No|           5726|           4595.0|       258|             360|             1|    Semiurban|          N|\n",
            "|LP001228|  Male|     No|         0|Not Graduate|           No|           3200|           2254.0|       126|             180|             0|        Urban|          N|\n",
            "|LP001233|  Male|    Yes|         1|    Graduate|           No|          10750|              0.0|       312|             360|             1|        Urban|          Y|\n",
            "|LP001238|  Male|    Yes|        3+|Not Graduate|          Yes|           7100|              0.0|       125|              60|             1|        Urban|          Y|\n",
            "|LP001241|Female|     No|         0|    Graduate|           No|           4300|              0.0|       136|             360|             0|    Semiurban|          N|\n",
            "|LP001243|  Male|    Yes|         0|    Graduate|           No|           3208|           3066.0|       172|             360|             1|        Urban|          Y|\n",
            "|LP001245|  Male|    Yes|         2|Not Graduate|          Yes|           1875|           1875.0|        97|             360|             1|    Semiurban|          Y|\n",
            "|LP001248|  Male|     No|         0|    Graduate|           No|           3500|              0.0|        81|             300|             1|    Semiurban|          Y|\n",
            "|LP001250|  Male|    Yes|        3+|Not Graduate|           No|           4755|              0.0|        95|            null|             0|    Semiurban|          N|\n",
            "|LP001253|  Male|    Yes|        3+|    Graduate|          Yes|           5266|           1774.0|       187|             360|             1|    Semiurban|          Y|\n",
            "|LP001255|  Male|     No|         0|    Graduate|           No|           3750|              0.0|       113|             480|             1|        Urban|          N|\n",
            "|LP001256|  Male|     No|         0|    Graduate|           No|           3750|           4750.0|       176|             360|             1|        Urban|          N|\n",
            "|LP001259|  Male|    Yes|         1|    Graduate|          Yes|           1000|           3022.0|       110|             360|             1|        Urban|          N|\n",
            "|LP001263|  Male|    Yes|        3+|    Graduate|           No|           3167|           4000.0|       180|             300|             0|    Semiurban|          N|\n",
            "|LP001264|  Male|    Yes|        3+|Not Graduate|          Yes|           3333|           2166.0|       130|             360|          null|    Semiurban|          Y|\n",
            "|LP001265|Female|     No|         0|    Graduate|           No|           3846|              0.0|       111|             360|             1|    Semiurban|          Y|\n",
            "|LP001266|  Male|    Yes|         1|    Graduate|          Yes|           2395|              0.0|      null|             360|             1|    Semiurban|          Y|\n",
            "|LP001267|Female|    Yes|         2|    Graduate|           No|           1378|           1881.0|       167|             360|             1|        Urban|          N|\n",
            "|LP001273|  Male|    Yes|         0|    Graduate|           No|           6000|           2250.0|       265|             360|          null|    Semiurban|          N|\n",
            "|LP001275|  Male|    Yes|         1|    Graduate|           No|           3988|              0.0|        50|             240|             1|        Urban|          Y|\n",
            "|LP001279|  Male|     No|         0|    Graduate|           No|           2366|           2531.0|       136|             360|             1|    Semiurban|          Y|\n",
            "|LP001280|  Male|    Yes|         2|Not Graduate|           No|           3333|           2000.0|        99|             360|          null|    Semiurban|          Y|\n",
            "|LP001282|  Male|    Yes|         0|    Graduate|           No|           2500|           2118.0|       104|             360|             1|    Semiurban|          Y|\n",
            "|LP001289|  Male|     No|         0|    Graduate|           No|           8566|              0.0|       210|             360|             1|        Urban|          Y|\n",
            "|LP001310|  Male|    Yes|         0|    Graduate|           No|           5695|           4167.0|       175|             360|             1|    Semiurban|          Y|\n",
            "|LP001316|  Male|    Yes|         0|    Graduate|           No|           2958|           2900.0|       131|             360|             1|    Semiurban|          Y|\n",
            "|LP001318|  Male|    Yes|         2|    Graduate|           No|           6250|           5654.0|       188|             180|             1|    Semiurban|          Y|\n",
            "|LP001319|  Male|    Yes|         2|Not Graduate|           No|           3273|           1820.0|        81|             360|             1|        Urban|          Y|\n",
            "|LP001322|  Male|     No|         0|    Graduate|           No|           4133|              0.0|       122|             360|             1|    Semiurban|          Y|\n",
            "|LP001325|  Male|     No|         0|Not Graduate|           No|           3620|              0.0|        25|             120|             1|    Semiurban|          Y|\n",
            "|LP001326|  Male|     No|         0|    Graduate|         null|           6782|              0.0|      null|             360|          null|        Urban|          N|\n",
            "|LP001327|Female|    Yes|         0|    Graduate|           No|           2484|           2302.0|       137|             360|             1|    Semiurban|          Y|\n",
            "|LP001333|  Male|    Yes|         0|    Graduate|           No|           1977|            997.0|        50|             360|             1|    Semiurban|          Y|\n",
            "|LP001334|  Male|    Yes|         0|Not Graduate|           No|           4188|              0.0|       115|             180|             1|    Semiurban|          Y|\n",
            "|LP001343|  Male|    Yes|         0|    Graduate|           No|           1759|           3541.0|       131|             360|             1|    Semiurban|          Y|\n",
            "|LP001345|  Male|    Yes|         2|Not Graduate|           No|           4288|           3263.0|       133|             180|             1|        Urban|          Y|\n",
            "|LP001349|  Male|     No|         0|    Graduate|           No|           4843|           3806.0|       151|             360|             1|    Semiurban|          Y|\n",
            "|LP001350|  Male|    Yes|      null|    Graduate|           No|          13650|              0.0|      null|             360|             1|        Urban|          Y|\n",
            "|LP001356|  Male|    Yes|         0|    Graduate|           No|           4652|           3583.0|      null|             360|             1|    Semiurban|          Y|\n",
            "|LP001357|  Male|   null|      null|    Graduate|           No|           3816|            754.0|       160|             360|             1|        Urban|          Y|\n",
            "|LP001367|  Male|    Yes|         1|    Graduate|           No|           3052|           1030.0|       100|             360|             1|        Urban|          Y|\n",
            "|LP001369|  Male|    Yes|         2|    Graduate|           No|          11417|           1126.0|       225|             360|             1|        Urban|          Y|\n",
            "|LP001370|  Male|     No|         0|Not Graduate|         null|           7333|              0.0|       120|             360|             1|        Rural|          N|\n",
            "|LP001379|  Male|    Yes|         2|    Graduate|           No|           3800|           3600.0|       216|             360|             0|        Urban|          N|\n",
            "|LP001384|  Male|    Yes|        3+|Not Graduate|           No|           2071|            754.0|        94|             480|             1|    Semiurban|          Y|\n",
            "|LP001385|  Male|     No|         0|    Graduate|           No|           5316|              0.0|       136|             360|             1|        Urban|          Y|\n",
            "|LP001387|Female|    Yes|         0|    Graduate|         null|           2929|           2333.0|       139|             360|             1|    Semiurban|          Y|\n",
            "|LP001391|  Male|    Yes|         0|Not Graduate|           No|           3572|           4114.0|       152|            null|             0|        Rural|          N|\n",
            "|LP001392|Female|     No|         1|    Graduate|          Yes|           7451|              0.0|      null|             360|             1|    Semiurban|          Y|\n",
            "|LP001398|  Male|     No|         0|    Graduate|         null|           5050|              0.0|       118|             360|             1|    Semiurban|          Y|\n",
            "|LP001401|  Male|    Yes|         1|    Graduate|           No|          14583|              0.0|       185|             180|             1|        Rural|          Y|\n",
            "|LP001404|Female|    Yes|         0|    Graduate|           No|           3167|           2283.0|       154|             360|             1|    Semiurban|          Y|\n",
            "|LP001405|  Male|    Yes|         1|    Graduate|           No|           2214|           1398.0|        85|             360|          null|        Urban|          Y|\n",
            "|LP001421|  Male|    Yes|         0|    Graduate|           No|           5568|           2142.0|       175|             360|             1|        Rural|          N|\n",
            "|LP001422|Female|     No|         0|    Graduate|           No|          10408|              0.0|       259|             360|             1|        Urban|          Y|\n",
            "|LP001426|  Male|    Yes|      null|    Graduate|           No|           5667|           2667.0|       180|             360|             1|        Rural|          Y|\n",
            "|LP001430|Female|     No|         0|    Graduate|           No|           4166|              0.0|        44|             360|             1|    Semiurban|          Y|\n",
            "|LP001431|Female|     No|         0|    Graduate|           No|           2137|           8980.0|       137|             360|             0|    Semiurban|          Y|\n",
            "|LP001432|  Male|    Yes|         2|    Graduate|           No|           2957|              0.0|        81|             360|             1|    Semiurban|          Y|\n",
            "|LP001439|  Male|    Yes|         0|Not Graduate|           No|           4300|           2014.0|       194|             360|             1|        Rural|          Y|\n",
            "|LP001443|Female|     No|         0|    Graduate|           No|           3692|              0.0|        93|             360|          null|        Rural|          Y|\n",
            "|LP001448|  null|    Yes|        3+|    Graduate|           No|          23803|              0.0|       370|             360|             1|        Rural|          Y|\n",
            "|LP001449|  Male|     No|         0|    Graduate|           No|           3865|           1640.0|      null|             360|             1|        Rural|          Y|\n",
            "|LP001451|  Male|    Yes|         1|    Graduate|          Yes|          10513|           3850.0|       160|             180|             0|        Urban|          N|\n",
            "|LP001465|  Male|    Yes|         0|    Graduate|           No|           6080|           2569.0|       182|             360|          null|        Rural|          N|\n",
            "|LP001469|  Male|     No|         0|    Graduate|          Yes|          20166|              0.0|       650|             480|          null|        Urban|          Y|\n",
            "|LP001473|  Male|     No|         0|    Graduate|           No|           2014|           1929.0|        74|             360|             1|        Urban|          Y|\n",
            "|LP001478|  Male|     No|         0|    Graduate|           No|           2718|              0.0|        70|             360|             1|    Semiurban|          Y|\n",
            "|LP001482|  Male|    Yes|         0|    Graduate|          Yes|           3459|              0.0|        25|             120|             1|    Semiurban|          Y|\n",
            "|LP001487|  Male|     No|         0|    Graduate|           No|           4895|              0.0|       102|             360|             1|    Semiurban|          Y|\n",
            "|LP001488|  Male|    Yes|        3+|    Graduate|           No|           4000|           7750.0|       290|             360|             1|    Semiurban|          N|\n",
            "|LP001489|Female|    Yes|         0|    Graduate|           No|           4583|              0.0|        84|             360|             1|        Rural|          N|\n",
            "|LP001491|  Male|    Yes|         2|    Graduate|          Yes|           3316|           3500.0|        88|             360|             1|        Urban|          Y|\n",
            "|LP001492|  Male|     No|         0|    Graduate|           No|          14999|              0.0|       242|             360|             0|    Semiurban|          N|\n",
            "|LP001493|  Male|    Yes|         2|Not Graduate|           No|           4200|           1430.0|       129|             360|             1|        Rural|          N|\n",
            "|LP001497|  Male|    Yes|         2|    Graduate|           No|           5042|           2083.0|       185|             360|             1|        Rural|          N|\n",
            "|LP001498|  Male|     No|         0|    Graduate|           No|           5417|              0.0|       168|             360|             1|        Urban|          Y|\n",
            "|LP001504|  Male|     No|         0|    Graduate|          Yes|           6950|              0.0|       175|             180|             1|    Semiurban|          Y|\n",
            "|LP001507|  Male|    Yes|         0|    Graduate|           No|           2698|           2034.0|       122|             360|             1|    Semiurban|          Y|\n",
            "|LP001508|  Male|    Yes|         2|    Graduate|           No|          11757|              0.0|       187|             180|             1|        Urban|          Y|\n",
            "|LP001514|Female|    Yes|         0|    Graduate|           No|           2330|           4486.0|       100|             360|             1|    Semiurban|          Y|\n",
            "|LP001516|Female|    Yes|         2|    Graduate|           No|          14866|              0.0|        70|             360|             1|        Urban|          Y|\n",
            "|LP001518|  Male|    Yes|         1|    Graduate|           No|           1538|           1425.0|        30|             360|             1|        Urban|          Y|\n",
            "|LP001519|Female|     No|         0|    Graduate|           No|          10000|           1666.0|       225|             360|             1|        Rural|          N|\n",
            "|LP001520|  Male|    Yes|         0|    Graduate|           No|           4860|            830.0|       125|             360|             1|    Semiurban|          Y|\n",
            "|LP001528|  Male|     No|         0|    Graduate|           No|           6277|              0.0|       118|             360|             0|        Rural|          N|\n",
            "|LP001529|  Male|    Yes|         0|    Graduate|          Yes|           2577|           3750.0|       152|             360|             1|        Rural|          Y|\n",
            "|LP001531|  Male|     No|         0|    Graduate|           No|           9166|              0.0|       244|             360|             1|        Urban|          N|\n",
            "|LP001532|  Male|    Yes|         2|Not Graduate|           No|           2281|              0.0|       113|             360|             1|        Rural|          N|\n",
            "|LP001535|  Male|     No|         0|    Graduate|           No|           3254|              0.0|        50|             360|             1|        Urban|          Y|\n",
            "|LP001536|  Male|    Yes|        3+|    Graduate|           No|          39999|              0.0|       600|             180|             0|    Semiurban|          Y|\n",
            "|LP001541|  Male|    Yes|         1|    Graduate|           No|           6000|              0.0|       160|             360|          null|        Rural|          Y|\n",
            "|LP001543|  Male|    Yes|         1|    Graduate|           No|           9538|              0.0|       187|             360|             1|        Urban|          Y|\n",
            "|LP001546|  Male|     No|         0|    Graduate|         null|           2980|           2083.0|       120|             360|             1|        Rural|          Y|\n",
            "|LP001552|  Male|    Yes|         0|    Graduate|           No|           4583|           5625.0|       255|             360|             1|    Semiurban|          Y|\n",
            "|LP001560|  Male|    Yes|         0|Not Graduate|           No|           1863|           1041.0|        98|             360|             1|    Semiurban|          Y|\n",
            "|LP001562|  Male|    Yes|         0|    Graduate|           No|           7933|              0.0|       275|             360|             1|        Urban|          N|\n",
            "|LP001565|  Male|    Yes|         1|    Graduate|           No|           3089|           1280.0|       121|             360|             0|    Semiurban|          N|\n",
            "|LP001570|  Male|    Yes|         2|    Graduate|           No|           4167|           1447.0|       158|             360|             1|        Rural|          Y|\n",
            "|LP001572|  Male|    Yes|         0|    Graduate|           No|           9323|              0.0|        75|             180|             1|        Urban|          Y|\n",
            "|LP001574|  Male|    Yes|         0|    Graduate|           No|           3707|           3166.0|       182|            null|             1|        Rural|          Y|\n",
            "|LP001577|Female|    Yes|         0|    Graduate|           No|           4583|              0.0|       112|             360|             1|        Rural|          N|\n",
            "|LP001578|  Male|    Yes|         0|    Graduate|           No|           2439|           3333.0|       129|             360|             1|        Rural|          Y|\n",
            "|LP001579|  Male|     No|         0|    Graduate|           No|           2237|              0.0|        63|             480|             0|    Semiurban|          N|\n",
            "|LP001580|  Male|    Yes|         2|    Graduate|           No|           8000|              0.0|       200|             360|             1|    Semiurban|          Y|\n",
            "|LP001581|  Male|    Yes|         0|Not Graduate|         null|           1820|           1769.0|        95|             360|             1|        Rural|          Y|\n",
            "|LP001585|  null|    Yes|        3+|    Graduate|           No|          51763|              0.0|       700|             300|             1|        Urban|          Y|\n",
            "|LP001586|  Male|    Yes|        3+|Not Graduate|           No|           3522|              0.0|        81|             180|             1|        Rural|          N|\n",
            "|LP001594|  Male|    Yes|         0|    Graduate|           No|           5708|           5625.0|       187|             360|             1|    Semiurban|          Y|\n",
            "|LP001603|  Male|    Yes|         0|Not Graduate|          Yes|           4344|            736.0|        87|             360|             1|    Semiurban|          N|\n",
            "|LP001606|  Male|    Yes|         0|    Graduate|           No|           3497|           1964.0|       116|             360|             1|        Rural|          Y|\n",
            "|LP001608|  Male|    Yes|         2|    Graduate|           No|           2045|           1619.0|       101|             360|             1|        Rural|          Y|\n",
            "|LP001610|  Male|    Yes|        3+|    Graduate|           No|           5516|          11300.0|       495|             360|             0|    Semiurban|          N|\n",
            "|LP001616|  Male|    Yes|         1|    Graduate|           No|           3750|              0.0|       116|             360|             1|    Semiurban|          Y|\n",
            "|LP001630|  Male|     No|         0|Not Graduate|           No|           2333|           1451.0|       102|             480|             0|        Urban|          N|\n",
            "|LP001633|  Male|    Yes|         1|    Graduate|           No|           6400|           7250.0|       180|             360|             0|        Urban|          N|\n",
            "|LP001634|  Male|     No|         0|    Graduate|           No|           1916|           5063.0|        67|             360|          null|        Rural|          N|\n",
            "|LP001636|  Male|    Yes|         0|    Graduate|           No|           4600|              0.0|        73|             180|             1|    Semiurban|          Y|\n",
            "|LP001637|  Male|    Yes|         1|    Graduate|           No|          33846|              0.0|       260|             360|             1|    Semiurban|          N|\n",
            "|LP001639|Female|    Yes|         0|    Graduate|           No|           3625|              0.0|       108|             360|             1|    Semiurban|          Y|\n",
            "|LP001640|  Male|    Yes|         0|    Graduate|          Yes|          39147|           4750.0|       120|             360|             1|    Semiurban|          Y|\n",
            "|LP001641|  Male|    Yes|         1|    Graduate|          Yes|           2178|              0.0|        66|             300|             0|        Rural|          N|\n",
            "|LP001643|  Male|    Yes|         0|    Graduate|           No|           2383|           2138.0|        58|             360|          null|        Rural|          Y|\n",
            "|LP001644|  null|    Yes|         0|    Graduate|          Yes|            674|           5296.0|       168|             360|             1|        Rural|          Y|\n",
            "|LP001647|  Male|    Yes|         0|    Graduate|           No|           9328|              0.0|       188|             180|             1|        Rural|          Y|\n",
            "|LP001653|  Male|     No|         0|Not Graduate|           No|           4885|              0.0|        48|             360|             1|        Rural|          Y|\n",
            "|LP001656|  Male|     No|         0|    Graduate|           No|          12000|              0.0|       164|             360|             1|    Semiurban|          N|\n",
            "|LP001657|  Male|    Yes|         0|Not Graduate|           No|           6033|              0.0|       160|             360|             1|        Urban|          N|\n",
            "|LP001658|  Male|     No|         0|    Graduate|           No|           3858|              0.0|        76|             360|             1|    Semiurban|          Y|\n",
            "|LP001664|  Male|     No|         0|    Graduate|           No|           4191|              0.0|       120|             360|             1|        Rural|          Y|\n",
            "|LP001665|  Male|    Yes|         1|    Graduate|           No|           3125|           2583.0|       170|             360|             1|    Semiurban|          N|\n",
            "|LP001666|  Male|     No|         0|    Graduate|           No|           8333|           3750.0|       187|             360|             1|        Rural|          Y|\n",
            "|LP001669|Female|     No|         0|Not Graduate|           No|           1907|           2365.0|       120|            null|             1|        Urban|          Y|\n",
            "|LP001671|Female|    Yes|         0|    Graduate|           No|           3416|           2816.0|       113|             360|          null|    Semiurban|          Y|\n",
            "|LP001673|  Male|     No|         0|    Graduate|          Yes|          11000|              0.0|        83|             360|             1|        Urban|          N|\n",
            "+--------+------+-------+----------+------------+-------------+---------------+-----------------+----------+----------------+--------------+-------------+-----------+\n",
            "only showing top 200 rows\n",
            "\n"
          ],
          "name": "stdout"
        }
      ]
    },
    {
      "cell_type": "code",
      "metadata": {
        "id": "TfWs2clX5-v2"
      },
      "source": [
        "\n",
        "my_data=df.na.fill(\"unknown\",[\"Gender\"]) \\\n",
        "    .na.fill(\"unknown\",[\"Married\"])\\\n",
        "    .na.fill(\"unknown\",[\"Education\"])\\\n",
        "    .na.fill(\"unknown\",[\"Self_Employed\"])\\\n",
        "    .na.fill(0,[\"ApplicantIncome\"])\\\n",
        "    .na.fill(0,[\"CoapplicantIncome\"])\\\n",
        "    .na.fill(0,[\"LoanAmount\"])\\\n",
        "    .na.fill(0,[\"Loan_Amount_Term\"])\\\n",
        "    .na.fill(0,[\"Credit_History\"])\\\n",
        "    .na.fill(\"unknown\",[\"Property_Area\"])\\\n",
        "    .na.fill(\"unknown\",[\"Loan_Status\"])"
      ],
      "execution_count": 401,
      "outputs": []
    },
    {
      "cell_type": "code",
      "metadata": {
        "colab": {
          "base_uri": "https://localhost:8080/"
        },
        "id": "h3nIbNJsqKvi",
        "outputId": "e339f58e-921a-47b0-afe2-3b4ea6a31d8f"
      },
      "source": [
        "#Top 5 records\n",
        "my_data.show(200)"
      ],
      "execution_count": 402,
      "outputs": [
        {
          "output_type": "stream",
          "text": [
            "+--------+-------+-------+----------+------------+-------------+---------------+-----------------+----------+----------------+--------------+-------------+-----------+\n",
            "| Loan_ID| Gender|Married|Dependents|   Education|Self_Employed|ApplicantIncome|CoapplicantIncome|LoanAmount|Loan_Amount_Term|Credit_History|Property_Area|Loan_Status|\n",
            "+--------+-------+-------+----------+------------+-------------+---------------+-----------------+----------+----------------+--------------+-------------+-----------+\n",
            "|LP001002|   Male|     No|         0|    Graduate|           No|           5849|              0.0|         0|             360|             1|        Urban|          Y|\n",
            "|LP001003|   Male|    Yes|         1|    Graduate|           No|           4583|           1508.0|       128|             360|             1|        Rural|          N|\n",
            "|LP001005|   Male|    Yes|         0|    Graduate|          Yes|           3000|              0.0|        66|             360|             1|        Urban|          Y|\n",
            "|LP001006|   Male|    Yes|         0|Not Graduate|           No|           2583|           2358.0|       120|             360|             1|        Urban|          Y|\n",
            "|LP001008|   Male|     No|         0|    Graduate|           No|           6000|              0.0|       141|             360|             1|        Urban|          Y|\n",
            "|LP001011|   Male|    Yes|         2|    Graduate|          Yes|           5417|           4196.0|       267|             360|             1|        Urban|          Y|\n",
            "|LP001013|   Male|    Yes|         0|Not Graduate|           No|           2333|           1516.0|        95|             360|             1|        Urban|          Y|\n",
            "|LP001014|   Male|    Yes|        3+|    Graduate|           No|           3036|           2504.0|       158|             360|             0|    Semiurban|          N|\n",
            "|LP001018|   Male|    Yes|         2|    Graduate|           No|           4006|           1526.0|       168|             360|             1|        Urban|          Y|\n",
            "|LP001020|   Male|    Yes|         1|    Graduate|           No|          12841|          10968.0|       349|             360|             1|    Semiurban|          N|\n",
            "|LP001024|   Male|    Yes|         2|    Graduate|           No|           3200|            700.0|        70|             360|             1|        Urban|          Y|\n",
            "|LP001027|   Male|    Yes|         2|    Graduate|      unknown|           2500|           1840.0|       109|             360|             1|        Urban|          Y|\n",
            "|LP001028|   Male|    Yes|         2|    Graduate|           No|           3073|           8106.0|       200|             360|             1|        Urban|          Y|\n",
            "|LP001029|   Male|     No|         0|    Graduate|           No|           1853|           2840.0|       114|             360|             1|        Rural|          N|\n",
            "|LP001030|   Male|    Yes|         2|    Graduate|           No|           1299|           1086.0|        17|             120|             1|        Urban|          Y|\n",
            "|LP001032|   Male|     No|         0|    Graduate|           No|           4950|              0.0|       125|             360|             1|        Urban|          Y|\n",
            "|LP001034|   Male|     No|         1|Not Graduate|           No|           3596|              0.0|       100|             240|             0|        Urban|          Y|\n",
            "|LP001036| Female|     No|         0|    Graduate|           No|           3510|              0.0|        76|             360|             0|        Urban|          N|\n",
            "|LP001038|   Male|    Yes|         0|Not Graduate|           No|           4887|              0.0|       133|             360|             1|        Rural|          N|\n",
            "|LP001041|   Male|    Yes|         0|    Graduate|      unknown|           2600|           3500.0|       115|               0|             1|        Urban|          Y|\n",
            "|LP001043|   Male|    Yes|         0|Not Graduate|           No|           7660|              0.0|       104|             360|             0|        Urban|          N|\n",
            "|LP001046|   Male|    Yes|         1|    Graduate|           No|           5955|           5625.0|       315|             360|             1|        Urban|          Y|\n",
            "|LP001047|   Male|    Yes|         0|Not Graduate|           No|           2600|           1911.0|       116|             360|             0|    Semiurban|          N|\n",
            "|LP001050|unknown|    Yes|         2|Not Graduate|           No|           3365|           1917.0|       112|             360|             0|        Rural|          N|\n",
            "|LP001052|   Male|    Yes|         1|    Graduate|      unknown|           3717|           2925.0|       151|             360|             0|    Semiurban|          N|\n",
            "|LP001066|   Male|    Yes|         0|    Graduate|          Yes|           9560|              0.0|       191|             360|             1|    Semiurban|          Y|\n",
            "|LP001068|   Male|    Yes|         0|    Graduate|           No|           2799|           2253.0|       122|             360|             1|    Semiurban|          Y|\n",
            "|LP001073|   Male|    Yes|         2|Not Graduate|           No|           4226|           1040.0|       110|             360|             1|        Urban|          Y|\n",
            "|LP001086|   Male|     No|         0|Not Graduate|           No|           1442|              0.0|        35|             360|             1|        Urban|          N|\n",
            "|LP001087| Female|     No|         2|    Graduate|      unknown|           3750|           2083.0|       120|             360|             1|    Semiurban|          Y|\n",
            "|LP001091|   Male|    Yes|         1|    Graduate|      unknown|           4166|           3369.0|       201|             360|             0|        Urban|          N|\n",
            "|LP001095|   Male|     No|         0|    Graduate|           No|           3167|              0.0|        74|             360|             1|        Urban|          N|\n",
            "|LP001097|   Male|     No|         1|    Graduate|          Yes|           4692|              0.0|       106|             360|             1|        Rural|          N|\n",
            "|LP001098|   Male|    Yes|         0|    Graduate|           No|           3500|           1667.0|       114|             360|             1|    Semiurban|          Y|\n",
            "|LP001100|   Male|     No|        3+|    Graduate|           No|          12500|           3000.0|       320|             360|             1|        Rural|          N|\n",
            "|LP001106|   Male|    Yes|         0|    Graduate|           No|           2275|           2067.0|         0|             360|             1|        Urban|          Y|\n",
            "|LP001109|   Male|    Yes|         0|    Graduate|           No|           1828|           1330.0|       100|               0|             0|        Urban|          N|\n",
            "|LP001112| Female|    Yes|         0|    Graduate|           No|           3667|           1459.0|       144|             360|             1|    Semiurban|          Y|\n",
            "|LP001114|   Male|     No|         0|    Graduate|           No|           4166|           7210.0|       184|             360|             1|        Urban|          Y|\n",
            "|LP001116|   Male|     No|         0|Not Graduate|           No|           3748|           1668.0|       110|             360|             1|    Semiurban|          Y|\n",
            "|LP001119|   Male|     No|         0|    Graduate|           No|           3600|              0.0|        80|             360|             1|        Urban|          N|\n",
            "|LP001120|   Male|     No|         0|    Graduate|           No|           1800|           1213.0|        47|             360|             1|        Urban|          Y|\n",
            "|LP001123|   Male|    Yes|         0|    Graduate|           No|           2400|              0.0|        75|             360|             0|        Urban|          Y|\n",
            "|LP001131|   Male|    Yes|         0|    Graduate|           No|           3941|           2336.0|       134|             360|             1|    Semiurban|          Y|\n",
            "|LP001136|   Male|    Yes|         0|Not Graduate|          Yes|           4695|              0.0|        96|               0|             1|        Urban|          Y|\n",
            "|LP001137| Female|     No|         0|    Graduate|           No|           3410|              0.0|        88|               0|             1|        Urban|          Y|\n",
            "|LP001138|   Male|    Yes|         1|    Graduate|           No|           5649|              0.0|        44|             360|             1|        Urban|          Y|\n",
            "|LP001144|   Male|    Yes|         0|    Graduate|           No|           5821|              0.0|       144|             360|             1|        Urban|          Y|\n",
            "|LP001146| Female|    Yes|         0|    Graduate|           No|           2645|           3440.0|       120|             360|             0|        Urban|          N|\n",
            "|LP001151| Female|     No|         0|    Graduate|           No|           4000|           2275.0|       144|             360|             1|    Semiurban|          Y|\n",
            "|LP001155| Female|    Yes|         0|Not Graduate|           No|           1928|           1644.0|       100|             360|             1|    Semiurban|          Y|\n",
            "|LP001157| Female|     No|         0|    Graduate|           No|           3086|              0.0|       120|             360|             1|    Semiurban|          Y|\n",
            "|LP001164| Female|     No|         0|    Graduate|           No|           4230|              0.0|       112|             360|             1|    Semiurban|          N|\n",
            "|LP001179|   Male|    Yes|         2|    Graduate|           No|           4616|              0.0|       134|             360|             1|        Urban|          N|\n",
            "|LP001186| Female|    Yes|         1|    Graduate|          Yes|          11500|              0.0|       286|             360|             0|        Urban|          N|\n",
            "|LP001194|   Male|    Yes|         2|    Graduate|           No|           2708|           1167.0|        97|             360|             1|    Semiurban|          Y|\n",
            "|LP001195|   Male|    Yes|         0|    Graduate|           No|           2132|           1591.0|        96|             360|             1|    Semiurban|          Y|\n",
            "|LP001197|   Male|    Yes|         0|    Graduate|           No|           3366|           2200.0|       135|             360|             1|        Rural|          N|\n",
            "|LP001198|   Male|    Yes|         1|    Graduate|           No|           8080|           2250.0|       180|             360|             1|        Urban|          Y|\n",
            "|LP001199|   Male|    Yes|         2|Not Graduate|           No|           3357|           2859.0|       144|             360|             1|        Urban|          Y|\n",
            "|LP001205|   Male|    Yes|         0|    Graduate|           No|           2500|           3796.0|       120|             360|             1|        Urban|          Y|\n",
            "|LP001206|   Male|    Yes|        3+|    Graduate|           No|           3029|              0.0|        99|             360|             1|        Urban|          Y|\n",
            "|LP001207|   Male|    Yes|         0|Not Graduate|          Yes|           2609|           3449.0|       165|             180|             0|        Rural|          N|\n",
            "|LP001213|   Male|    Yes|         1|    Graduate|           No|           4945|              0.0|         0|             360|             0|        Rural|          N|\n",
            "|LP001222| Female|     No|         0|    Graduate|           No|           4166|              0.0|       116|             360|             0|    Semiurban|          N|\n",
            "|LP001225|   Male|    Yes|         0|    Graduate|           No|           5726|           4595.0|       258|             360|             1|    Semiurban|          N|\n",
            "|LP001228|   Male|     No|         0|Not Graduate|           No|           3200|           2254.0|       126|             180|             0|        Urban|          N|\n",
            "|LP001233|   Male|    Yes|         1|    Graduate|           No|          10750|              0.0|       312|             360|             1|        Urban|          Y|\n",
            "|LP001238|   Male|    Yes|        3+|Not Graduate|          Yes|           7100|              0.0|       125|              60|             1|        Urban|          Y|\n",
            "|LP001241| Female|     No|         0|    Graduate|           No|           4300|              0.0|       136|             360|             0|    Semiurban|          N|\n",
            "|LP001243|   Male|    Yes|         0|    Graduate|           No|           3208|           3066.0|       172|             360|             1|        Urban|          Y|\n",
            "|LP001245|   Male|    Yes|         2|Not Graduate|          Yes|           1875|           1875.0|        97|             360|             1|    Semiurban|          Y|\n",
            "|LP001248|   Male|     No|         0|    Graduate|           No|           3500|              0.0|        81|             300|             1|    Semiurban|          Y|\n",
            "|LP001250|   Male|    Yes|        3+|Not Graduate|           No|           4755|              0.0|        95|               0|             0|    Semiurban|          N|\n",
            "|LP001253|   Male|    Yes|        3+|    Graduate|          Yes|           5266|           1774.0|       187|             360|             1|    Semiurban|          Y|\n",
            "|LP001255|   Male|     No|         0|    Graduate|           No|           3750|              0.0|       113|             480|             1|        Urban|          N|\n",
            "|LP001256|   Male|     No|         0|    Graduate|           No|           3750|           4750.0|       176|             360|             1|        Urban|          N|\n",
            "|LP001259|   Male|    Yes|         1|    Graduate|          Yes|           1000|           3022.0|       110|             360|             1|        Urban|          N|\n",
            "|LP001263|   Male|    Yes|        3+|    Graduate|           No|           3167|           4000.0|       180|             300|             0|    Semiurban|          N|\n",
            "|LP001264|   Male|    Yes|        3+|Not Graduate|          Yes|           3333|           2166.0|       130|             360|             0|    Semiurban|          Y|\n",
            "|LP001265| Female|     No|         0|    Graduate|           No|           3846|              0.0|       111|             360|             1|    Semiurban|          Y|\n",
            "|LP001266|   Male|    Yes|         1|    Graduate|          Yes|           2395|              0.0|         0|             360|             1|    Semiurban|          Y|\n",
            "|LP001267| Female|    Yes|         2|    Graduate|           No|           1378|           1881.0|       167|             360|             1|        Urban|          N|\n",
            "|LP001273|   Male|    Yes|         0|    Graduate|           No|           6000|           2250.0|       265|             360|             0|    Semiurban|          N|\n",
            "|LP001275|   Male|    Yes|         1|    Graduate|           No|           3988|              0.0|        50|             240|             1|        Urban|          Y|\n",
            "|LP001279|   Male|     No|         0|    Graduate|           No|           2366|           2531.0|       136|             360|             1|    Semiurban|          Y|\n",
            "|LP001280|   Male|    Yes|         2|Not Graduate|           No|           3333|           2000.0|        99|             360|             0|    Semiurban|          Y|\n",
            "|LP001282|   Male|    Yes|         0|    Graduate|           No|           2500|           2118.0|       104|             360|             1|    Semiurban|          Y|\n",
            "|LP001289|   Male|     No|         0|    Graduate|           No|           8566|              0.0|       210|             360|             1|        Urban|          Y|\n",
            "|LP001310|   Male|    Yes|         0|    Graduate|           No|           5695|           4167.0|       175|             360|             1|    Semiurban|          Y|\n",
            "|LP001316|   Male|    Yes|         0|    Graduate|           No|           2958|           2900.0|       131|             360|             1|    Semiurban|          Y|\n",
            "|LP001318|   Male|    Yes|         2|    Graduate|           No|           6250|           5654.0|       188|             180|             1|    Semiurban|          Y|\n",
            "|LP001319|   Male|    Yes|         2|Not Graduate|           No|           3273|           1820.0|        81|             360|             1|        Urban|          Y|\n",
            "|LP001322|   Male|     No|         0|    Graduate|           No|           4133|              0.0|       122|             360|             1|    Semiurban|          Y|\n",
            "|LP001325|   Male|     No|         0|Not Graduate|           No|           3620|              0.0|        25|             120|             1|    Semiurban|          Y|\n",
            "|LP001326|   Male|     No|         0|    Graduate|      unknown|           6782|              0.0|         0|             360|             0|        Urban|          N|\n",
            "|LP001327| Female|    Yes|         0|    Graduate|           No|           2484|           2302.0|       137|             360|             1|    Semiurban|          Y|\n",
            "|LP001333|   Male|    Yes|         0|    Graduate|           No|           1977|            997.0|        50|             360|             1|    Semiurban|          Y|\n",
            "|LP001334|   Male|    Yes|         0|Not Graduate|           No|           4188|              0.0|       115|             180|             1|    Semiurban|          Y|\n",
            "|LP001343|   Male|    Yes|         0|    Graduate|           No|           1759|           3541.0|       131|             360|             1|    Semiurban|          Y|\n",
            "|LP001345|   Male|    Yes|         2|Not Graduate|           No|           4288|           3263.0|       133|             180|             1|        Urban|          Y|\n",
            "|LP001349|   Male|     No|         0|    Graduate|           No|           4843|           3806.0|       151|             360|             1|    Semiurban|          Y|\n",
            "|LP001350|   Male|    Yes|      null|    Graduate|           No|          13650|              0.0|         0|             360|             1|        Urban|          Y|\n",
            "|LP001356|   Male|    Yes|         0|    Graduate|           No|           4652|           3583.0|         0|             360|             1|    Semiurban|          Y|\n",
            "|LP001357|   Male|unknown|      null|    Graduate|           No|           3816|            754.0|       160|             360|             1|        Urban|          Y|\n",
            "|LP001367|   Male|    Yes|         1|    Graduate|           No|           3052|           1030.0|       100|             360|             1|        Urban|          Y|\n",
            "|LP001369|   Male|    Yes|         2|    Graduate|           No|          11417|           1126.0|       225|             360|             1|        Urban|          Y|\n",
            "|LP001370|   Male|     No|         0|Not Graduate|      unknown|           7333|              0.0|       120|             360|             1|        Rural|          N|\n",
            "|LP001379|   Male|    Yes|         2|    Graduate|           No|           3800|           3600.0|       216|             360|             0|        Urban|          N|\n",
            "|LP001384|   Male|    Yes|        3+|Not Graduate|           No|           2071|            754.0|        94|             480|             1|    Semiurban|          Y|\n",
            "|LP001385|   Male|     No|         0|    Graduate|           No|           5316|              0.0|       136|             360|             1|        Urban|          Y|\n",
            "|LP001387| Female|    Yes|         0|    Graduate|      unknown|           2929|           2333.0|       139|             360|             1|    Semiurban|          Y|\n",
            "|LP001391|   Male|    Yes|         0|Not Graduate|           No|           3572|           4114.0|       152|               0|             0|        Rural|          N|\n",
            "|LP001392| Female|     No|         1|    Graduate|          Yes|           7451|              0.0|         0|             360|             1|    Semiurban|          Y|\n",
            "|LP001398|   Male|     No|         0|    Graduate|      unknown|           5050|              0.0|       118|             360|             1|    Semiurban|          Y|\n",
            "|LP001401|   Male|    Yes|         1|    Graduate|           No|          14583|              0.0|       185|             180|             1|        Rural|          Y|\n",
            "|LP001404| Female|    Yes|         0|    Graduate|           No|           3167|           2283.0|       154|             360|             1|    Semiurban|          Y|\n",
            "|LP001405|   Male|    Yes|         1|    Graduate|           No|           2214|           1398.0|        85|             360|             0|        Urban|          Y|\n",
            "|LP001421|   Male|    Yes|         0|    Graduate|           No|           5568|           2142.0|       175|             360|             1|        Rural|          N|\n",
            "|LP001422| Female|     No|         0|    Graduate|           No|          10408|              0.0|       259|             360|             1|        Urban|          Y|\n",
            "|LP001426|   Male|    Yes|      null|    Graduate|           No|           5667|           2667.0|       180|             360|             1|        Rural|          Y|\n",
            "|LP001430| Female|     No|         0|    Graduate|           No|           4166|              0.0|        44|             360|             1|    Semiurban|          Y|\n",
            "|LP001431| Female|     No|         0|    Graduate|           No|           2137|           8980.0|       137|             360|             0|    Semiurban|          Y|\n",
            "|LP001432|   Male|    Yes|         2|    Graduate|           No|           2957|              0.0|        81|             360|             1|    Semiurban|          Y|\n",
            "|LP001439|   Male|    Yes|         0|Not Graduate|           No|           4300|           2014.0|       194|             360|             1|        Rural|          Y|\n",
            "|LP001443| Female|     No|         0|    Graduate|           No|           3692|              0.0|        93|             360|             0|        Rural|          Y|\n",
            "|LP001448|unknown|    Yes|        3+|    Graduate|           No|          23803|              0.0|       370|             360|             1|        Rural|          Y|\n",
            "|LP001449|   Male|     No|         0|    Graduate|           No|           3865|           1640.0|         0|             360|             1|        Rural|          Y|\n",
            "|LP001451|   Male|    Yes|         1|    Graduate|          Yes|          10513|           3850.0|       160|             180|             0|        Urban|          N|\n",
            "|LP001465|   Male|    Yes|         0|    Graduate|           No|           6080|           2569.0|       182|             360|             0|        Rural|          N|\n",
            "|LP001469|   Male|     No|         0|    Graduate|          Yes|          20166|              0.0|       650|             480|             0|        Urban|          Y|\n",
            "|LP001473|   Male|     No|         0|    Graduate|           No|           2014|           1929.0|        74|             360|             1|        Urban|          Y|\n",
            "|LP001478|   Male|     No|         0|    Graduate|           No|           2718|              0.0|        70|             360|             1|    Semiurban|          Y|\n",
            "|LP001482|   Male|    Yes|         0|    Graduate|          Yes|           3459|              0.0|        25|             120|             1|    Semiurban|          Y|\n",
            "|LP001487|   Male|     No|         0|    Graduate|           No|           4895|              0.0|       102|             360|             1|    Semiurban|          Y|\n",
            "|LP001488|   Male|    Yes|        3+|    Graduate|           No|           4000|           7750.0|       290|             360|             1|    Semiurban|          N|\n",
            "|LP001489| Female|    Yes|         0|    Graduate|           No|           4583|              0.0|        84|             360|             1|        Rural|          N|\n",
            "|LP001491|   Male|    Yes|         2|    Graduate|          Yes|           3316|           3500.0|        88|             360|             1|        Urban|          Y|\n",
            "|LP001492|   Male|     No|         0|    Graduate|           No|          14999|              0.0|       242|             360|             0|    Semiurban|          N|\n",
            "|LP001493|   Male|    Yes|         2|Not Graduate|           No|           4200|           1430.0|       129|             360|             1|        Rural|          N|\n",
            "|LP001497|   Male|    Yes|         2|    Graduate|           No|           5042|           2083.0|       185|             360|             1|        Rural|          N|\n",
            "|LP001498|   Male|     No|         0|    Graduate|           No|           5417|              0.0|       168|             360|             1|        Urban|          Y|\n",
            "|LP001504|   Male|     No|         0|    Graduate|          Yes|           6950|              0.0|       175|             180|             1|    Semiurban|          Y|\n",
            "|LP001507|   Male|    Yes|         0|    Graduate|           No|           2698|           2034.0|       122|             360|             1|    Semiurban|          Y|\n",
            "|LP001508|   Male|    Yes|         2|    Graduate|           No|          11757|              0.0|       187|             180|             1|        Urban|          Y|\n",
            "|LP001514| Female|    Yes|         0|    Graduate|           No|           2330|           4486.0|       100|             360|             1|    Semiurban|          Y|\n",
            "|LP001516| Female|    Yes|         2|    Graduate|           No|          14866|              0.0|        70|             360|             1|        Urban|          Y|\n",
            "|LP001518|   Male|    Yes|         1|    Graduate|           No|           1538|           1425.0|        30|             360|             1|        Urban|          Y|\n",
            "|LP001519| Female|     No|         0|    Graduate|           No|          10000|           1666.0|       225|             360|             1|        Rural|          N|\n",
            "|LP001520|   Male|    Yes|         0|    Graduate|           No|           4860|            830.0|       125|             360|             1|    Semiurban|          Y|\n",
            "|LP001528|   Male|     No|         0|    Graduate|           No|           6277|              0.0|       118|             360|             0|        Rural|          N|\n",
            "|LP001529|   Male|    Yes|         0|    Graduate|          Yes|           2577|           3750.0|       152|             360|             1|        Rural|          Y|\n",
            "|LP001531|   Male|     No|         0|    Graduate|           No|           9166|              0.0|       244|             360|             1|        Urban|          N|\n",
            "|LP001532|   Male|    Yes|         2|Not Graduate|           No|           2281|              0.0|       113|             360|             1|        Rural|          N|\n",
            "|LP001535|   Male|     No|         0|    Graduate|           No|           3254|              0.0|        50|             360|             1|        Urban|          Y|\n",
            "|LP001536|   Male|    Yes|        3+|    Graduate|           No|          39999|              0.0|       600|             180|             0|    Semiurban|          Y|\n",
            "|LP001541|   Male|    Yes|         1|    Graduate|           No|           6000|              0.0|       160|             360|             0|        Rural|          Y|\n",
            "|LP001543|   Male|    Yes|         1|    Graduate|           No|           9538|              0.0|       187|             360|             1|        Urban|          Y|\n",
            "|LP001546|   Male|     No|         0|    Graduate|      unknown|           2980|           2083.0|       120|             360|             1|        Rural|          Y|\n",
            "|LP001552|   Male|    Yes|         0|    Graduate|           No|           4583|           5625.0|       255|             360|             1|    Semiurban|          Y|\n",
            "|LP001560|   Male|    Yes|         0|Not Graduate|           No|           1863|           1041.0|        98|             360|             1|    Semiurban|          Y|\n",
            "|LP001562|   Male|    Yes|         0|    Graduate|           No|           7933|              0.0|       275|             360|             1|        Urban|          N|\n",
            "|LP001565|   Male|    Yes|         1|    Graduate|           No|           3089|           1280.0|       121|             360|             0|    Semiurban|          N|\n",
            "|LP001570|   Male|    Yes|         2|    Graduate|           No|           4167|           1447.0|       158|             360|             1|        Rural|          Y|\n",
            "|LP001572|   Male|    Yes|         0|    Graduate|           No|           9323|              0.0|        75|             180|             1|        Urban|          Y|\n",
            "|LP001574|   Male|    Yes|         0|    Graduate|           No|           3707|           3166.0|       182|               0|             1|        Rural|          Y|\n",
            "|LP001577| Female|    Yes|         0|    Graduate|           No|           4583|              0.0|       112|             360|             1|        Rural|          N|\n",
            "|LP001578|   Male|    Yes|         0|    Graduate|           No|           2439|           3333.0|       129|             360|             1|        Rural|          Y|\n",
            "|LP001579|   Male|     No|         0|    Graduate|           No|           2237|              0.0|        63|             480|             0|    Semiurban|          N|\n",
            "|LP001580|   Male|    Yes|         2|    Graduate|           No|           8000|              0.0|       200|             360|             1|    Semiurban|          Y|\n",
            "|LP001581|   Male|    Yes|         0|Not Graduate|      unknown|           1820|           1769.0|        95|             360|             1|        Rural|          Y|\n",
            "|LP001585|unknown|    Yes|        3+|    Graduate|           No|          51763|              0.0|       700|             300|             1|        Urban|          Y|\n",
            "|LP001586|   Male|    Yes|        3+|Not Graduate|           No|           3522|              0.0|        81|             180|             1|        Rural|          N|\n",
            "|LP001594|   Male|    Yes|         0|    Graduate|           No|           5708|           5625.0|       187|             360|             1|    Semiurban|          Y|\n",
            "|LP001603|   Male|    Yes|         0|Not Graduate|          Yes|           4344|            736.0|        87|             360|             1|    Semiurban|          N|\n",
            "|LP001606|   Male|    Yes|         0|    Graduate|           No|           3497|           1964.0|       116|             360|             1|        Rural|          Y|\n",
            "|LP001608|   Male|    Yes|         2|    Graduate|           No|           2045|           1619.0|       101|             360|             1|        Rural|          Y|\n",
            "|LP001610|   Male|    Yes|        3+|    Graduate|           No|           5516|          11300.0|       495|             360|             0|    Semiurban|          N|\n",
            "|LP001616|   Male|    Yes|         1|    Graduate|           No|           3750|              0.0|       116|             360|             1|    Semiurban|          Y|\n",
            "|LP001630|   Male|     No|         0|Not Graduate|           No|           2333|           1451.0|       102|             480|             0|        Urban|          N|\n",
            "|LP001633|   Male|    Yes|         1|    Graduate|           No|           6400|           7250.0|       180|             360|             0|        Urban|          N|\n",
            "|LP001634|   Male|     No|         0|    Graduate|           No|           1916|           5063.0|        67|             360|             0|        Rural|          N|\n",
            "|LP001636|   Male|    Yes|         0|    Graduate|           No|           4600|              0.0|        73|             180|             1|    Semiurban|          Y|\n",
            "|LP001637|   Male|    Yes|         1|    Graduate|           No|          33846|              0.0|       260|             360|             1|    Semiurban|          N|\n",
            "|LP001639| Female|    Yes|         0|    Graduate|           No|           3625|              0.0|       108|             360|             1|    Semiurban|          Y|\n",
            "|LP001640|   Male|    Yes|         0|    Graduate|          Yes|          39147|           4750.0|       120|             360|             1|    Semiurban|          Y|\n",
            "|LP001641|   Male|    Yes|         1|    Graduate|          Yes|           2178|              0.0|        66|             300|             0|        Rural|          N|\n",
            "|LP001643|   Male|    Yes|         0|    Graduate|           No|           2383|           2138.0|        58|             360|             0|        Rural|          Y|\n",
            "|LP001644|unknown|    Yes|         0|    Graduate|          Yes|            674|           5296.0|       168|             360|             1|        Rural|          Y|\n",
            "|LP001647|   Male|    Yes|         0|    Graduate|           No|           9328|              0.0|       188|             180|             1|        Rural|          Y|\n",
            "|LP001653|   Male|     No|         0|Not Graduate|           No|           4885|              0.0|        48|             360|             1|        Rural|          Y|\n",
            "|LP001656|   Male|     No|         0|    Graduate|           No|          12000|              0.0|       164|             360|             1|    Semiurban|          N|\n",
            "|LP001657|   Male|    Yes|         0|Not Graduate|           No|           6033|              0.0|       160|             360|             1|        Urban|          N|\n",
            "|LP001658|   Male|     No|         0|    Graduate|           No|           3858|              0.0|        76|             360|             1|    Semiurban|          Y|\n",
            "|LP001664|   Male|     No|         0|    Graduate|           No|           4191|              0.0|       120|             360|             1|        Rural|          Y|\n",
            "|LP001665|   Male|    Yes|         1|    Graduate|           No|           3125|           2583.0|       170|             360|             1|    Semiurban|          N|\n",
            "|LP001666|   Male|     No|         0|    Graduate|           No|           8333|           3750.0|       187|             360|             1|        Rural|          Y|\n",
            "|LP001669| Female|     No|         0|Not Graduate|           No|           1907|           2365.0|       120|               0|             1|        Urban|          Y|\n",
            "|LP001671| Female|    Yes|         0|    Graduate|           No|           3416|           2816.0|       113|             360|             0|    Semiurban|          Y|\n",
            "|LP001673|   Male|     No|         0|    Graduate|          Yes|          11000|              0.0|        83|             360|             1|        Urban|          N|\n",
            "+--------+-------+-------+----------+------------+-------------+---------------+-----------------+----------+----------------+--------------+-------------+-----------+\n",
            "only showing top 200 rows\n",
            "\n"
          ],
          "name": "stdout"
        }
      ]
    },
    {
      "cell_type": "code",
      "metadata": {
        "colab": {
          "base_uri": "https://localhost:8080/"
        },
        "id": "XZyi1iDtqOMH",
        "outputId": "dfec3261-e37b-4cde-d795-e5a3fbbb804e"
      },
      "source": [
        "#Datatypes of the columns\n",
        "my_data.dtypes"
      ],
      "execution_count": 403,
      "outputs": [
        {
          "output_type": "execute_result",
          "data": {
            "text/plain": [
              "[('Loan_ID', 'string'),\n",
              " ('Gender', 'string'),\n",
              " ('Married', 'string'),\n",
              " ('Dependents', 'string'),\n",
              " ('Education', 'string'),\n",
              " ('Self_Employed', 'string'),\n",
              " ('ApplicantIncome', 'int'),\n",
              " ('CoapplicantIncome', 'double'),\n",
              " ('LoanAmount', 'int'),\n",
              " ('Loan_Amount_Term', 'int'),\n",
              " ('Credit_History', 'int'),\n",
              " ('Property_Area', 'string'),\n",
              " ('Loan_Status', 'string')]"
            ]
          },
          "metadata": {
            "tags": []
          },
          "execution_count": 403
        }
      ]
    },
    {
      "cell_type": "code",
      "metadata": {
        "colab": {
          "base_uri": "https://localhost:8080/"
        },
        "id": "7BF1H8EwqSJT",
        "outputId": "2aeb53a7-a45e-4d9f-bfa8-d828fa2c921d"
      },
      "source": [
        "#Drop unwanted columns\n",
        "my_data = my_data.drop(*['Loan_ID','Self_Employed','Dependents'])\n",
        "my_data.columns"
      ],
      "execution_count": 404,
      "outputs": [
        {
          "output_type": "execute_result",
          "data": {
            "text/plain": [
              "['Gender',\n",
              " 'Married',\n",
              " 'Education',\n",
              " 'ApplicantIncome',\n",
              " 'CoapplicantIncome',\n",
              " 'LoanAmount',\n",
              " 'Loan_Amount_Term',\n",
              " 'Credit_History',\n",
              " 'Property_Area',\n",
              " 'Loan_Status']"
            ]
          },
          "metadata": {
            "tags": []
          },
          "execution_count": 404
        }
      ]
    },
    {
      "cell_type": "code",
      "metadata": {
        "colab": {
          "base_uri": "https://localhost:8080/"
        },
        "id": "rW_VBRayqzQW",
        "outputId": "5d83b36a-adbe-4ed9-f74a-29fa4b6e681d"
      },
      "source": [
        "# get the dimensions of the data\n",
        "(my_data.count() , len(my_data.columns))"
      ],
      "execution_count": 405,
      "outputs": [
        {
          "output_type": "execute_result",
          "data": {
            "text/plain": [
              "(614, 10)"
            ]
          },
          "metadata": {
            "tags": []
          },
          "execution_count": 405
        }
      ]
    },
    {
      "cell_type": "code",
      "metadata": {
        "colab": {
          "base_uri": "https://localhost:8080/"
        },
        "id": "qfZ2NhUpq112",
        "outputId": "091f3fda-ceb3-4ff9-d0c1-13137b03e1ea"
      },
      "source": [
        "# import sql function pyspark\n",
        "import pyspark.sql.functions as f\n",
        "# fill the null values\n",
        "my_data = my_data.fillna(0)\n",
        "# null values in each column\n",
        "data_agg = my_data.agg(*[f.count(f.when(f.isnull(c), c)).alias(c) for c in my_data.columns])\n",
        "data_agg.show()\n"
      ],
      "execution_count": 406,
      "outputs": [
        {
          "output_type": "stream",
          "text": [
            "+------+-------+---------+---------------+-----------------+----------+----------------+--------------+-------------+-----------+\n",
            "|Gender|Married|Education|ApplicantIncome|CoapplicantIncome|LoanAmount|Loan_Amount_Term|Credit_History|Property_Area|Loan_Status|\n",
            "+------+-------+---------+---------------+-----------------+----------+----------------+--------------+-------------+-----------+\n",
            "|     0|      0|        0|              0|                0|         0|               0|             0|            0|          0|\n",
            "+------+-------+---------+---------------+-----------------+----------+----------------+--------------+-------------+-----------+\n",
            "\n"
          ],
          "name": "stdout"
        }
      ]
    },
    {
      "cell_type": "code",
      "metadata": {
        "colab": {
          "base_uri": "https://localhost:8080/"
        },
        "id": "pXPnt_4KreL-",
        "outputId": "59b232bb-0f48-4de2-a51e-05dd9d1b0305"
      },
      "source": [
        "my_data.dtypes"
      ],
      "execution_count": 407,
      "outputs": [
        {
          "output_type": "execute_result",
          "data": {
            "text/plain": [
              "[('Gender', 'string'),\n",
              " ('Married', 'string'),\n",
              " ('Education', 'string'),\n",
              " ('ApplicantIncome', 'int'),\n",
              " ('CoapplicantIncome', 'double'),\n",
              " ('LoanAmount', 'int'),\n",
              " ('Loan_Amount_Term', 'int'),\n",
              " ('Credit_History', 'int'),\n",
              " ('Property_Area', 'string'),\n",
              " ('Loan_Status', 'string')]"
            ]
          },
          "metadata": {
            "tags": []
          },
          "execution_count": 407
        }
      ]
    },
    {
      "cell_type": "code",
      "metadata": {
        "id": "stLorYWJrQJS"
      },
      "source": [
        "\n",
        "#Preprocessing steps\n",
        "from pyspark.ml.feature import StringIndexer, OneHotEncoder\n",
        "\n",
        "# create object of StringIndexer class and specify input and output column\n",
        "SI_Gender = StringIndexer(inputCol='Gender',outputCol='Gender_Index')\n",
        "SI_Married = StringIndexer(inputCol='Married',outputCol='Married_Index')\n",
        "SI_Education = StringIndexer(inputCol='Education',outputCol='Education_Index')\n",
        "SI_ApplicantIncome = StringIndexer(inputCol='ApplicantIncome',outputCol='ApplicantIncome_Index')\n",
        "SI_CoapplicantIncome = StringIndexer(inputCol='CoapplicantIncome',outputCol='CoapplicantIncome_Index')\n",
        "SI_LoanAmount = StringIndexer(inputCol='LoanAmount',outputCol='LoanAmount_Index')\n",
        "SI_Loan_Amount_Term = StringIndexer(inputCol='Loan_Amount_Term',outputCol='Loan_Amount_Term_Index')\n",
        "SI_Credit_History = StringIndexer(inputCol='Credit_History',outputCol='Credit_History_Index')\n",
        "SI_Property_Area = StringIndexer(inputCol='Property_Area',outputCol='Property_Area_Index')\n",
        "SI_Loan_Status = StringIndexer(inputCol='Loan_Status',outputCol='Loan_Status_Index')\n",
        "\n",
        "\n",
        "\n",
        "\n",
        "# transform the data\n",
        "my_data = SI_Gender.fit(my_data).transform(my_data)\n",
        "my_data = SI_Married.fit(my_data).transform(my_data)\n",
        "my_data = SI_Education.fit(my_data).transform(my_data)\n",
        "my_data = SI_ApplicantIncome.fit(my_data).transform(my_data)\n",
        "my_data = SI_CoapplicantIncome.fit(my_data).transform(my_data)\n",
        "my_data = SI_LoanAmount.fit(my_data).transform(my_data)\n",
        "my_data = SI_Loan_Amount_Term.fit(my_data).transform(my_data)\n",
        "my_data = SI_Credit_History.fit(my_data).transform(my_data)\n",
        "my_data = SI_Property_Area.fit(my_data).transform(my_data)\n",
        "my_data = SI_Loan_Status.fit(my_data).transform(my_data)\n"
      ],
      "execution_count": 408,
      "outputs": []
    },
    {
      "cell_type": "code",
      "metadata": {
        "colab": {
          "base_uri": "https://localhost:8080/"
        },
        "id": "W9x_aO7lPDc0",
        "outputId": "e450e4d4-9cfe-44c0-b9ed-41b917af04f3"
      },
      "source": [
        "my_data.show(300)"
      ],
      "execution_count": 409,
      "outputs": [
        {
          "output_type": "stream",
          "text": [
            "+-------+-------+------------+---------------+-----------------+----------+----------------+--------------+-------------+-----------+------------+-------------+---------------+---------------------+-----------------------+----------------+----------------------+--------------------+-------------------+-----------------+\n",
            "| Gender|Married|   Education|ApplicantIncome|CoapplicantIncome|LoanAmount|Loan_Amount_Term|Credit_History|Property_Area|Loan_Status|Gender_Index|Married_Index|Education_Index|ApplicantIncome_Index|CoapplicantIncome_Index|LoanAmount_Index|Loan_Amount_Term_Index|Credit_History_Index|Property_Area_Index|Loan_Status_Index|\n",
            "+-------+-------+------------+---------------+-----------------+----------+----------------+--------------+-------------+-----------+------------+-------------+---------------+---------------------+-----------------------+----------------+----------------------+--------------------+-------------------+-----------------+\n",
            "|   Male|     No|    Graduate|           5849|              0.0|         0|             360|             1|        Urban|          Y|         0.0|          1.0|            0.0|                430.0|                    0.0|             0.0|                   0.0|                 0.0|                1.0|              0.0|\n",
            "|   Male|    Yes|    Graduate|           4583|           1508.0|       128|             360|             1|        Rural|          N|         0.0|          0.0|            0.0|                  2.0|                   76.0|             7.0|                   0.0|                 0.0|                2.0|              1.0|\n",
            "|   Male|    Yes|    Graduate|           3000|              0.0|        66|             360|             1|        Urban|          Y|         0.0|          0.0|            0.0|                 14.0|                    0.0|            52.0|                   0.0|                 0.0|                1.0|              0.0|\n",
            "|   Male|    Yes|Not Graduate|           2583|           2358.0|       120|             360|             1|        Urban|          Y|         0.0|          0.0|            1.0|                  9.0|                  160.0|             1.0|                   0.0|                 0.0|                1.0|              0.0|\n",
            "|   Male|     No|    Graduate|           6000|              0.0|       141|             360|             1|        Urban|          Y|         0.0|          1.0|            0.0|                  3.0|                    0.0|            84.0|                   0.0|                 0.0|                1.0|              0.0|\n",
            "|   Male|    Yes|    Graduate|           5417|           4196.0|       267|             360|             1|        Urban|          Y|         0.0|          0.0|            0.0|                 21.0|                  234.0|           150.0|                   0.0|                 0.0|                1.0|              0.0|\n",
            "|   Male|    Yes|Not Graduate|           2333|           1516.0|        95|             360|             1|        Urban|          Y|         0.0|          0.0|            1.0|                 13.0|                   77.0|             9.0|                   0.0|                 0.0|                1.0|              0.0|\n",
            "|   Male|    Yes|    Graduate|           3036|           2504.0|       158|             360|             0|    Semiurban|          N|         0.0|          0.0|            0.0|                224.0|                  174.0|            24.0|                   0.0|                 1.0|                0.0|              1.0|\n",
            "|   Male|    Yes|    Graduate|           4006|           1526.0|       168|             360|             1|        Urban|          Y|         0.0|          0.0|            0.0|                334.0|                   79.0|            65.0|                   0.0|                 0.0|                1.0|              0.0|\n",
            "|   Male|    Yes|    Graduate|          12841|          10968.0|       349|             360|             1|    Semiurban|          N|         0.0|          0.0|            0.0|                 75.0|                   49.0|           166.0|                   0.0|                 0.0|                0.0|              1.0|\n",
            "|   Male|    Yes|    Graduate|           3200|            700.0|        70|             360|             1|        Urban|          Y|         0.0|          0.0|            0.0|                 41.0|                  269.0|            13.0|                   0.0|                 0.0|                1.0|              0.0|\n",
            "|   Male|    Yes|    Graduate|           2500|           1840.0|       109|             360|             1|        Urban|          Y|         0.0|          0.0|            0.0|                  0.0|                  107.0|            79.0|                   0.0|                 0.0|                1.0|              0.0|\n",
            "|   Male|    Yes|    Graduate|           3073|           8106.0|       200|             360|             1|        Urban|          Y|         0.0|          0.0|            0.0|                228.0|                  278.0|            37.0|                   0.0|                 0.0|                1.0|              0.0|\n",
            "|   Male|     No|    Graduate|           1853|           2840.0|       114|             360|             1|        Rural|          N|         0.0|          1.0|            0.0|                111.0|                  187.0|            80.0|                   0.0|                 0.0|                2.0|              1.0|\n",
            "|   Male|    Yes|    Graduate|           1299|           1086.0|        17|             120|             1|        Urban|          Y|         0.0|          0.0|            0.0|                 77.0|                   48.0|           124.0|                   7.0|                 0.0|                1.0|              0.0|\n",
            "|   Male|     No|    Graduate|           4950|              0.0|       125|             360|             1|        Urban|          Y|         0.0|          1.0|            0.0|                396.0|                    0.0|            15.0|                   0.0|                 0.0|                1.0|              0.0|\n",
            "|   Male|     No|Not Graduate|           3596|              0.0|       100|             240|             0|        Urban|          Y|         0.0|          1.0|            1.0|                285.0|                    0.0|             3.0|                   5.0|                 1.0|                1.0|              0.0|\n",
            "| Female|     No|    Graduate|           3510|              0.0|        76|             360|             0|        Urban|          N|         1.0|          1.0|            0.0|                 44.0|                    0.0|           108.0|                   0.0|                 1.0|                1.0|              1.0|\n",
            "|   Male|    Yes|Not Graduate|           4887|              0.0|       133|             360|             1|        Rural|          N|         0.0|          0.0|            1.0|                390.0|                    0.0|            33.0|                   0.0|                 0.0|                2.0|              1.0|\n",
            "|   Male|    Yes|    Graduate|           2600|           3500.0|       115|               0|             1|        Urban|          Y|         0.0|          0.0|            0.0|                  1.0|                   34.0|            12.0|                   3.0|                 0.0|                1.0|              0.0|\n",
            "|   Male|    Yes|Not Graduate|           7660|              0.0|       104|             360|             0|        Urban|          N|         0.0|          0.0|            1.0|                476.0|                    0.0|            14.0|                   0.0|                 1.0|                1.0|              1.0|\n",
            "|   Male|    Yes|    Graduate|           5955|           5625.0|       315|             360|             1|        Urban|          Y|         0.0|          0.0|            0.0|                434.0|                   10.0|           162.0|                   0.0|                 0.0|                1.0|              0.0|\n",
            "|   Male|    Yes|Not Graduate|           2600|           1911.0|       116|             360|             0|    Semiurban|          N|         0.0|          0.0|            1.0|                  1.0|                  117.0|            20.0|                   0.0|                 1.0|                0.0|              1.0|\n",
            "|unknown|    Yes|Not Graduate|           3365|           1917.0|       112|             360|             0|        Rural|          N|         2.0|          0.0|            1.0|                261.0|                   21.0|            11.0|                   0.0|                 1.0|                2.0|              1.0|\n",
            "|   Male|    Yes|    Graduate|           3717|           2925.0|       151|             360|             0|    Semiurban|          N|         0.0|          0.0|            0.0|                 46.0|                   31.0|            46.0|                   0.0|                 1.0|                0.0|              1.0|\n",
            "|   Male|    Yes|    Graduate|           9560|              0.0|       191|             360|             1|    Semiurban|          Y|         0.0|          0.0|            0.0|                501.0|                    0.0|           128.0|                   0.0|                 0.0|                0.0|              0.0|\n",
            "|   Male|    Yes|    Graduate|           2799|           2253.0|       122|             360|             1|    Semiurban|          Y|         0.0|          0.0|            0.0|                198.0|                  151.0|            40.0|                   0.0|                 0.0|                0.0|              0.0|\n",
            "|   Male|    Yes|Not Graduate|           4226|           1040.0|       110|             360|             1|        Urban|          Y|         0.0|          0.0|            1.0|                350.0|                   45.0|             2.0|                   0.0|                 0.0|                1.0|              0.0|\n",
            "|   Male|     No|Not Graduate|           1442|              0.0|        35|             360|             1|        Urban|          N|         0.0|          1.0|            1.0|                 81.0|                    0.0|           167.0|                   0.0|                 0.0|                1.0|              1.0|\n",
            "| Female|     No|    Graduate|           3750|           2083.0|       120|             360|             1|    Semiurban|          Y|         1.0|          1.0|            0.0|                  5.0|                    2.0|             1.0|                   0.0|                 0.0|                0.0|              0.0|\n",
            "|   Male|    Yes|    Graduate|           4166|           3369.0|       201|             360|             0|        Urban|          N|         0.0|          0.0|            0.0|                  6.0|                  211.0|            95.0|                   0.0|                 1.0|                1.0|              1.0|\n",
            "|   Male|     No|    Graduate|           3167|              0.0|        74|             360|             1|        Urban|          N|         0.0|          1.0|            0.0|                 16.0|                    0.0|            75.0|                   0.0|                 0.0|                1.0|              1.0|\n",
            "|   Male|     No|    Graduate|           4692|              0.0|       106|             360|             1|        Rural|          N|         0.0|          1.0|            0.0|                377.0|                    0.0|            78.0|                   0.0|                 0.0|                2.0|              1.0|\n",
            "|   Male|    Yes|    Graduate|           3500|           1667.0|       114|             360|             1|    Semiurban|          Y|         0.0|          0.0|            0.0|                 18.0|                   17.0|            80.0|                   0.0|                 0.0|                0.0|              0.0|\n",
            "|   Male|     No|    Graduate|          12500|           3000.0|       320|             360|             1|        Rural|          N|         0.0|          1.0|            0.0|                 74.0|                   32.0|           163.0|                   0.0|                 0.0|                2.0|              1.0|\n",
            "|   Male|    Yes|    Graduate|           2275|           2067.0|         0|             360|             1|        Urban|          Y|         0.0|          0.0|            0.0|                149.0|                  132.0|             0.0|                   0.0|                 0.0|                1.0|              0.0|\n",
            "|   Male|    Yes|    Graduate|           1828|           1330.0|       100|               0|             0|        Urban|          N|         0.0|          0.0|            0.0|                107.0|                   63.0|             3.0|                   3.0|                 1.0|                1.0|              1.0|\n",
            "| Female|    Yes|    Graduate|           3667|           1459.0|       144|             360|             1|    Semiurban|          Y|         1.0|          0.0|            0.0|                 45.0|                    4.0|            22.0|                   0.0|                 0.0|                0.0|              0.0|\n",
            "|   Male|     No|    Graduate|           4166|           7210.0|       184|             360|             1|        Urban|          Y|         0.0|          1.0|            0.0|                  6.0|                  272.0|            91.0|                   0.0|                 0.0|                1.0|              0.0|\n",
            "|   Male|     No|Not Graduate|           3748|           1668.0|       110|             360|             1|    Semiurban|          Y|         0.0|          1.0|            1.0|                304.0|                   91.0|             2.0|                   0.0|                 0.0|                0.0|              0.0|\n",
            "|   Male|     No|    Graduate|           3600|              0.0|        80|             360|             1|        Urban|          N|         0.0|          1.0|            0.0|                288.0|                    0.0|            27.0|                   0.0|                 0.0|                1.0|              1.0|\n",
            "|   Male|     No|    Graduate|           1800|           1213.0|        47|             360|             1|        Urban|          Y|         0.0|          1.0|            0.0|                 25.0|                   56.0|           179.0|                   0.0|                 0.0|                1.0|              0.0|\n",
            "|   Male|    Yes|    Graduate|           2400|              0.0|        75|             360|             0|        Urban|          Y|         0.0|          0.0|            0.0|                  8.0|                    0.0|            76.0|                   0.0|                 1.0|                1.0|              0.0|\n",
            "|   Male|    Yes|    Graduate|           3941|           2336.0|       134|             360|             1|    Semiurban|          Y|         0.0|          0.0|            0.0|                326.0|                  158.0|            44.0|                   0.0|                 0.0|                0.0|              0.0|\n",
            "|   Male|    Yes|Not Graduate|           4695|              0.0|        96|               0|             1|        Urban|          Y|         0.0|          0.0|            1.0|                378.0|                    0.0|            10.0|                   3.0|                 0.0|                1.0|              0.0|\n",
            "| Female|     No|    Graduate|           3410|              0.0|        88|               0|             1|        Urban|          Y|         1.0|          1.0|            0.0|                266.0|                    0.0|            54.0|                   3.0|                 0.0|                1.0|              0.0|\n",
            "|   Male|    Yes|    Graduate|           5649|              0.0|        44|             360|             1|        Urban|          Y|         0.0|          0.0|            0.0|                417.0|                    0.0|           104.0|                   0.0|                 0.0|                1.0|              0.0|\n",
            "|   Male|    Yes|    Graduate|           5821|              0.0|       144|             360|             1|        Urban|          Y|         0.0|          0.0|            0.0|                428.0|                    0.0|            22.0|                   0.0|                 0.0|                1.0|              0.0|\n",
            "| Female|    Yes|    Graduate|           2645|           3440.0|       120|             360|             0|        Urban|          N|         1.0|          0.0|            0.0|                178.0|                  215.0|             1.0|                   0.0|                 1.0|                1.0|              1.0|\n",
            "| Female|     No|    Graduate|           4000|           2275.0|       144|             360|             1|    Semiurban|          Y|         1.0|          1.0|            0.0|                 19.0|                  153.0|            22.0|                   0.0|                 0.0|                0.0|              0.0|\n",
            "| Female|    Yes|Not Graduate|           1928|           1644.0|       100|             360|             1|    Semiurban|          Y|         1.0|          0.0|            1.0|                118.0|                   89.0|             3.0|                   0.0|                 0.0|                0.0|              0.0|\n",
            "| Female|     No|    Graduate|           3086|              0.0|       120|             360|             1|    Semiurban|          Y|         1.0|          1.0|            0.0|                231.0|                    0.0|             1.0|                   0.0|                 0.0|                0.0|              0.0|\n",
            "| Female|     No|    Graduate|           4230|              0.0|       112|             360|             1|    Semiurban|          N|         1.0|          1.0|            0.0|                351.0|                    0.0|            11.0|                   0.0|                 0.0|                0.0|              1.0|\n",
            "|   Male|    Yes|    Graduate|           4616|              0.0|       134|             360|             1|        Urban|          N|         0.0|          0.0|            0.0|                371.0|                    0.0|            44.0|                   0.0|                 0.0|                1.0|              1.0|\n",
            "| Female|    Yes|    Graduate|          11500|              0.0|       286|             360|             0|        Urban|          N|         1.0|          0.0|            0.0|                 72.0|                    0.0|           153.0|                   0.0|                 1.0|                1.0|              1.0|\n",
            "|   Male|    Yes|    Graduate|           2708|           1167.0|        97|             360|             1|    Semiurban|          Y|         0.0|          0.0|            0.0|                186.0|                   54.0|           110.0|                   0.0|                 0.0|                0.0|              0.0|\n",
            "|   Male|    Yes|    Graduate|           2132|           1591.0|        96|             360|             1|    Semiurban|          Y|         0.0|          0.0|            0.0|                136.0|                   83.0|            10.0|                   0.0|                 0.0|                0.0|              0.0|\n",
            "|   Male|    Yes|    Graduate|           3366|           2200.0|       135|             360|             1|        Rural|          N|         0.0|          0.0|            0.0|                262.0|                  146.0|            17.0|                   0.0|                 0.0|                2.0|              1.0|\n",
            "|   Male|    Yes|    Graduate|           8080|           2250.0|       180|             360|             1|        Urban|          Y|         0.0|          0.0|            0.0|                485.0|                    8.0|            26.0|                   0.0|                 0.0|                1.0|              0.0|\n",
            "|   Male|    Yes|Not Graduate|           3357|           2859.0|       144|             360|             1|        Urban|          Y|         0.0|          0.0|            1.0|                259.0|                  190.0|            22.0|                   0.0|                 0.0|                1.0|              0.0|\n",
            "|   Male|    Yes|    Graduate|           2500|           3796.0|       120|             360|             1|        Urban|          Y|         0.0|          0.0|            0.0|                  0.0|                  224.0|             1.0|                   0.0|                 0.0|                1.0|              0.0|\n",
            "|   Male|    Yes|    Graduate|           3029|              0.0|        99|             360|             1|        Urban|          Y|         0.0|          0.0|            0.0|                222.0|                    0.0|            57.0|                   0.0|                 0.0|                1.0|              0.0|\n",
            "|   Male|    Yes|Not Graduate|           2609|           3449.0|       165|             180|             0|        Rural|          N|         0.0|          0.0|            1.0|                175.0|                  217.0|            64.0|                   1.0|                 1.0|                2.0|              1.0|\n",
            "|   Male|    Yes|    Graduate|           4945|              0.0|         0|             360|             0|        Rural|          N|         0.0|          0.0|            0.0|                395.0|                    0.0|             0.0|                   0.0|                 1.0|                2.0|              1.0|\n",
            "| Female|     No|    Graduate|           4166|              0.0|       116|             360|             0|    Semiurban|          N|         1.0|          1.0|            0.0|                  6.0|                    0.0|            20.0|                   0.0|                 1.0|                0.0|              1.0|\n",
            "|   Male|    Yes|    Graduate|           5726|           4595.0|       258|             360|             1|    Semiurban|          N|         0.0|          0.0|            0.0|                422.0|                  245.0|           100.0|                   0.0|                 0.0|                0.0|              1.0|\n",
            "|   Male|     No|Not Graduate|           3200|           2254.0|       126|             180|             0|        Urban|          N|         0.0|          1.0|            1.0|                 41.0|                  152.0|            42.0|                   1.0|                 1.0|                1.0|              1.0|\n",
            "|   Male|    Yes|    Graduate|          10750|              0.0|       312|             360|             1|        Urban|          Y|         0.0|          0.0|            0.0|                 66.0|                    0.0|           161.0|                   0.0|                 0.0|                1.0|              0.0|\n",
            "|   Male|    Yes|Not Graduate|           7100|              0.0|       125|              60|             1|        Urban|          Y|         0.0|          0.0|            1.0|                467.0|                    0.0|            15.0|                   9.0|                 0.0|                1.0|              0.0|\n",
            "| Female|     No|    Graduate|           4300|              0.0|       136|             360|             0|    Semiurban|          N|         1.0|          1.0|            0.0|                 49.0|                    0.0|            18.0|                   0.0|                 1.0|                0.0|              1.0|\n",
            "|   Male|    Yes|    Graduate|           3208|           3066.0|       172|             360|             1|        Urban|          Y|         0.0|          0.0|            0.0|                244.0|                  199.0|            47.0|                   0.0|                 0.0|                1.0|              0.0|\n",
            "|   Male|    Yes|Not Graduate|           1875|           1875.0|        97|             360|             1|    Semiurban|          Y|         0.0|          0.0|            1.0|                113.0|                  114.0|           110.0|                   0.0|                 0.0|                0.0|              0.0|\n",
            "|   Male|     No|    Graduate|           3500|              0.0|        81|             300|             1|    Semiurban|          Y|         0.0|          1.0|            0.0|                 18.0|                    0.0|            28.0|                   4.0|                 0.0|                0.0|              0.0|\n",
            "|   Male|    Yes|Not Graduate|           4755|              0.0|        95|               0|             0|    Semiurban|          N|         0.0|          0.0|            1.0|                383.0|                    0.0|             9.0|                   3.0|                 1.0|                0.0|              1.0|\n",
            "|   Male|    Yes|    Graduate|           5266|           1774.0|       187|             360|             1|    Semiurban|          Y|         0.0|          0.0|            0.0|                406.0|                   99.0|             5.0|                   0.0|                 0.0|                0.0|              0.0|\n",
            "|   Male|     No|    Graduate|           3750|              0.0|       113|             480|             1|        Urban|          N|         0.0|          1.0|            0.0|                  5.0|                    0.0|             6.0|                   2.0|                 0.0|                1.0|              1.0|\n",
            "|   Male|     No|    Graduate|           3750|           4750.0|       176|             360|             1|        Urban|          N|         0.0|          1.0|            0.0|                  5.0|                   38.0|            90.0|                   0.0|                 0.0|                1.0|              1.0|\n",
            "|   Male|    Yes|    Graduate|           1000|           3022.0|       110|             360|             1|        Urban|          N|         0.0|          0.0|            0.0|                 60.0|                  196.0|             2.0|                   0.0|                 0.0|                1.0|              1.0|\n",
            "|   Male|    Yes|    Graduate|           3167|           4000.0|       180|             300|             0|    Semiurban|          N|         0.0|          0.0|            0.0|                 16.0|                  230.0|            26.0|                   4.0|                 1.0|                0.0|              1.0|\n",
            "|   Male|    Yes|Not Graduate|           3333|           2166.0|       130|             360|             0|    Semiurban|          Y|         0.0|          0.0|            1.0|                  4.0|                  143.0|             8.0|                   0.0|                 1.0|                0.0|              0.0|\n",
            "| Female|     No|    Graduate|           3846|              0.0|       111|             360|             1|    Semiurban|          Y|         1.0|          1.0|            0.0|                314.0|                    0.0|            31.0|                   0.0|                 0.0|                0.0|              0.0|\n",
            "|   Male|    Yes|    Graduate|           2395|              0.0|         0|             360|             1|    Semiurban|          Y|         0.0|          0.0|            0.0|                158.0|                    0.0|             0.0|                   0.0|                 0.0|                0.0|              0.0|\n",
            "| Female|    Yes|    Graduate|           1378|           1881.0|       167|             360|             1|        Urban|          N|         1.0|          0.0|            0.0|                 80.0|                  115.0|           123.0|                   0.0|                 0.0|                1.0|              1.0|\n",
            "|   Male|    Yes|    Graduate|           6000|           2250.0|       265|             360|             0|    Semiurban|          N|         0.0|          0.0|            0.0|                  3.0|                    8.0|           149.0|                   0.0|                 1.0|                0.0|              1.0|\n",
            "|   Male|    Yes|    Graduate|           3988|              0.0|        50|             240|             1|        Urban|          Y|         0.0|          0.0|            0.0|                330.0|                    0.0|            49.0|                   5.0|                 0.0|                1.0|              0.0|\n",
            "|   Male|     No|    Graduate|           2366|           2531.0|       136|             360|             1|    Semiurban|          Y|         0.0|          1.0|            0.0|                156.0|                   28.0|            18.0|                   0.0|                 0.0|                0.0|              0.0|\n",
            "|   Male|    Yes|Not Graduate|           3333|           2000.0|        99|             360|             0|    Semiurban|          Y|         0.0|          0.0|            1.0|                  4.0|                   23.0|            57.0|                   0.0|                 1.0|                0.0|              0.0|\n",
            "|   Male|    Yes|    Graduate|           2500|           2118.0|       104|             360|             1|    Semiurban|          Y|         0.0|          0.0|            0.0|                  0.0|                  137.0|            14.0|                   0.0|                 0.0|                0.0|              0.0|\n",
            "|   Male|     No|    Graduate|           8566|              0.0|       210|             360|             1|        Urban|          Y|         0.0|          1.0|            0.0|                489.0|                    0.0|            97.0|                   0.0|                 0.0|                1.0|              0.0|\n",
            "|   Male|    Yes|    Graduate|           5695|           4167.0|       175|             360|             1|    Semiurban|          Y|         0.0|          0.0|            0.0|                420.0|                   36.0|            25.0|                   0.0|                 0.0|                0.0|              0.0|\n",
            "|   Male|    Yes|    Graduate|           2958|           2900.0|       131|             360|             1|    Semiurban|          Y|         0.0|          0.0|            0.0|                212.0|                  191.0|            43.0|                   0.0|                 0.0|                0.0|              0.0|\n",
            "|   Male|    Yes|    Graduate|           6250|           5654.0|       188|             180|             1|    Semiurban|          Y|         0.0|          0.0|            0.0|                 10.0|                  262.0|            68.0|                   1.0|                 0.0|                0.0|              0.0|\n",
            "|   Male|    Yes|Not Graduate|           3273|           1820.0|        81|             360|             1|        Urban|          Y|         0.0|          0.0|            1.0|                252.0|                  106.0|            28.0|                   0.0|                 0.0|                1.0|              0.0|\n",
            "|   Male|     No|    Graduate|           4133|              0.0|       122|             360|             1|    Semiurban|          Y|         0.0|          1.0|            0.0|                342.0|                    0.0|            40.0|                   0.0|                 0.0|                0.0|              0.0|\n",
            "|   Male|     No|Not Graduate|           3620|              0.0|        25|             120|             1|    Semiurban|          Y|         0.0|          1.0|            1.0|                291.0|                    0.0|            99.0|                   7.0|                 0.0|                0.0|              0.0|\n",
            "|   Male|     No|    Graduate|           6782|              0.0|         0|             360|             0|        Urban|          N|         0.0|          1.0|            0.0|                461.0|                    0.0|             0.0|                   0.0|                 1.0|                1.0|              1.0|\n",
            "| Female|    Yes|    Graduate|           2484|           2302.0|       137|             360|             1|    Semiurban|          Y|         1.0|          0.0|            0.0|                166.0|                  155.0|            45.0|                   0.0|                 0.0|                0.0|              0.0|\n",
            "|   Male|    Yes|    Graduate|           1977|            997.0|        50|             360|             1|    Semiurban|          Y|         0.0|          0.0|            0.0|                122.0|                  286.0|            49.0|                   0.0|                 0.0|                0.0|              0.0|\n",
            "|   Male|    Yes|Not Graduate|           4188|              0.0|       115|             180|             1|    Semiurban|          Y|         0.0|          0.0|            1.0|                347.0|                    0.0|            12.0|                   1.0|                 0.0|                0.0|              0.0|\n",
            "|   Male|    Yes|    Graduate|           1759|           3541.0|       131|             360|             1|    Semiurban|          Y|         0.0|          0.0|            0.0|                102.0|                  218.0|            43.0|                   0.0|                 0.0|                0.0|              0.0|\n",
            "|   Male|    Yes|Not Graduate|           4288|           3263.0|       133|             180|             1|        Urban|          Y|         0.0|          0.0|            1.0|                353.0|                  206.0|            33.0|                   1.0|                 0.0|                1.0|              0.0|\n",
            "|   Male|     No|    Graduate|           4843|           3806.0|       151|             360|             1|    Semiurban|          Y|         0.0|          1.0|            0.0|                386.0|                  226.0|            46.0|                   0.0|                 0.0|                0.0|              0.0|\n",
            "|   Male|    Yes|    Graduate|          13650|              0.0|         0|             360|             1|        Urban|          Y|         0.0|          0.0|            0.0|                 79.0|                    0.0|             0.0|                   0.0|                 0.0|                1.0|              0.0|\n",
            "|   Male|    Yes|    Graduate|           4652|           3583.0|         0|             360|             1|    Semiurban|          Y|         0.0|          0.0|            0.0|                 50.0|                  219.0|             0.0|                   0.0|                 0.0|                0.0|              0.0|\n",
            "|   Male|unknown|    Graduate|           3816|            754.0|       160|             360|             1|        Urban|          Y|         0.0|          2.0|            0.0|                312.0|                   39.0|             4.0|                   0.0|                 0.0|                1.0|              0.0|\n",
            "|   Male|    Yes|    Graduate|           3052|           1030.0|       100|             360|             1|        Urban|          Y|         0.0|          0.0|            0.0|                225.0|                   43.0|             3.0|                   0.0|                 0.0|                1.0|              0.0|\n",
            "|   Male|    Yes|    Graduate|          11417|           1126.0|       225|             360|             1|        Urban|          Y|         0.0|          0.0|            0.0|                 71.0|                   51.0|            69.0|                   0.0|                 0.0|                1.0|              0.0|\n",
            "|   Male|     No|Not Graduate|           7333|              0.0|       120|             360|             1|        Rural|          N|         0.0|          1.0|            1.0|                 57.0|                    0.0|             1.0|                   0.0|                 0.0|                2.0|              1.0|\n",
            "|   Male|    Yes|    Graduate|           3800|           3600.0|       216|             360|             0|        Urban|          N|         0.0|          0.0|            0.0|                308.0|                  220.0|            98.0|                   0.0|                 1.0|                1.0|              1.0|\n",
            "|   Male|    Yes|Not Graduate|           2071|            754.0|        94|             480|             1|    Semiurban|          Y|         0.0|          0.0|            1.0|                132.0|                   39.0|            55.0|                   2.0|                 0.0|                0.0|              0.0|\n",
            "|   Male|     No|    Graduate|           5316|              0.0|       136|             360|             1|        Urban|          Y|         0.0|          1.0|            0.0|                408.0|                    0.0|            18.0|                   0.0|                 0.0|                1.0|              0.0|\n",
            "| Female|    Yes|    Graduate|           2929|           2333.0|       139|             360|             1|    Semiurban|          Y|         1.0|          0.0|            0.0|                209.0|                    9.0|            83.0|                   0.0|                 0.0|                0.0|              0.0|\n",
            "|   Male|    Yes|Not Graduate|           3572|           4114.0|       152|               0|             0|        Rural|          N|         0.0|          0.0|            1.0|                281.0|                  232.0|            35.0|                   3.0|                 1.0|                2.0|              1.0|\n",
            "| Female|     No|    Graduate|           7451|              0.0|         0|             360|             1|    Semiurban|          Y|         1.0|          1.0|            0.0|                473.0|                    0.0|             0.0|                   0.0|                 0.0|                0.0|              0.0|\n",
            "|   Male|     No|    Graduate|           5050|              0.0|       118|             360|             1|    Semiurban|          Y|         0.0|          1.0|            0.0|                398.0|                    0.0|            61.0|                   0.0|                 0.0|                0.0|              0.0|\n",
            "|   Male|    Yes|    Graduate|          14583|              0.0|       185|             180|             1|        Rural|          Y|         0.0|          0.0|            0.0|                 24.0|                    0.0|            36.0|                   1.0|                 0.0|                2.0|              0.0|\n",
            "| Female|    Yes|    Graduate|           3167|           2283.0|       154|             360|             1|    Semiurban|          Y|         1.0|          0.0|            0.0|                 16.0|                  154.0|            87.0|                   0.0|                 0.0|                0.0|              0.0|\n",
            "|   Male|    Yes|    Graduate|           2214|           1398.0|        85|             360|             0|        Urban|          Y|         0.0|          0.0|            0.0|                144.0|                   66.0|           200.0|                   0.0|                 1.0|                1.0|              0.0|\n",
            "|   Male|    Yes|    Graduate|           5568|           2142.0|       175|             360|             1|        Rural|          N|         0.0|          0.0|            0.0|                416.0|                  140.0|            25.0|                   0.0|                 0.0|                2.0|              1.0|\n",
            "| Female|     No|    Graduate|          10408|              0.0|       259|             360|             1|        Urban|          Y|         1.0|          1.0|            0.0|                 63.0|                    0.0|           101.0|                   0.0|                 0.0|                1.0|              0.0|\n",
            "|   Male|    Yes|    Graduate|           5667|           2667.0|       180|             360|             1|        Rural|          Y|         0.0|          0.0|            0.0|                418.0|                  179.0|            26.0|                   0.0|                 0.0|                2.0|              0.0|\n",
            "| Female|     No|    Graduate|           4166|              0.0|        44|             360|             1|    Semiurban|          Y|         1.0|          1.0|            0.0|                  6.0|                    0.0|           104.0|                   0.0|                 0.0|                0.0|              0.0|\n",
            "| Female|     No|    Graduate|           2137|           8980.0|       137|             360|             0|    Semiurban|          Y|         1.0|          1.0|            0.0|                137.0|                  281.0|            45.0|                   0.0|                 1.0|                0.0|              0.0|\n",
            "|   Male|    Yes|    Graduate|           2957|              0.0|        81|             360|             1|    Semiurban|          Y|         0.0|          0.0|            0.0|                211.0|                    0.0|            28.0|                   0.0|                 0.0|                0.0|              0.0|\n",
            "|   Male|    Yes|Not Graduate|           4300|           2014.0|       194|             360|             1|        Rural|          Y|         0.0|          0.0|            1.0|                 49.0|                  125.0|            94.0|                   0.0|                 0.0|                2.0|              0.0|\n",
            "| Female|     No|    Graduate|           3692|              0.0|        93|             360|             0|        Rural|          Y|         1.0|          1.0|            0.0|                298.0|                    0.0|            77.0|                   0.0|                 1.0|                2.0|              0.0|\n",
            "|unknown|    Yes|    Graduate|          23803|              0.0|       370|             360|             1|        Rural|          Y|         2.0|          0.0|            0.0|                157.0|                    0.0|           171.0|                   0.0|                 0.0|                2.0|              0.0|\n",
            "|   Male|     No|    Graduate|           3865|           1640.0|         0|             360|             1|        Rural|          Y|         0.0|          1.0|            0.0|                317.0|                   16.0|             0.0|                   0.0|                 0.0|                2.0|              0.0|\n",
            "|   Male|    Yes|    Graduate|          10513|           3850.0|       160|             180|             0|        Urban|          N|         0.0|          0.0|            0.0|                 65.0|                  227.0|             4.0|                   1.0|                 1.0|                1.0|              1.0|\n",
            "|   Male|    Yes|    Graduate|           6080|           2569.0|       182|             360|             0|        Rural|          N|         0.0|          0.0|            0.0|                439.0|                   29.0|            48.0|                   0.0|                 1.0|                2.0|              1.0|\n",
            "|   Male|     No|    Graduate|          20166|              0.0|       650|             480|             0|        Urban|          Y|         0.0|          1.0|            0.0|                125.0|                    0.0|           194.0|                   2.0|                 1.0|                1.0|              0.0|\n",
            "|   Male|     No|    Graduate|           2014|           1929.0|        74|             360|             1|        Urban|          Y|         0.0|          1.0|            0.0|                 28.0|                  119.0|            75.0|                   0.0|                 0.0|                1.0|              0.0|\n",
            "|   Male|     No|    Graduate|           2718|              0.0|        70|             360|             1|    Semiurban|          Y|         0.0|          1.0|            0.0|                188.0|                    0.0|            13.0|                   0.0|                 0.0|                0.0|              0.0|\n",
            "|   Male|    Yes|    Graduate|           3459|              0.0|        25|             120|             1|    Semiurban|          Y|         0.0|          0.0|            0.0|                272.0|                    0.0|            99.0|                   7.0|                 0.0|                0.0|              0.0|\n",
            "|   Male|     No|    Graduate|           4895|              0.0|       102|             360|             1|    Semiurban|          Y|         0.0|          1.0|            0.0|                391.0|                    0.0|            58.0|                   0.0|                 0.0|                0.0|              0.0|\n",
            "|   Male|    Yes|    Graduate|           4000|           7750.0|       290|             360|             1|    Semiurban|          N|         0.0|          0.0|            0.0|                 19.0|                  275.0|           154.0|                   0.0|                 0.0|                0.0|              1.0|\n",
            "| Female|    Yes|    Graduate|           4583|              0.0|        84|             360|             1|        Rural|          N|         1.0|          0.0|            0.0|                  2.0|                    0.0|            53.0|                   0.0|                 0.0|                2.0|              1.0|\n",
            "|   Male|    Yes|    Graduate|           3316|           3500.0|        88|             360|             1|        Urban|          Y|         0.0|          0.0|            0.0|                256.0|                   34.0|            54.0|                   0.0|                 0.0|                1.0|              0.0|\n",
            "|   Male|     No|    Graduate|          14999|              0.0|       242|             360|             0|    Semiurban|          N|         0.0|          1.0|            0.0|                 85.0|                    0.0|           142.0|                   0.0|                 1.0|                0.0|              1.0|\n",
            "|   Male|    Yes|Not Graduate|           4200|           1430.0|       129|             360|             1|        Rural|          N|         0.0|          0.0|            1.0|                349.0|                   13.0|            82.0|                   0.0|                 0.0|                2.0|              1.0|\n",
            "|   Male|    Yes|    Graduate|           5042|           2083.0|       185|             360|             1|        Rural|          N|         0.0|          0.0|            0.0|                397.0|                    2.0|            36.0|                   0.0|                 0.0|                2.0|              1.0|\n",
            "|   Male|     No|    Graduate|           5417|              0.0|       168|             360|             1|        Urban|          Y|         0.0|          1.0|            0.0|                 21.0|                    0.0|            65.0|                   0.0|                 0.0|                1.0|              0.0|\n",
            "|   Male|     No|    Graduate|           6950|              0.0|       175|             180|             1|    Semiurban|          Y|         0.0|          1.0|            0.0|                465.0|                    0.0|            25.0|                   1.0|                 0.0|                0.0|              0.0|\n",
            "|   Male|    Yes|    Graduate|           2698|           2034.0|       122|             360|             1|    Semiurban|          Y|         0.0|          0.0|            0.0|                184.0|                  128.0|            40.0|                   0.0|                 0.0|                0.0|              0.0|\n",
            "|   Male|    Yes|    Graduate|          11757|              0.0|       187|             180|             1|        Urban|          Y|         0.0|          0.0|            0.0|                 73.0|                    0.0|             5.0|                   1.0|                 0.0|                1.0|              0.0|\n",
            "| Female|    Yes|    Graduate|           2330|           4486.0|       100|             360|             1|    Semiurban|          Y|         1.0|          0.0|            0.0|                154.0|                  242.0|             3.0|                   0.0|                 0.0|                0.0|              0.0|\n",
            "| Female|    Yes|    Graduate|          14866|              0.0|        70|             360|             1|        Urban|          Y|         1.0|          0.0|            0.0|                 83.0|                    0.0|            13.0|                   0.0|                 0.0|                1.0|              0.0|\n",
            "|   Male|    Yes|    Graduate|           1538|           1425.0|        30|             360|             1|        Urban|          Y|         0.0|          0.0|            0.0|                 89.0|                   71.0|           102.0|                   0.0|                 0.0|                1.0|              0.0|\n",
            "| Female|     No|    Graduate|          10000|           1666.0|       225|             360|             1|        Rural|          N|         1.0|          1.0|            0.0|                 12.0|                    1.0|            69.0|                   0.0|                 0.0|                2.0|              1.0|\n",
            "|   Male|    Yes|    Graduate|           4860|            830.0|       125|             360|             1|    Semiurban|          Y|         0.0|          0.0|            0.0|                387.0|                  279.0|            15.0|                   0.0|                 0.0|                0.0|              0.0|\n",
            "|   Male|     No|    Graduate|           6277|              0.0|       118|             360|             0|        Rural|          N|         0.0|          1.0|            0.0|                446.0|                    0.0|            61.0|                   0.0|                 1.0|                2.0|              1.0|\n",
            "|   Male|    Yes|    Graduate|           2577|           3750.0|       152|             360|             1|        Rural|          Y|         0.0|          0.0|            0.0|                174.0|                   35.0|            35.0|                   0.0|                 0.0|                2.0|              0.0|\n",
            "|   Male|     No|    Graduate|           9166|              0.0|       244|             360|             1|        Urban|          N|         0.0|          1.0|            0.0|                494.0|                    0.0|           144.0|                   0.0|                 0.0|                1.0|              1.0|\n",
            "|   Male|    Yes|Not Graduate|           2281|              0.0|       113|             360|             1|        Rural|          N|         0.0|          0.0|            1.0|                150.0|                    0.0|             6.0|                   0.0|                 0.0|                2.0|              1.0|\n",
            "|   Male|     No|    Graduate|           3254|              0.0|        50|             360|             1|        Urban|          Y|         0.0|          1.0|            0.0|                251.0|                    0.0|            49.0|                   0.0|                 0.0|                1.0|              0.0|\n",
            "|   Male|    Yes|    Graduate|          39999|              0.0|       600|             180|             0|    Semiurban|          Y|         0.0|          0.0|            0.0|                333.0|                    0.0|           107.0|                   1.0|                 1.0|                0.0|              0.0|\n",
            "|   Male|    Yes|    Graduate|           6000|              0.0|       160|             360|             0|        Rural|          Y|         0.0|          0.0|            0.0|                  3.0|                    0.0|             4.0|                   0.0|                 1.0|                2.0|              0.0|\n",
            "|   Male|    Yes|    Graduate|           9538|              0.0|       187|             360|             1|        Urban|          Y|         0.0|          0.0|            0.0|                500.0|                    0.0|             5.0|                   0.0|                 0.0|                1.0|              0.0|\n",
            "|   Male|     No|    Graduate|           2980|           2083.0|       120|             360|             1|        Rural|          Y|         0.0|          1.0|            0.0|                215.0|                    2.0|             1.0|                   0.0|                 0.0|                2.0|              0.0|\n",
            "|   Male|    Yes|    Graduate|           4583|           5625.0|       255|             360|             1|    Semiurban|          Y|         0.0|          0.0|            0.0|                  2.0|                   10.0|            70.0|                   0.0|                 0.0|                0.0|              0.0|\n",
            "|   Male|    Yes|Not Graduate|           1863|           1041.0|        98|             360|             1|    Semiurban|          Y|         0.0|          0.0|            1.0|                112.0|                   46.0|            56.0|                   0.0|                 0.0|                0.0|              0.0|\n",
            "|   Male|    Yes|    Graduate|           7933|              0.0|       275|             360|             1|        Urban|          N|         0.0|          0.0|            0.0|                481.0|                    0.0|            72.0|                   0.0|                 0.0|                1.0|              1.0|\n",
            "|   Male|    Yes|    Graduate|           3089|           1280.0|       121|             360|             0|    Semiurban|          N|         0.0|          0.0|            0.0|                233.0|                   60.0|            81.0|                   0.0|                 1.0|                0.0|              1.0|\n",
            "|   Male|    Yes|    Graduate|           4167|           1447.0|       158|             360|             1|        Rural|          Y|         0.0|          0.0|            0.0|                345.0|                   72.0|            24.0|                   0.0|                 0.0|                2.0|              0.0|\n",
            "|   Male|    Yes|    Graduate|           9323|              0.0|        75|             180|             1|        Urban|          Y|         0.0|          0.0|            0.0|                 59.0|                    0.0|            76.0|                   1.0|                 0.0|                1.0|              0.0|\n",
            "|   Male|    Yes|    Graduate|           3707|           3166.0|       182|               0|             1|        Rural|          Y|         0.0|          0.0|            0.0|                300.0|                  202.0|            48.0|                   3.0|                 0.0|                2.0|              0.0|\n",
            "| Female|    Yes|    Graduate|           4583|              0.0|       112|             360|             1|        Rural|          N|         1.0|          0.0|            0.0|                  2.0|                    0.0|            11.0|                   0.0|                 0.0|                2.0|              1.0|\n",
            "|   Male|    Yes|    Graduate|           2439|           3333.0|       129|             360|             1|        Rural|          Y|         0.0|          0.0|            0.0|                162.0|                  209.0|            82.0|                   0.0|                 0.0|                2.0|              0.0|\n",
            "|   Male|     No|    Graduate|           2237|              0.0|        63|             480|             0|    Semiurban|          N|         0.0|          1.0|            0.0|                146.0|                    0.0|           192.0|                   2.0|                 1.0|                0.0|              1.0|\n",
            "|   Male|    Yes|    Graduate|           8000|              0.0|       200|             360|             1|    Semiurban|          Y|         0.0|          0.0|            0.0|                483.0|                    0.0|            37.0|                   0.0|                 0.0|                0.0|              0.0|\n",
            "|   Male|    Yes|Not Graduate|           1820|           1769.0|        95|             360|             1|        Rural|          Y|         0.0|          0.0|            1.0|                 26.0|                   98.0|             9.0|                   0.0|                 0.0|                2.0|              0.0|\n",
            "|unknown|    Yes|    Graduate|          51763|              0.0|       700|             300|             1|        Urban|          Y|         2.0|          0.0|            0.0|                403.0|                    0.0|           195.0|                   4.0|                 0.0|                1.0|              0.0|\n",
            "|   Male|    Yes|Not Graduate|           3522|              0.0|        81|             180|             1|        Rural|          N|         0.0|          0.0|            1.0|                276.0|                    0.0|            28.0|                   1.0|                 0.0|                2.0|              1.0|\n",
            "|   Male|    Yes|    Graduate|           5708|           5625.0|       187|             360|             1|    Semiurban|          Y|         0.0|          0.0|            0.0|                421.0|                   10.0|             5.0|                   0.0|                 0.0|                0.0|              0.0|\n",
            "|   Male|    Yes|Not Graduate|           4344|            736.0|        87|             360|             1|    Semiurban|          N|         0.0|          0.0|            1.0|                357.0|                  274.0|           109.0|                   0.0|                 0.0|                0.0|              1.0|\n",
            "|   Male|    Yes|    Graduate|           3497|           1964.0|       116|             360|             1|        Rural|          Y|         0.0|          0.0|            0.0|                275.0|                  120.0|            20.0|                   0.0|                 0.0|                2.0|              0.0|\n",
            "|   Male|    Yes|    Graduate|           2045|           1619.0|       101|             360|             1|        Rural|          Y|         0.0|          0.0|            0.0|                128.0|                   87.0|           111.0|                   0.0|                 0.0|                2.0|              0.0|\n",
            "|   Male|    Yes|    Graduate|           5516|          11300.0|       495|             360|             0|    Semiurban|          N|         0.0|          0.0|            0.0|                414.0|                   52.0|           182.0|                   0.0|                 1.0|                0.0|              1.0|\n",
            "|   Male|    Yes|    Graduate|           3750|              0.0|       116|             360|             1|    Semiurban|          Y|         0.0|          0.0|            0.0|                  5.0|                    0.0|            20.0|                   0.0|                 0.0|                0.0|              0.0|\n",
            "|   Male|     No|Not Graduate|           2333|           1451.0|       102|             480|             0|        Urban|          N|         0.0|          1.0|            1.0|                 13.0|                   14.0|            58.0|                   2.0|                 1.0|                1.0|              1.0|\n",
            "|   Male|    Yes|    Graduate|           6400|           7250.0|       180|             360|             0|        Urban|          N|         0.0|          0.0|            0.0|                 56.0|                  273.0|            26.0|                   0.0|                 1.0|                1.0|              1.0|\n",
            "|   Male|     No|    Graduate|           1916|           5063.0|        67|             360|             0|        Rural|          N|         0.0|          1.0|            0.0|                116.0|                  254.0|            74.0|                   0.0|                 1.0|                2.0|              1.0|\n",
            "|   Male|    Yes|    Graduate|           4600|              0.0|        73|             180|             1|    Semiurban|          Y|         0.0|          0.0|            0.0|                368.0|                    0.0|           197.0|                   1.0|                 0.0|                0.0|              0.0|\n",
            "|   Male|    Yes|    Graduate|          33846|              0.0|       260|             360|             1|    Semiurban|          N|         0.0|          0.0|            0.0|                263.0|                    0.0|            71.0|                   0.0|                 0.0|                0.0|              1.0|\n",
            "| Female|    Yes|    Graduate|           3625|              0.0|       108|             360|             1|    Semiurban|          Y|         1.0|          0.0|            0.0|                292.0|                    0.0|            30.0|                   0.0|                 0.0|                0.0|              0.0|\n",
            "|   Male|    Yes|    Graduate|          39147|           4750.0|       120|             360|             1|    Semiurban|          Y|         0.0|          0.0|            0.0|                323.0|                   38.0|             1.0|                   0.0|                 0.0|                0.0|              0.0|\n",
            "|   Male|    Yes|    Graduate|           2178|              0.0|        66|             300|             0|        Rural|          N|         0.0|          0.0|            0.0|                142.0|                    0.0|            52.0|                   4.0|                 1.0|                2.0|              1.0|\n",
            "|   Male|    Yes|    Graduate|           2383|           2138.0|        58|             360|             0|        Rural|          Y|         0.0|          0.0|            0.0|                 32.0|                  139.0|           188.0|                   0.0|                 1.0|                2.0|              0.0|\n",
            "|unknown|    Yes|    Graduate|            674|           5296.0|       168|             360|             1|        Rural|          Y|         2.0|          0.0|            0.0|                460.0|                  257.0|            65.0|                   0.0|                 0.0|                2.0|              0.0|\n",
            "|   Male|    Yes|    Graduate|           9328|              0.0|       188|             180|             1|        Rural|          Y|         0.0|          0.0|            0.0|                496.0|                    0.0|            68.0|                   1.0|                 0.0|                2.0|              0.0|\n",
            "|   Male|     No|Not Graduate|           4885|              0.0|        48|             360|             1|        Rural|          Y|         0.0|          1.0|            1.0|                389.0|                    0.0|           180.0|                   0.0|                 0.0|                2.0|              0.0|\n",
            "|   Male|     No|    Graduate|          12000|              0.0|       164|             360|             1|    Semiurban|          N|         0.0|          1.0|            0.0|                 23.0|                    0.0|           121.0|                   0.0|                 0.0|                0.0|              1.0|\n",
            "|   Male|    Yes|Not Graduate|           6033|              0.0|       160|             360|             1|        Urban|          N|         0.0|          0.0|            1.0|                435.0|                    0.0|             4.0|                   0.0|                 0.0|                1.0|              1.0|\n",
            "|   Male|     No|    Graduate|           3858|              0.0|        76|             360|             1|    Semiurban|          Y|         0.0|          1.0|            0.0|                316.0|                    0.0|           108.0|                   0.0|                 0.0|                0.0|              0.0|\n",
            "|   Male|     No|    Graduate|           4191|              0.0|       120|             360|             1|        Rural|          Y|         0.0|          1.0|            0.0|                348.0|                    0.0|             1.0|                   0.0|                 0.0|                2.0|              0.0|\n",
            "|   Male|    Yes|    Graduate|           3125|           2583.0|       170|             360|             1|    Semiurban|          N|         0.0|          0.0|            0.0|                237.0|                  177.0|            66.0|                   0.0|                 0.0|                0.0|              1.0|\n",
            "|   Male|     No|    Graduate|           8333|           3750.0|       187|             360|             1|        Rural|          Y|         0.0|          1.0|            0.0|                 11.0|                   35.0|             5.0|                   0.0|                 0.0|                2.0|              0.0|\n",
            "| Female|     No|Not Graduate|           1907|           2365.0|       120|               0|             1|        Urban|          Y|         1.0|          1.0|            1.0|                115.0|                  161.0|             1.0|                   3.0|                 0.0|                1.0|              0.0|\n",
            "| Female|    Yes|    Graduate|           3416|           2816.0|       113|             360|             0|    Semiurban|          Y|         1.0|          0.0|            0.0|                267.0|                  186.0|             6.0|                   0.0|                 1.0|                0.0|              0.0|\n",
            "|   Male|     No|    Graduate|          11000|              0.0|        83|             360|             1|        Urban|          N|         0.0|          1.0|            0.0|                 68.0|                    0.0|           199.0|                   0.0|                 0.0|                1.0|              1.0|\n",
            "|   Male|    Yes|Not Graduate|           2600|           2500.0|        90|             360|             1|    Semiurban|          Y|         0.0|          0.0|            1.0|                  1.0|                    3.0|            29.0|                   0.0|                 0.0|                0.0|              0.0|\n",
            "|   Male|     No|    Graduate|           4923|              0.0|       166|             360|             0|    Semiurban|          Y|         0.0|          1.0|            0.0|                393.0|                    0.0|           122.0|                   0.0|                 1.0|                0.0|              0.0|\n",
            "|   Male|    Yes|Not Graduate|           3992|              0.0|         0|             180|             1|        Urban|          N|         0.0|          0.0|            1.0|                331.0|                    0.0|             0.0|                   1.0|                 0.0|                1.0|              1.0|\n",
            "|   Male|    Yes|Not Graduate|           3500|           1083.0|       135|             360|             1|        Urban|          Y|         0.0|          0.0|            1.0|                 18.0|                   47.0|            17.0|                   0.0|                 0.0|                1.0|              0.0|\n",
            "|   Male|    Yes|Not Graduate|           3917|              0.0|       124|             360|             1|    Semiurban|          Y|         0.0|          0.0|            1.0|                324.0|                    0.0|            32.0|                   0.0|                 0.0|                0.0|              0.0|\n",
            "| Female|     No|Not Graduate|           4408|              0.0|       120|             360|             1|    Semiurban|          Y|         1.0|          1.0|            1.0|                362.0|                    0.0|             1.0|                   0.0|                 0.0|                0.0|              0.0|\n",
            "| Female|     No|    Graduate|           3244|              0.0|        80|             360|             1|        Urban|          Y|         1.0|          1.0|            0.0|                248.0|                    0.0|            27.0|                   0.0|                 0.0|                1.0|              0.0|\n",
            "|   Male|     No|Not Graduate|           3975|           2531.0|        55|             360|             1|        Rural|          Y|         0.0|          1.0|            1.0|                328.0|                   28.0|            50.0|                   0.0|                 0.0|                2.0|              0.0|\n",
            "|   Male|     No|    Graduate|           2479|              0.0|        59|             360|             1|        Urban|          Y|         0.0|          1.0|            0.0|                 33.0|                    0.0|           189.0|                   0.0|                 0.0|                1.0|              0.0|\n",
            "|   Male|     No|    Graduate|           3418|              0.0|       127|             360|             1|    Semiurban|          N|         0.0|          1.0|            0.0|                 42.0|                    0.0|            62.0|                   0.0|                 0.0|                0.0|              1.0|\n",
            "| Female|     No|    Graduate|          10000|              0.0|       214|             360|             1|    Semiurban|          N|         1.0|          1.0|            0.0|                 12.0|                    0.0|           134.0|                   0.0|                 0.0|                0.0|              1.0|\n",
            "|   Male|    Yes|    Graduate|           3430|           1250.0|       128|             360|             0|    Semiurban|          N|         0.0|          0.0|            0.0|                270.0|                   11.0|             7.0|                   0.0|                 1.0|                0.0|              1.0|\n",
            "|   Male|    Yes|    Graduate|           7787|              0.0|       240|             360|             1|        Urban|          Y|         0.0|          0.0|            0.0|                479.0|                    0.0|           141.0|                   0.0|                 0.0|                1.0|              0.0|\n",
            "|   Male|    Yes|Not Graduate|           5703|              0.0|       130|             360|             1|        Rural|          Y|         0.0|          0.0|            1.0|                 54.0|                    0.0|             8.0|                   0.0|                 0.0|                2.0|              0.0|\n",
            "|   Male|    Yes|    Graduate|           3173|           3021.0|       137|             360|             1|        Urban|          Y|         0.0|          0.0|            0.0|                 40.0|                  195.0|            45.0|                   0.0|                 0.0|                1.0|              0.0|\n",
            "|   Male|    Yes|Not Graduate|           3850|            983.0|       100|             360|             1|    Semiurban|          Y|         0.0|          0.0|            1.0|                315.0|                  284.0|             3.0|                   0.0|                 0.0|                0.0|              0.0|\n",
            "|   Male|    Yes|    Graduate|            150|           1800.0|       135|             360|             1|        Rural|          N|         0.0|          0.0|            0.0|                 86.0|                    7.0|            17.0|                   0.0|                 0.0|                2.0|              1.0|\n",
            "|   Male|    Yes|    Graduate|           3727|           1775.0|       131|             360|             1|    Semiurban|          Y|         0.0|          0.0|            0.0|                303.0|                  100.0|            43.0|                   0.0|                 0.0|                0.0|              0.0|\n",
            "|   Male|    Yes|    Graduate|           5000|              0.0|        72|             360|             0|    Semiurban|          N|         0.0|          0.0|            0.0|                  7.0|                    0.0|           196.0|                   0.0|                 1.0|                0.0|              1.0|\n",
            "| Female|    Yes|    Graduate|           4283|           2383.0|       127|             360|             0|    Semiurban|          Y|         1.0|          0.0|            0.0|                 48.0|                  163.0|            62.0|                   0.0|                 1.0|                0.0|              0.0|\n",
            "|   Male|    Yes|    Graduate|           2221|              0.0|        60|             360|             0|        Urban|          N|         0.0|          0.0|            0.0|                145.0|                    0.0|            51.0|                   0.0|                 1.0|                1.0|              1.0|\n",
            "|   Male|    Yes|    Graduate|           4009|           1717.0|       116|             360|             1|    Semiurban|          Y|         0.0|          0.0|            0.0|                335.0|                   18.0|            20.0|                   0.0|                 0.0|                0.0|              0.0|\n",
            "|   Male|     No|    Graduate|           2971|           2791.0|       144|             360|             1|    Semiurban|          Y|         0.0|          1.0|            0.0|                214.0|                  184.0|            22.0|                   0.0|                 0.0|                0.0|              0.0|\n",
            "|   Male|    Yes|    Graduate|           7578|           1010.0|       175|               0|             1|    Semiurban|          Y|         0.0|          0.0|            0.0|                474.0|                   41.0|            25.0|                   3.0|                 0.0|                0.0|              0.0|\n",
            "|   Male|    Yes|    Graduate|           6250|              0.0|       128|             360|             1|    Semiurban|          Y|         0.0|          0.0|            0.0|                 10.0|                    0.0|             7.0|                   0.0|                 0.0|                0.0|              0.0|\n",
            "|   Male|    Yes|    Graduate|           3250|              0.0|       170|             360|             1|        Rural|          N|         0.0|          0.0|            0.0|                250.0|                    0.0|            66.0|                   0.0|                 0.0|                2.0|              1.0|\n",
            "|   Male|    Yes|Not Graduate|           4735|              0.0|       138|             360|             1|        Urban|          N|         0.0|          0.0|            1.0|                382.0|                    0.0|            21.0|                   0.0|                 0.0|                1.0|              1.0|\n",
            "|   Male|    Yes|    Graduate|           6250|           1695.0|       210|             360|             1|    Semiurban|          Y|         0.0|          0.0|            0.0|                 10.0|                   92.0|            97.0|                   0.0|                 0.0|                0.0|              0.0|\n",
            "|   Male|unknown|    Graduate|           4758|              0.0|       158|             480|             1|    Semiurban|          Y|         0.0|          2.0|            0.0|                384.0|                    0.0|            24.0|                   2.0|                 0.0|                0.0|              0.0|\n",
            "|   Male|     No|    Graduate|           6400|              0.0|       200|             360|             1|        Rural|          Y|         0.0|          1.0|            0.0|                 56.0|                    0.0|            37.0|                   0.0|                 0.0|                2.0|              0.0|\n",
            "|   Male|    Yes|    Graduate|           2491|           2054.0|       104|             360|             1|    Semiurban|          Y|         0.0|          0.0|            0.0|                167.0|                   25.0|            14.0|                   0.0|                 0.0|                0.0|              0.0|\n",
            "|   Male|    Yes|    Graduate|           3716|              0.0|        42|             180|             1|        Rural|          Y|         0.0|          0.0|            0.0|                302.0|                    0.0|           176.0|                   1.0|                 0.0|                2.0|              0.0|\n",
            "|   Male|     No|Not Graduate|           3189|           2598.0|       120|               0|             1|        Rural|          Y|         0.0|          1.0|            1.0|                243.0|                  178.0|             1.0|                   3.0|                 0.0|                2.0|              0.0|\n",
            "| Female|     No|    Graduate|           8333|              0.0|       280|             360|             1|    Semiurban|          Y|         1.0|          1.0|            0.0|                 11.0|                    0.0|           152.0|                   0.0|                 0.0|                0.0|              0.0|\n",
            "|   Male|    Yes|    Graduate|           3155|           1779.0|       140|             360|             1|    Semiurban|          Y|         0.0|          0.0|            0.0|                239.0|                  101.0|            34.0|                   0.0|                 0.0|                0.0|              0.0|\n",
            "|   Male|    Yes|    Graduate|           5500|           1260.0|       170|             360|             1|        Rural|          Y|         0.0|          0.0|            0.0|                 53.0|                   59.0|            66.0|                   0.0|                 0.0|                2.0|              0.0|\n",
            "|   Male|    Yes|    Graduate|           5746|              0.0|       255|             360|             0|        Urban|          N|         0.0|          0.0|            0.0|                 55.0|                    0.0|            70.0|                   0.0|                 1.0|                1.0|              1.0|\n",
            "| Female|     No|    Graduate|           3463|              0.0|       122|             360|             0|        Urban|          Y|         1.0|          1.0|            0.0|                273.0|                    0.0|            40.0|                   0.0|                 1.0|                1.0|              0.0|\n",
            "| Female|     No|    Graduate|           3812|              0.0|       112|             360|             1|        Rural|          Y|         1.0|          1.0|            0.0|                309.0|                    0.0|            11.0|                   0.0|                 0.0|                2.0|              0.0|\n",
            "|   Male|    Yes|    Graduate|           3315|              0.0|        96|             360|             1|    Semiurban|          Y|         0.0|          0.0|            0.0|                255.0|                    0.0|            10.0|                   0.0|                 0.0|                0.0|              0.0|\n",
            "|   Male|    Yes|    Graduate|           5819|           5000.0|       120|             360|             1|        Rural|          Y|         0.0|          0.0|            0.0|                427.0|                  252.0|             1.0|                   0.0|                 0.0|                2.0|              0.0|\n",
            "|   Male|    Yes|Not Graduate|           2510|           1983.0|       140|             180|             1|        Urban|          N|         0.0|          0.0|            1.0|                171.0|                  121.0|            34.0|                   1.0|                 0.0|                1.0|              1.0|\n",
            "|   Male|     No|    Graduate|           2965|           5701.0|       155|              60|             1|        Urban|          Y|         0.0|          1.0|            0.0|                213.0|                  263.0|            23.0|                   9.0|                 0.0|                1.0|              0.0|\n",
            "|   Male|    Yes|    Graduate|           6250|           1300.0|       108|             360|             1|        Rural|          Y|         0.0|          0.0|            0.0|                 10.0|                   12.0|            30.0|                   0.0|                 0.0|                2.0|              0.0|\n",
            "|   Male|    Yes|Not Graduate|           3406|           4417.0|       123|             360|             1|    Semiurban|          Y|         0.0|          0.0|            1.0|                265.0|                  241.0|            41.0|                   0.0|                 0.0|                0.0|              0.0|\n",
            "|   Male|     No|    Graduate|           6050|           4333.0|       120|             180|             1|        Urban|          N|         0.0|          1.0|            0.0|                437.0|                  240.0|             1.0|                   1.0|                 0.0|                1.0|              1.0|\n",
            "|   Male|    Yes|    Graduate|           9703|              0.0|       112|             360|             1|        Urban|          Y|         0.0|          0.0|            0.0|                502.0|                    0.0|            11.0|                   0.0|                 0.0|                1.0|              0.0|\n",
            "|   Male|    Yes|Not Graduate|           6608|              0.0|       137|             180|             1|        Urban|          Y|         0.0|          0.0|            1.0|                457.0|                    0.0|            45.0|                   1.0|                 0.0|                1.0|              0.0|\n",
            "|   Male|    Yes|    Graduate|           2882|           1843.0|       123|             480|             1|    Semiurban|          Y|         0.0|          0.0|            0.0|                202.0|                   20.0|            41.0|                   2.0|                 0.0|                0.0|              0.0|\n",
            "|   Male|    Yes|    Graduate|           1809|           1868.0|        90|             360|             1|        Urban|          Y|         0.0|          0.0|            0.0|                104.0|                  112.0|            29.0|                   0.0|                 0.0|                1.0|              0.0|\n",
            "|   Male|    Yes|Not Graduate|           1668|           3890.0|       201|             360|             0|    Semiurban|          N|         0.0|          0.0|            1.0|                 98.0|                  228.0|            95.0|                   0.0|                 1.0|                0.0|              1.0|\n",
            "| Female|     No|    Graduate|           3427|              0.0|       138|             360|             1|        Urban|          N|         1.0|          1.0|            0.0|                269.0|                    0.0|            21.0|                   0.0|                 0.0|                1.0|              1.0|\n",
            "|   Male|     No|Not Graduate|           2583|           2167.0|       104|             360|             1|        Rural|          Y|         0.0|          1.0|            1.0|                  9.0|                   26.0|            14.0|                   0.0|                 0.0|                2.0|              0.0|\n",
            "|   Male|    Yes|Not Graduate|           2661|           7101.0|       279|             180|             1|    Semiurban|          Y|         0.0|          0.0|            1.0|                181.0|                  270.0|           151.0|                   1.0|                 0.0|                0.0|              0.0|\n",
            "|   Male|     No|    Graduate|          16250|              0.0|       192|             360|             0|        Urban|          N|         0.0|          1.0|            0.0|                 94.0|                    0.0|            93.0|                   0.0|                 1.0|                1.0|              1.0|\n",
            "| Female|     No|    Graduate|           3083|              0.0|       255|             360|             1|        Rural|          Y|         1.0|          1.0|            0.0|                 38.0|                    0.0|            70.0|                   0.0|                 0.0|                2.0|              0.0|\n",
            "|   Male|     No|Not Graduate|           6045|              0.0|       115|             360|             0|        Rural|          N|         0.0|          1.0|            1.0|                436.0|                    0.0|            12.0|                   0.0|                 1.0|                2.0|              1.0|\n",
            "|   Male|    Yes|    Graduate|           5250|              0.0|        94|             360|             1|        Urban|          N|         0.0|          0.0|            0.0|                 52.0|                    0.0|            55.0|                   0.0|                 0.0|                1.0|              1.0|\n",
            "|   Male|    Yes|    Graduate|          14683|           2100.0|       304|             360|             1|        Rural|          N|         0.0|          0.0|            0.0|                 82.0|                  135.0|           158.0|                   0.0|                 0.0|                2.0|              1.0|\n",
            "|   Male|    Yes|Not Graduate|           4931|              0.0|       128|             360|             0|    Semiurban|          N|         0.0|          0.0|            1.0|                394.0|                    0.0|             7.0|                   0.0|                 1.0|                0.0|              1.0|\n",
            "|   Male|    Yes|    Graduate|           6083|           4250.0|       330|             360|             0|        Urban|          Y|         0.0|          0.0|            0.0|                440.0|                  236.0|           165.0|                   0.0|                 1.0|                1.0|              0.0|\n",
            "|   Male|     No|    Graduate|           2060|           2209.0|       134|             360|             1|    Semiurban|          Y|         0.0|          1.0|            0.0|                130.0|                  147.0|            44.0|                   0.0|                 0.0|                0.0|              0.0|\n",
            "| Female|     No|    Graduate|           3481|              0.0|       155|              36|             1|    Semiurban|          N|         1.0|          1.0|            0.0|                274.0|                    0.0|            23.0|                   8.0|                 0.0|                0.0|              1.0|\n",
            "| Female|     No|    Graduate|           7200|              0.0|       120|             360|             1|        Rural|          Y|         1.0|          1.0|            0.0|                470.0|                    0.0|             1.0|                   0.0|                 0.0|                2.0|              0.0|\n",
            "|   Male|     No|    Graduate|           5166|              0.0|       128|             360|             1|    Semiurban|          Y|         0.0|          1.0|            0.0|                401.0|                    0.0|             7.0|                   0.0|                 0.0|                0.0|              0.0|\n",
            "|   Male|     No|    Graduate|           4095|           3447.0|       151|             360|             1|        Rural|          Y|         0.0|          1.0|            0.0|                338.0|                  216.0|            46.0|                   0.0|                 0.0|                2.0|              0.0|\n",
            "|   Male|    Yes|    Graduate|           4708|           1387.0|       150|             360|             1|    Semiurban|          Y|         0.0|          0.0|            0.0|                380.0|                   65.0|            19.0|                   0.0|                 0.0|                0.0|              0.0|\n",
            "|   Male|    Yes|    Graduate|           4333|           1811.0|       160|             360|             0|        Urban|          Y|         0.0|          0.0|            0.0|                 20.0|                  105.0|             4.0|                   0.0|                 1.0|                1.0|              0.0|\n",
            "| Female|     No|    Graduate|           3418|              0.0|       135|             360|             1|        Rural|          N|         1.0|          1.0|            0.0|                 42.0|                    0.0|            17.0|                   0.0|                 0.0|                2.0|              1.0|\n",
            "| Female|     No|    Graduate|           2876|           1560.0|        90|             360|             1|        Urban|          Y|         1.0|          1.0|            0.0|                201.0|                   15.0|            29.0|                   0.0|                 0.0|                1.0|              0.0|\n",
            "| Female|     No|    Graduate|           3237|              0.0|        30|             360|             1|        Urban|          Y|         1.0|          1.0|            0.0|                247.0|                    0.0|           102.0|                   0.0|                 0.0|                1.0|              0.0|\n",
            "|   Male|    Yes|    Graduate|          11146|              0.0|       136|             360|             1|        Urban|          Y|         0.0|          0.0|            0.0|                 69.0|                    0.0|            18.0|                   0.0|                 0.0|                1.0|              0.0|\n",
            "|   Male|     No|    Graduate|           2833|           1857.0|       126|             360|             1|        Rural|          Y|         0.0|          1.0|            0.0|                 35.0|                  110.0|            42.0|                   0.0|                 0.0|                2.0|              0.0|\n",
            "|   Male|    Yes|    Graduate|           2620|           2223.0|       150|             360|             1|    Semiurban|          Y|         0.0|          0.0|            0.0|                176.0|                  149.0|            19.0|                   0.0|                 0.0|                0.0|              0.0|\n",
            "|   Male|    Yes|    Graduate|           3900|              0.0|        90|             360|             1|    Semiurban|          Y|         0.0|          0.0|            0.0|                321.0|                    0.0|            29.0|                   0.0|                 0.0|                0.0|              0.0|\n",
            "|   Male|    Yes|    Graduate|           2750|           1842.0|       115|             360|             1|    Semiurban|          Y|         0.0|          0.0|            0.0|                191.0|                  108.0|            12.0|                   0.0|                 0.0|                0.0|              0.0|\n",
            "|   Male|    Yes|    Graduate|           3993|           3274.0|       207|             360|             1|    Semiurban|          Y|         0.0|          0.0|            0.0|                332.0|                  207.0|           130.0|                   0.0|                 0.0|                0.0|              0.0|\n",
            "|   Male|    Yes|    Graduate|           3103|           1300.0|        80|             360|             1|        Urban|          Y|         0.0|          0.0|            0.0|                236.0|                   12.0|            27.0|                   0.0|                 0.0|                1.0|              0.0|\n",
            "|   Male|    Yes|    Graduate|          14583|              0.0|       436|             360|             1|    Semiurban|          Y|         0.0|          0.0|            0.0|                 24.0|                    0.0|           177.0|                   0.0|                 0.0|                0.0|              0.0|\n",
            "| Female|    Yes|Not Graduate|           4100|              0.0|       124|             360|             0|        Rural|          Y|         1.0|          0.0|            1.0|                339.0|                    0.0|            32.0|                   0.0|                 1.0|                2.0|              0.0|\n",
            "|   Male|     No|Not Graduate|           4053|           2426.0|       158|             360|             0|        Urban|          N|         0.0|          1.0|            1.0|                337.0|                  170.0|            24.0|                   0.0|                 1.0|                1.0|              1.0|\n",
            "|   Male|    Yes|    Graduate|           3927|            800.0|       112|             360|             1|    Semiurban|          Y|         0.0|          0.0|            0.0|                325.0|                  277.0|            11.0|                   0.0|                 0.0|                0.0|              0.0|\n",
            "|   Male|    Yes|    Graduate|           2301|      985.7999878|        78|             180|             1|        Urban|          Y|         0.0|          0.0|            0.0|                152.0|                  285.0|           198.0|                   1.0|                 0.0|                1.0|              0.0|\n",
            "| Female|     No|    Graduate|           1811|           1666.0|        54|             360|             1|        Urban|          Y|         1.0|          1.0|            0.0|                105.0|                    1.0|           186.0|                   0.0|                 0.0|                1.0|              0.0|\n",
            "|   Male|    Yes|    Graduate|          20667|              0.0|         0|             360|             1|        Rural|          N|         0.0|          0.0|            0.0|                131.0|                    0.0|             0.0|                   0.0|                 0.0|                2.0|              1.0|\n",
            "|   Male|     No|    Graduate|           3158|           3053.0|        89|             360|             1|        Rural|          Y|         0.0|          1.0|            0.0|                240.0|                  198.0|           202.0|                   0.0|                 0.0|                2.0|              0.0|\n",
            "| Female|     No|    Graduate|           2600|           1717.0|        99|             300|             1|    Semiurban|          N|         1.0|          1.0|            0.0|                  1.0|                   18.0|            57.0|                   4.0|                 0.0|                0.0|              1.0|\n",
            "|   Male|    Yes|    Graduate|           3704|           2000.0|       120|             360|             1|        Rural|          Y|         0.0|          0.0|            0.0|                299.0|                   23.0|             1.0|                   0.0|                 0.0|                2.0|              0.0|\n",
            "| Female|     No|    Graduate|           4124|              0.0|       115|             360|             1|    Semiurban|          Y|         1.0|          1.0|            0.0|                341.0|                    0.0|            12.0|                   0.0|                 0.0|                0.0|              0.0|\n",
            "|   Male|     No|    Graduate|           9508|              0.0|       187|             360|             1|        Rural|          Y|         0.0|          1.0|            0.0|                499.0|                    0.0|             5.0|                   0.0|                 0.0|                2.0|              0.0|\n",
            "|   Male|    Yes|    Graduate|           3075|           2416.0|       139|             360|             1|        Rural|          Y|         0.0|          0.0|            0.0|                230.0|                  167.0|            83.0|                   0.0|                 0.0|                2.0|              0.0|\n",
            "|   Male|    Yes|    Graduate|           4400|              0.0|       127|             360|             0|    Semiurban|          N|         0.0|          0.0|            0.0|                361.0|                    0.0|            62.0|                   0.0|                 1.0|                0.0|              1.0|\n",
            "|   Male|    Yes|    Graduate|           3153|           1560.0|       134|             360|             1|        Urban|          Y|         0.0|          0.0|            0.0|                238.0|                   15.0|            44.0|                   0.0|                 0.0|                1.0|              0.0|\n",
            "| Female|     No|    Graduate|           5417|              0.0|       143|             480|             0|        Urban|          N|         1.0|          1.0|            0.0|                 21.0|                    0.0|            85.0|                   2.0|                 1.0|                1.0|              1.0|\n",
            "|   Male|    Yes|    Graduate|           2383|           3334.0|       172|             360|             1|    Semiurban|          Y|         0.0|          0.0|            0.0|                 32.0|                  210.0|            47.0|                   0.0|                 0.0|                0.0|              0.0|\n",
            "|   Male|    Yes|    Graduate|           4416|           1250.0|       110|             360|             1|        Urban|          Y|         0.0|          0.0|            0.0|                363.0|                   11.0|             2.0|                   0.0|                 0.0|                1.0|              0.0|\n",
            "|   Male|    Yes|    Graduate|           6875|              0.0|       200|             360|             1|    Semiurban|          Y|         0.0|          0.0|            0.0|                464.0|                    0.0|            37.0|                   0.0|                 0.0|                0.0|              0.0|\n",
            "| Female|    Yes|    Graduate|           4666|              0.0|       135|             360|             1|        Urban|          Y|         1.0|          0.0|            0.0|                373.0|                    0.0|            17.0|                   0.0|                 0.0|                1.0|              0.0|\n",
            "| Female|     No|    Graduate|           5000|           2541.0|       151|             480|             1|        Rural|          N|         1.0|          1.0|            0.0|                  7.0|                  176.0|            46.0|                   2.0|                 0.0|                2.0|              1.0|\n",
            "|   Male|    Yes|    Graduate|           2014|           2925.0|       113|             360|             1|        Urban|          N|         0.0|          0.0|            0.0|                 28.0|                   31.0|             6.0|                   0.0|                 0.0|                1.0|              1.0|\n",
            "+-------+-------+------------+---------------+-----------------+----------+----------------+--------------+-------------+-----------+------------+-------------+---------------+---------------------+-----------------------+----------------+----------------------+--------------------+-------------------+-----------------+\n",
            "only showing top 300 rows\n",
            "\n"
          ],
          "name": "stdout"
        }
      ]
    },
    {
      "cell_type": "code",
      "metadata": {
        "colab": {
          "base_uri": "https://localhost:8080/"
        },
        "id": "fM6bZSszKgxh",
        "outputId": "9d60fa17-4e4d-4728-b289-c245b3a7adff"
      },
      "source": [
        "my_data.dtypes"
      ],
      "execution_count": 410,
      "outputs": [
        {
          "output_type": "execute_result",
          "data": {
            "text/plain": [
              "[('Gender', 'string'),\n",
              " ('Married', 'string'),\n",
              " ('Education', 'string'),\n",
              " ('ApplicantIncome', 'int'),\n",
              " ('CoapplicantIncome', 'double'),\n",
              " ('LoanAmount', 'int'),\n",
              " ('Loan_Amount_Term', 'int'),\n",
              " ('Credit_History', 'int'),\n",
              " ('Property_Area', 'string'),\n",
              " ('Loan_Status', 'string'),\n",
              " ('Gender_Index', 'double'),\n",
              " ('Married_Index', 'double'),\n",
              " ('Education_Index', 'double'),\n",
              " ('ApplicantIncome_Index', 'double'),\n",
              " ('CoapplicantIncome_Index', 'double'),\n",
              " ('LoanAmount_Index', 'double'),\n",
              " ('Loan_Amount_Term_Index', 'double'),\n",
              " ('Credit_History_Index', 'double'),\n",
              " ('Property_Area_Index', 'double'),\n",
              " ('Loan_Status_Index', 'double')]"
            ]
          },
          "metadata": {
            "tags": []
          },
          "execution_count": 410
        }
      ]
    },
    {
      "cell_type": "code",
      "metadata": {
        "colab": {
          "base_uri": "https://localhost:8080/"
        },
        "id": "7OYwu37ctL3G",
        "outputId": "50c5a12a-bf4b-42fd-bb36-9da8ed9428c5"
      },
      "source": [
        "# view the transformed data\n",
        "my_data.select('Gender', 'Gender_Index','Married', 'Married_Index','Education','Education_Index','ApplicantIncome','ApplicantIncome_Index','CoapplicantIncome','CoapplicantIncome_Index','LoanAmount','LoanAmount_Index','Loan_Amount_Term','Loan_Amount_Term_Index','Credit_History','Credit_History_Index','Property_Area','Property_Area_Index','Loan_Status','Loan_Status_Index',).show()"
      ],
      "execution_count": 411,
      "outputs": [
        {
          "output_type": "stream",
          "text": [
            "+------+------------+-------+-------------+------------+---------------+---------------+---------------------+-----------------+-----------------------+----------+----------------+----------------+----------------------+--------------+--------------------+-------------+-------------------+-----------+-----------------+\n",
            "|Gender|Gender_Index|Married|Married_Index|   Education|Education_Index|ApplicantIncome|ApplicantIncome_Index|CoapplicantIncome|CoapplicantIncome_Index|LoanAmount|LoanAmount_Index|Loan_Amount_Term|Loan_Amount_Term_Index|Credit_History|Credit_History_Index|Property_Area|Property_Area_Index|Loan_Status|Loan_Status_Index|\n",
            "+------+------------+-------+-------------+------------+---------------+---------------+---------------------+-----------------+-----------------------+----------+----------------+----------------+----------------------+--------------+--------------------+-------------+-------------------+-----------+-----------------+\n",
            "|  Male|         0.0|     No|          1.0|    Graduate|            0.0|           5849|                430.0|              0.0|                    0.0|         0|             0.0|             360|                   0.0|             1|                 0.0|        Urban|                1.0|          Y|              0.0|\n",
            "|  Male|         0.0|    Yes|          0.0|    Graduate|            0.0|           4583|                  2.0|           1508.0|                   76.0|       128|             7.0|             360|                   0.0|             1|                 0.0|        Rural|                2.0|          N|              1.0|\n",
            "|  Male|         0.0|    Yes|          0.0|    Graduate|            0.0|           3000|                 14.0|              0.0|                    0.0|        66|            52.0|             360|                   0.0|             1|                 0.0|        Urban|                1.0|          Y|              0.0|\n",
            "|  Male|         0.0|    Yes|          0.0|Not Graduate|            1.0|           2583|                  9.0|           2358.0|                  160.0|       120|             1.0|             360|                   0.0|             1|                 0.0|        Urban|                1.0|          Y|              0.0|\n",
            "|  Male|         0.0|     No|          1.0|    Graduate|            0.0|           6000|                  3.0|              0.0|                    0.0|       141|            84.0|             360|                   0.0|             1|                 0.0|        Urban|                1.0|          Y|              0.0|\n",
            "|  Male|         0.0|    Yes|          0.0|    Graduate|            0.0|           5417|                 21.0|           4196.0|                  234.0|       267|           150.0|             360|                   0.0|             1|                 0.0|        Urban|                1.0|          Y|              0.0|\n",
            "|  Male|         0.0|    Yes|          0.0|Not Graduate|            1.0|           2333|                 13.0|           1516.0|                   77.0|        95|             9.0|             360|                   0.0|             1|                 0.0|        Urban|                1.0|          Y|              0.0|\n",
            "|  Male|         0.0|    Yes|          0.0|    Graduate|            0.0|           3036|                224.0|           2504.0|                  174.0|       158|            24.0|             360|                   0.0|             0|                 1.0|    Semiurban|                0.0|          N|              1.0|\n",
            "|  Male|         0.0|    Yes|          0.0|    Graduate|            0.0|           4006|                334.0|           1526.0|                   79.0|       168|            65.0|             360|                   0.0|             1|                 0.0|        Urban|                1.0|          Y|              0.0|\n",
            "|  Male|         0.0|    Yes|          0.0|    Graduate|            0.0|          12841|                 75.0|          10968.0|                   49.0|       349|           166.0|             360|                   0.0|             1|                 0.0|    Semiurban|                0.0|          N|              1.0|\n",
            "|  Male|         0.0|    Yes|          0.0|    Graduate|            0.0|           3200|                 41.0|            700.0|                  269.0|        70|            13.0|             360|                   0.0|             1|                 0.0|        Urban|                1.0|          Y|              0.0|\n",
            "|  Male|         0.0|    Yes|          0.0|    Graduate|            0.0|           2500|                  0.0|           1840.0|                  107.0|       109|            79.0|             360|                   0.0|             1|                 0.0|        Urban|                1.0|          Y|              0.0|\n",
            "|  Male|         0.0|    Yes|          0.0|    Graduate|            0.0|           3073|                228.0|           8106.0|                  278.0|       200|            37.0|             360|                   0.0|             1|                 0.0|        Urban|                1.0|          Y|              0.0|\n",
            "|  Male|         0.0|     No|          1.0|    Graduate|            0.0|           1853|                111.0|           2840.0|                  187.0|       114|            80.0|             360|                   0.0|             1|                 0.0|        Rural|                2.0|          N|              1.0|\n",
            "|  Male|         0.0|    Yes|          0.0|    Graduate|            0.0|           1299|                 77.0|           1086.0|                   48.0|        17|           124.0|             120|                   7.0|             1|                 0.0|        Urban|                1.0|          Y|              0.0|\n",
            "|  Male|         0.0|     No|          1.0|    Graduate|            0.0|           4950|                396.0|              0.0|                    0.0|       125|            15.0|             360|                   0.0|             1|                 0.0|        Urban|                1.0|          Y|              0.0|\n",
            "|  Male|         0.0|     No|          1.0|Not Graduate|            1.0|           3596|                285.0|              0.0|                    0.0|       100|             3.0|             240|                   5.0|             0|                 1.0|        Urban|                1.0|          Y|              0.0|\n",
            "|Female|         1.0|     No|          1.0|    Graduate|            0.0|           3510|                 44.0|              0.0|                    0.0|        76|           108.0|             360|                   0.0|             0|                 1.0|        Urban|                1.0|          N|              1.0|\n",
            "|  Male|         0.0|    Yes|          0.0|Not Graduate|            1.0|           4887|                390.0|              0.0|                    0.0|       133|            33.0|             360|                   0.0|             1|                 0.0|        Rural|                2.0|          N|              1.0|\n",
            "|  Male|         0.0|    Yes|          0.0|    Graduate|            0.0|           2600|                  1.0|           3500.0|                   34.0|       115|            12.0|               0|                   3.0|             1|                 0.0|        Urban|                1.0|          Y|              0.0|\n",
            "+------+------------+-------+-------------+------------+---------------+---------------+---------------------+-----------------+-----------------------+----------+----------------+----------------+----------------------+--------------+--------------------+-------------+-------------------+-----------+-----------------+\n",
            "only showing top 20 rows\n",
            "\n"
          ],
          "name": "stdout"
        }
      ]
    },
    {
      "cell_type": "code",
      "metadata": {
        "colab": {
          "base_uri": "https://localhost:8080/"
        },
        "id": "ZYsUiFrjx0vZ",
        "outputId": "b91b524d-c257-4447-82e4-e5a369d1ce24"
      },
      "source": [
        "# create object and specify input and output column\n",
        "OHE = OneHotEncoder(inputCols=['Gender_Index', 'Married_Index','Education_Index','ApplicantIncome_Index','CoapplicantIncome_Index','LoanAmount_Index','Loan_Amount_Term_Index','Credit_History_Index','Property_Area_Index','Loan_Status_Index'],outputCols=['Gender_OHE', 'Married_OHE','Education_OHE','ApplicantIncome_OHE','CoapplicantIncome_OHE','LoanAmount_OHE','Loan_Amount_Term_OHE','Credit_History_OHE','Property_Area_OHE','Loan_Status_OHE'])\n",
        "\n",
        "# transform the data\n",
        "my_data = OHE.fit(my_data).transform(my_data)\n",
        "\n",
        "# view and transform the data\n",
        "my_data.select('Gender', 'Gender_Index','Gender_OHE').show()"
      ],
      "execution_count": 414,
      "outputs": [
        {
          "output_type": "stream",
          "text": [
            "+------+------------+-------------+\n",
            "|Gender|Gender_Index|   Gender_OHE|\n",
            "+------+------------+-------------+\n",
            "|  Male|         0.0|(2,[0],[1.0])|\n",
            "|  Male|         0.0|(2,[0],[1.0])|\n",
            "|  Male|         0.0|(2,[0],[1.0])|\n",
            "|  Male|         0.0|(2,[0],[1.0])|\n",
            "|  Male|         0.0|(2,[0],[1.0])|\n",
            "|  Male|         0.0|(2,[0],[1.0])|\n",
            "|  Male|         0.0|(2,[0],[1.0])|\n",
            "|  Male|         0.0|(2,[0],[1.0])|\n",
            "|  Male|         0.0|(2,[0],[1.0])|\n",
            "|  Male|         0.0|(2,[0],[1.0])|\n",
            "|  Male|         0.0|(2,[0],[1.0])|\n",
            "|  Male|         0.0|(2,[0],[1.0])|\n",
            "|  Male|         0.0|(2,[0],[1.0])|\n",
            "|  Male|         0.0|(2,[0],[1.0])|\n",
            "|  Male|         0.0|(2,[0],[1.0])|\n",
            "|  Male|         0.0|(2,[0],[1.0])|\n",
            "|  Male|         0.0|(2,[0],[1.0])|\n",
            "|Female|         1.0|(2,[1],[1.0])|\n",
            "|  Male|         0.0|(2,[0],[1.0])|\n",
            "|  Male|         0.0|(2,[0],[1.0])|\n",
            "+------+------------+-------------+\n",
            "only showing top 20 rows\n",
            "\n"
          ],
          "name": "stdout"
        }
      ]
    },
    {
      "cell_type": "code",
      "metadata": {
        "colab": {
          "base_uri": "https://localhost:8080/"
        },
        "id": "svzlWrE00V9h",
        "outputId": "7793aa15-3924-4e66-c4ff-c4c99d0ff6e0"
      },
      "source": [
        "my_data.columns"
      ],
      "execution_count": 415,
      "outputs": [
        {
          "output_type": "execute_result",
          "data": {
            "text/plain": [
              "['Gender',\n",
              " 'Married',\n",
              " 'Education',\n",
              " 'ApplicantIncome',\n",
              " 'CoapplicantIncome',\n",
              " 'LoanAmount',\n",
              " 'Loan_Amount_Term',\n",
              " 'Credit_History',\n",
              " 'Property_Area',\n",
              " 'Loan_Status',\n",
              " 'Gender_Index',\n",
              " 'Married_Index',\n",
              " 'Education_Index',\n",
              " 'ApplicantIncome_Index',\n",
              " 'CoapplicantIncome_Index',\n",
              " 'LoanAmount_Index',\n",
              " 'Loan_Amount_Term_Index',\n",
              " 'Credit_History_Index',\n",
              " 'Property_Area_Index',\n",
              " 'Loan_Status_Index',\n",
              " 'Education_OHE',\n",
              " 'Loan_Status_OHE',\n",
              " 'CoapplicantIncome_OHE',\n",
              " 'Gender_OHE',\n",
              " 'LoanAmount_OHE',\n",
              " 'Property_Area_OHE',\n",
              " 'ApplicantIncome_OHE',\n",
              " 'Loan_Amount_Term_OHE',\n",
              " 'Credit_History_OHE',\n",
              " 'Married_OHE']"
            ]
          },
          "metadata": {
            "tags": []
          },
          "execution_count": 415
        }
      ]
    },
    {
      "cell_type": "code",
      "metadata": {
        "id": "4xcMNR9u75l5"
      },
      "source": [
        ""
      ],
      "execution_count": null,
      "outputs": []
    },
    {
      "cell_type": "code",
      "metadata": {
        "id": "qoJeCxpA7uhc"
      },
      "source": [
        "from pyspark.ml.feature import VectorAssembler\n",
        "\n",
        "# specify the input and output columns of the vector assembler\n",
        "assembler = VectorAssembler(inputCols=['Gender_Index',\n",
        " 'Married_Index',\n",
        " 'Education_Index',\n",
        " 'ApplicantIncome_Index',\n",
        " 'CoapplicantIncome_Index',\n",
        " 'LoanAmount_Index',\n",
        " 'Loan_Amount_Term_Index',\n",
        " 'Credit_History_Index',\n",
        " 'Property_Area_Index',\n",
        " 'Education_OHE',\n",
        " 'CoapplicantIncome_OHE',\n",
        " 'Gender_OHE',\n",
        " 'LoanAmount_OHE',\n",
        " 'Property_Area_OHE',\n",
        " 'ApplicantIncome_OHE',\n",
        " 'Loan_Amount_Term_OHE',\n",
        " 'Credit_History_OHE',\n",
        " 'Married_OHE'],\n",
        "                           outputCol='features')\n",
        "\n",
        "# fill the null values\n",
        "my_data = my_data.fillna(0)\n",
        "\n",
        "# transform the data\n",
        "final_data = assembler.transform(my_data)"
      ],
      "execution_count": 416,
      "outputs": []
    },
    {
      "cell_type": "code",
      "metadata": {
        "colab": {
          "base_uri": "https://localhost:8080/"
        },
        "id": "ngBl1QRG9CMU",
        "outputId": "5dda1515-31c0-4a8f-dc55-5c4b6503f4a8"
      },
      "source": [
        "final_data.show(300)"
      ],
      "execution_count": 418,
      "outputs": [
        {
          "output_type": "stream",
          "text": [
            "+-------+-------+------------+---------------+-----------------+----------+----------------+--------------+-------------+-----------+------------+-------------+---------------+---------------------+-----------------------+----------------+----------------------+--------------------+-------------------+-----------------+-------------+---------------+---------------------+-------------+-----------------+-----------------+-------------------+--------------------+------------------+-------------+--------------------+\n",
            "| Gender|Married|   Education|ApplicantIncome|CoapplicantIncome|LoanAmount|Loan_Amount_Term|Credit_History|Property_Area|Loan_Status|Gender_Index|Married_Index|Education_Index|ApplicantIncome_Index|CoapplicantIncome_Index|LoanAmount_Index|Loan_Amount_Term_Index|Credit_History_Index|Property_Area_Index|Loan_Status_Index|Education_OHE|Loan_Status_OHE|CoapplicantIncome_OHE|   Gender_OHE|   LoanAmount_OHE|Property_Area_OHE|ApplicantIncome_OHE|Loan_Amount_Term_OHE|Credit_History_OHE|  Married_OHE|            features|\n",
            "+-------+-------+------------+---------------+-----------------+----------+----------------+--------------+-------------+-----------+------------+-------------+---------------+---------------------+-----------------------+----------------+----------------------+--------------------+-------------------+-----------------+-------------+---------------+---------------------+-------------+-----------------+-----------------+-------------------+--------------------+------------------+-------------+--------------------+\n",
            "|   Male|     No|    Graduate|           5849|              0.0|         0|             360|             1|        Urban|          Y|         0.0|          1.0|            0.0|                430.0|                    0.0|             0.0|                   0.0|                 0.0|                1.0|              0.0|(1,[0],[1.0])|  (1,[0],[1.0])|      (286,[0],[1.0])|(2,[0],[1.0])|  (203,[0],[1.0])|    (2,[1],[1.0])|  (504,[430],[1.0])|      (10,[0],[1.0])|     (1,[0],[1.0])|(2,[1],[1.0])|(1020,[1,3,8,9,10...|\n",
            "|   Male|    Yes|    Graduate|           4583|           1508.0|       128|             360|             1|        Rural|          N|         0.0|          0.0|            0.0|                  2.0|                   76.0|             7.0|                   0.0|                 0.0|                2.0|              1.0|(1,[0],[1.0])|      (1,[],[])|     (286,[76],[1.0])|(2,[0],[1.0])|  (203,[7],[1.0])|        (2,[],[])|    (504,[2],[1.0])|      (10,[0],[1.0])|     (1,[0],[1.0])|(2,[0],[1.0])|(1020,[3,4,5,8,9,...|\n",
            "|   Male|    Yes|    Graduate|           3000|              0.0|        66|             360|             1|        Urban|          Y|         0.0|          0.0|            0.0|                 14.0|                    0.0|            52.0|                   0.0|                 0.0|                1.0|              0.0|(1,[0],[1.0])|  (1,[0],[1.0])|      (286,[0],[1.0])|(2,[0],[1.0])| (203,[52],[1.0])|    (2,[1],[1.0])|   (504,[14],[1.0])|      (10,[0],[1.0])|     (1,[0],[1.0])|(2,[0],[1.0])|(1020,[3,5,8,9,10...|\n",
            "|   Male|    Yes|Not Graduate|           2583|           2358.0|       120|             360|             1|        Urban|          Y|         0.0|          0.0|            1.0|                  9.0|                  160.0|             1.0|                   0.0|                 0.0|                1.0|              0.0|    (1,[],[])|  (1,[0],[1.0])|    (286,[160],[1.0])|(2,[0],[1.0])|  (203,[1],[1.0])|    (2,[1],[1.0])|    (504,[9],[1.0])|      (10,[0],[1.0])|     (1,[0],[1.0])|(2,[0],[1.0])|(1020,[2,3,4,5,8,...|\n",
            "|   Male|     No|    Graduate|           6000|              0.0|       141|             360|             1|        Urban|          Y|         0.0|          1.0|            0.0|                  3.0|                    0.0|            84.0|                   0.0|                 0.0|                1.0|              0.0|(1,[0],[1.0])|  (1,[0],[1.0])|      (286,[0],[1.0])|(2,[0],[1.0])| (203,[84],[1.0])|    (2,[1],[1.0])|    (504,[3],[1.0])|      (10,[0],[1.0])|     (1,[0],[1.0])|(2,[1],[1.0])|(1020,[1,3,5,8,9,...|\n",
            "|   Male|    Yes|    Graduate|           5417|           4196.0|       267|             360|             1|        Urban|          Y|         0.0|          0.0|            0.0|                 21.0|                  234.0|           150.0|                   0.0|                 0.0|                1.0|              0.0|(1,[0],[1.0])|  (1,[0],[1.0])|    (286,[234],[1.0])|(2,[0],[1.0])|(203,[150],[1.0])|    (2,[1],[1.0])|   (504,[21],[1.0])|      (10,[0],[1.0])|     (1,[0],[1.0])|(2,[0],[1.0])|(1020,[3,4,5,8,9,...|\n",
            "|   Male|    Yes|Not Graduate|           2333|           1516.0|        95|             360|             1|        Urban|          Y|         0.0|          0.0|            1.0|                 13.0|                   77.0|             9.0|                   0.0|                 0.0|                1.0|              0.0|    (1,[],[])|  (1,[0],[1.0])|     (286,[77],[1.0])|(2,[0],[1.0])|  (203,[9],[1.0])|    (2,[1],[1.0])|   (504,[13],[1.0])|      (10,[0],[1.0])|     (1,[0],[1.0])|(2,[0],[1.0])|(1020,[2,3,4,5,8,...|\n",
            "|   Male|    Yes|    Graduate|           3036|           2504.0|       158|             360|             0|    Semiurban|          N|         0.0|          0.0|            0.0|                224.0|                  174.0|            24.0|                   0.0|                 1.0|                0.0|              1.0|(1,[0],[1.0])|      (1,[],[])|    (286,[174],[1.0])|(2,[0],[1.0])| (203,[24],[1.0])|    (2,[0],[1.0])|  (504,[224],[1.0])|      (10,[0],[1.0])|         (1,[],[])|(2,[0],[1.0])|(1020,[3,4,5,7,9,...|\n",
            "|   Male|    Yes|    Graduate|           4006|           1526.0|       168|             360|             1|        Urban|          Y|         0.0|          0.0|            0.0|                334.0|                   79.0|            65.0|                   0.0|                 0.0|                1.0|              0.0|(1,[0],[1.0])|  (1,[0],[1.0])|     (286,[79],[1.0])|(2,[0],[1.0])| (203,[65],[1.0])|    (2,[1],[1.0])|  (504,[334],[1.0])|      (10,[0],[1.0])|     (1,[0],[1.0])|(2,[0],[1.0])|(1020,[3,4,5,8,9,...|\n",
            "|   Male|    Yes|    Graduate|          12841|          10968.0|       349|             360|             1|    Semiurban|          N|         0.0|          0.0|            0.0|                 75.0|                   49.0|           166.0|                   0.0|                 0.0|                0.0|              1.0|(1,[0],[1.0])|      (1,[],[])|     (286,[49],[1.0])|(2,[0],[1.0])|(203,[166],[1.0])|    (2,[0],[1.0])|   (504,[75],[1.0])|      (10,[0],[1.0])|     (1,[0],[1.0])|(2,[0],[1.0])|(1020,[3,4,5,9,59...|\n",
            "|   Male|    Yes|    Graduate|           3200|            700.0|        70|             360|             1|        Urban|          Y|         0.0|          0.0|            0.0|                 41.0|                  269.0|            13.0|                   0.0|                 0.0|                1.0|              0.0|(1,[0],[1.0])|  (1,[0],[1.0])|    (286,[269],[1.0])|(2,[0],[1.0])| (203,[13],[1.0])|    (2,[1],[1.0])|   (504,[41],[1.0])|      (10,[0],[1.0])|     (1,[0],[1.0])|(2,[0],[1.0])|(1020,[3,4,5,8,9,...|\n",
            "|   Male|    Yes|    Graduate|           2500|           1840.0|       109|             360|             1|        Urban|          Y|         0.0|          0.0|            0.0|                  0.0|                  107.0|            79.0|                   0.0|                 0.0|                1.0|              0.0|(1,[0],[1.0])|  (1,[0],[1.0])|    (286,[107],[1.0])|(2,[0],[1.0])| (203,[79],[1.0])|    (2,[1],[1.0])|    (504,[0],[1.0])|      (10,[0],[1.0])|     (1,[0],[1.0])|(2,[0],[1.0])|(1020,[4,5,8,9,11...|\n",
            "|   Male|    Yes|    Graduate|           3073|           8106.0|       200|             360|             1|        Urban|          Y|         0.0|          0.0|            0.0|                228.0|                  278.0|            37.0|                   0.0|                 0.0|                1.0|              0.0|(1,[0],[1.0])|  (1,[0],[1.0])|    (286,[278],[1.0])|(2,[0],[1.0])| (203,[37],[1.0])|    (2,[1],[1.0])|  (504,[228],[1.0])|      (10,[0],[1.0])|     (1,[0],[1.0])|(2,[0],[1.0])|(1020,[3,4,5,8,9,...|\n",
            "|   Male|     No|    Graduate|           1853|           2840.0|       114|             360|             1|        Rural|          N|         0.0|          1.0|            0.0|                111.0|                  187.0|            80.0|                   0.0|                 0.0|                2.0|              1.0|(1,[0],[1.0])|      (1,[],[])|    (286,[187],[1.0])|(2,[0],[1.0])| (203,[80],[1.0])|        (2,[],[])|  (504,[111],[1.0])|      (10,[0],[1.0])|     (1,[0],[1.0])|(2,[1],[1.0])|(1020,[1,3,4,5,8,...|\n",
            "|   Male|    Yes|    Graduate|           1299|           1086.0|        17|             120|             1|        Urban|          Y|         0.0|          0.0|            0.0|                 77.0|                   48.0|           124.0|                   7.0|                 0.0|                1.0|              0.0|(1,[0],[1.0])|  (1,[0],[1.0])|     (286,[48],[1.0])|(2,[0],[1.0])|(203,[124],[1.0])|    (2,[1],[1.0])|   (504,[77],[1.0])|      (10,[7],[1.0])|     (1,[0],[1.0])|(2,[0],[1.0])|(1020,[3,4,5,6,8,...|\n",
            "|   Male|     No|    Graduate|           4950|              0.0|       125|             360|             1|        Urban|          Y|         0.0|          1.0|            0.0|                396.0|                    0.0|            15.0|                   0.0|                 0.0|                1.0|              0.0|(1,[0],[1.0])|  (1,[0],[1.0])|      (286,[0],[1.0])|(2,[0],[1.0])| (203,[15],[1.0])|    (2,[1],[1.0])|  (504,[396],[1.0])|      (10,[0],[1.0])|     (1,[0],[1.0])|(2,[1],[1.0])|(1020,[1,3,5,8,9,...|\n",
            "|   Male|     No|Not Graduate|           3596|              0.0|       100|             240|             0|        Urban|          Y|         0.0|          1.0|            1.0|                285.0|                    0.0|             3.0|                   5.0|                 1.0|                1.0|              0.0|    (1,[],[])|  (1,[0],[1.0])|      (286,[0],[1.0])|(2,[0],[1.0])|  (203,[3],[1.0])|    (2,[1],[1.0])|  (504,[285],[1.0])|      (10,[5],[1.0])|         (1,[],[])|(2,[1],[1.0])|(1020,[1,2,3,5,6,...|\n",
            "| Female|     No|    Graduate|           3510|              0.0|        76|             360|             0|        Urban|          N|         1.0|          1.0|            0.0|                 44.0|                    0.0|           108.0|                   0.0|                 1.0|                1.0|              1.0|(1,[0],[1.0])|      (1,[],[])|      (286,[0],[1.0])|(2,[1],[1.0])|(203,[108],[1.0])|    (2,[1],[1.0])|   (504,[44],[1.0])|      (10,[0],[1.0])|         (1,[],[])|(2,[1],[1.0])|(1020,[0,1,3,5,7,...|\n",
            "|   Male|    Yes|Not Graduate|           4887|              0.0|       133|             360|             1|        Rural|          N|         0.0|          0.0|            1.0|                390.0|                    0.0|            33.0|                   0.0|                 0.0|                2.0|              1.0|    (1,[],[])|      (1,[],[])|      (286,[0],[1.0])|(2,[0],[1.0])| (203,[33],[1.0])|        (2,[],[])|  (504,[390],[1.0])|      (10,[0],[1.0])|     (1,[0],[1.0])|(2,[0],[1.0])|(1020,[2,3,5,8,10...|\n",
            "|   Male|    Yes|    Graduate|           2600|           3500.0|       115|               0|             1|        Urban|          Y|         0.0|          0.0|            0.0|                  1.0|                   34.0|            12.0|                   3.0|                 0.0|                1.0|              0.0|(1,[0],[1.0])|  (1,[0],[1.0])|     (286,[34],[1.0])|(2,[0],[1.0])| (203,[12],[1.0])|    (2,[1],[1.0])|    (504,[1],[1.0])|      (10,[3],[1.0])|     (1,[0],[1.0])|(2,[0],[1.0])|(1020,[3,4,5,6,8,...|\n",
            "|   Male|    Yes|Not Graduate|           7660|              0.0|       104|             360|             0|        Urban|          N|         0.0|          0.0|            1.0|                476.0|                    0.0|            14.0|                   0.0|                 1.0|                1.0|              1.0|    (1,[],[])|      (1,[],[])|      (286,[0],[1.0])|(2,[0],[1.0])| (203,[14],[1.0])|    (2,[1],[1.0])|  (504,[476],[1.0])|      (10,[0],[1.0])|         (1,[],[])|(2,[0],[1.0])|(1020,[2,3,5,7,8,...|\n",
            "|   Male|    Yes|    Graduate|           5955|           5625.0|       315|             360|             1|        Urban|          Y|         0.0|          0.0|            0.0|                434.0|                   10.0|           162.0|                   0.0|                 0.0|                1.0|              0.0|(1,[0],[1.0])|  (1,[0],[1.0])|     (286,[10],[1.0])|(2,[0],[1.0])|(203,[162],[1.0])|    (2,[1],[1.0])|  (504,[434],[1.0])|      (10,[0],[1.0])|     (1,[0],[1.0])|(2,[0],[1.0])|(1020,[3,4,5,8,9,...|\n",
            "|   Male|    Yes|Not Graduate|           2600|           1911.0|       116|             360|             0|    Semiurban|          N|         0.0|          0.0|            1.0|                  1.0|                  117.0|            20.0|                   0.0|                 1.0|                0.0|              1.0|    (1,[],[])|      (1,[],[])|    (286,[117],[1.0])|(2,[0],[1.0])| (203,[20],[1.0])|    (2,[0],[1.0])|    (504,[1],[1.0])|      (10,[0],[1.0])|         (1,[],[])|(2,[0],[1.0])|(1020,[2,3,4,5,7,...|\n",
            "|unknown|    Yes|Not Graduate|           3365|           1917.0|       112|             360|             0|        Rural|          N|         2.0|          0.0|            1.0|                261.0|                   21.0|            11.0|                   0.0|                 1.0|                2.0|              1.0|    (1,[],[])|      (1,[],[])|     (286,[21],[1.0])|    (2,[],[])| (203,[11],[1.0])|        (2,[],[])|  (504,[261],[1.0])|      (10,[0],[1.0])|         (1,[],[])|(2,[0],[1.0])|(1020,[0,2,3,4,5,...|\n",
            "|   Male|    Yes|    Graduate|           3717|           2925.0|       151|             360|             0|    Semiurban|          N|         0.0|          0.0|            0.0|                 46.0|                   31.0|            46.0|                   0.0|                 1.0|                0.0|              1.0|(1,[0],[1.0])|      (1,[],[])|     (286,[31],[1.0])|(2,[0],[1.0])| (203,[46],[1.0])|    (2,[0],[1.0])|   (504,[46],[1.0])|      (10,[0],[1.0])|         (1,[],[])|(2,[0],[1.0])|(1020,[3,4,5,7,9,...|\n",
            "|   Male|    Yes|    Graduate|           9560|              0.0|       191|             360|             1|    Semiurban|          Y|         0.0|          0.0|            0.0|                501.0|                    0.0|           128.0|                   0.0|                 0.0|                0.0|              0.0|(1,[0],[1.0])|  (1,[0],[1.0])|      (286,[0],[1.0])|(2,[0],[1.0])|(203,[128],[1.0])|    (2,[0],[1.0])|  (504,[501],[1.0])|      (10,[0],[1.0])|     (1,[0],[1.0])|(2,[0],[1.0])|(1020,[3,5,9,10,2...|\n",
            "|   Male|    Yes|    Graduate|           2799|           2253.0|       122|             360|             1|    Semiurban|          Y|         0.0|          0.0|            0.0|                198.0|                  151.0|            40.0|                   0.0|                 0.0|                0.0|              0.0|(1,[0],[1.0])|  (1,[0],[1.0])|    (286,[151],[1.0])|(2,[0],[1.0])| (203,[40],[1.0])|    (2,[0],[1.0])|  (504,[198],[1.0])|      (10,[0],[1.0])|     (1,[0],[1.0])|(2,[0],[1.0])|(1020,[3,4,5,9,16...|\n",
            "|   Male|    Yes|Not Graduate|           4226|           1040.0|       110|             360|             1|        Urban|          Y|         0.0|          0.0|            1.0|                350.0|                   45.0|             2.0|                   0.0|                 0.0|                1.0|              0.0|    (1,[],[])|  (1,[0],[1.0])|     (286,[45],[1.0])|(2,[0],[1.0])|  (203,[2],[1.0])|    (2,[1],[1.0])|  (504,[350],[1.0])|      (10,[0],[1.0])|     (1,[0],[1.0])|(2,[0],[1.0])|(1020,[2,3,4,5,8,...|\n",
            "|   Male|     No|Not Graduate|           1442|              0.0|        35|             360|             1|        Urban|          N|         0.0|          1.0|            1.0|                 81.0|                    0.0|           167.0|                   0.0|                 0.0|                1.0|              1.0|    (1,[],[])|      (1,[],[])|      (286,[0],[1.0])|(2,[0],[1.0])|(203,[167],[1.0])|    (2,[1],[1.0])|   (504,[81],[1.0])|      (10,[0],[1.0])|     (1,[0],[1.0])|(2,[1],[1.0])|(1020,[1,2,3,5,8,...|\n",
            "| Female|     No|    Graduate|           3750|           2083.0|       120|             360|             1|    Semiurban|          Y|         1.0|          1.0|            0.0|                  5.0|                    2.0|             1.0|                   0.0|                 0.0|                0.0|              0.0|(1,[0],[1.0])|  (1,[0],[1.0])|      (286,[2],[1.0])|(2,[1],[1.0])|  (203,[1],[1.0])|    (2,[0],[1.0])|    (504,[5],[1.0])|      (10,[0],[1.0])|     (1,[0],[1.0])|(2,[1],[1.0])|(1020,[0,1,3,4,5,...|\n",
            "|   Male|    Yes|    Graduate|           4166|           3369.0|       201|             360|             0|        Urban|          N|         0.0|          0.0|            0.0|                  6.0|                  211.0|            95.0|                   0.0|                 1.0|                1.0|              1.0|(1,[0],[1.0])|      (1,[],[])|    (286,[211],[1.0])|(2,[0],[1.0])| (203,[95],[1.0])|    (2,[1],[1.0])|    (504,[6],[1.0])|      (10,[0],[1.0])|         (1,[],[])|(2,[0],[1.0])|(1020,[3,4,5,7,8,...|\n",
            "|   Male|     No|    Graduate|           3167|              0.0|        74|             360|             1|        Urban|          N|         0.0|          1.0|            0.0|                 16.0|                    0.0|            75.0|                   0.0|                 0.0|                1.0|              1.0|(1,[0],[1.0])|      (1,[],[])|      (286,[0],[1.0])|(2,[0],[1.0])| (203,[75],[1.0])|    (2,[1],[1.0])|   (504,[16],[1.0])|      (10,[0],[1.0])|     (1,[0],[1.0])|(2,[1],[1.0])|(1020,[1,3,5,8,9,...|\n",
            "|   Male|     No|    Graduate|           4692|              0.0|       106|             360|             1|        Rural|          N|         0.0|          1.0|            0.0|                377.0|                    0.0|            78.0|                   0.0|                 0.0|                2.0|              1.0|(1,[0],[1.0])|      (1,[],[])|      (286,[0],[1.0])|(2,[0],[1.0])| (203,[78],[1.0])|        (2,[],[])|  (504,[377],[1.0])|      (10,[0],[1.0])|     (1,[0],[1.0])|(2,[1],[1.0])|(1020,[1,3,5,8,9,...|\n",
            "|   Male|    Yes|    Graduate|           3500|           1667.0|       114|             360|             1|    Semiurban|          Y|         0.0|          0.0|            0.0|                 18.0|                   17.0|            80.0|                   0.0|                 0.0|                0.0|              0.0|(1,[0],[1.0])|  (1,[0],[1.0])|     (286,[17],[1.0])|(2,[0],[1.0])| (203,[80],[1.0])|    (2,[0],[1.0])|   (504,[18],[1.0])|      (10,[0],[1.0])|     (1,[0],[1.0])|(2,[0],[1.0])|(1020,[3,4,5,9,27...|\n",
            "|   Male|     No|    Graduate|          12500|           3000.0|       320|             360|             1|        Rural|          N|         0.0|          1.0|            0.0|                 74.0|                   32.0|           163.0|                   0.0|                 0.0|                2.0|              1.0|(1,[0],[1.0])|      (1,[],[])|     (286,[32],[1.0])|(2,[0],[1.0])|(203,[163],[1.0])|        (2,[],[])|   (504,[74],[1.0])|      (10,[0],[1.0])|     (1,[0],[1.0])|(2,[1],[1.0])|(1020,[1,3,4,5,8,...|\n",
            "|   Male|    Yes|    Graduate|           2275|           2067.0|         0|             360|             1|        Urban|          Y|         0.0|          0.0|            0.0|                149.0|                  132.0|             0.0|                   0.0|                 0.0|                1.0|              0.0|(1,[0],[1.0])|  (1,[0],[1.0])|    (286,[132],[1.0])|(2,[0],[1.0])|  (203,[0],[1.0])|    (2,[1],[1.0])|  (504,[149],[1.0])|      (10,[0],[1.0])|     (1,[0],[1.0])|(2,[0],[1.0])|(1020,[3,4,8,9,14...|\n",
            "|   Male|    Yes|    Graduate|           1828|           1330.0|       100|               0|             0|        Urban|          N|         0.0|          0.0|            0.0|                107.0|                   63.0|             3.0|                   3.0|                 1.0|                1.0|              1.0|(1,[0],[1.0])|      (1,[],[])|     (286,[63],[1.0])|(2,[0],[1.0])|  (203,[3],[1.0])|    (2,[1],[1.0])|  (504,[107],[1.0])|      (10,[3],[1.0])|         (1,[],[])|(2,[0],[1.0])|(1020,[3,4,5,6,7,...|\n",
            "| Female|    Yes|    Graduate|           3667|           1459.0|       144|             360|             1|    Semiurban|          Y|         1.0|          0.0|            0.0|                 45.0|                    4.0|            22.0|                   0.0|                 0.0|                0.0|              0.0|(1,[0],[1.0])|  (1,[0],[1.0])|      (286,[4],[1.0])|(2,[1],[1.0])| (203,[22],[1.0])|    (2,[0],[1.0])|   (504,[45],[1.0])|      (10,[0],[1.0])|     (1,[0],[1.0])|(2,[0],[1.0])|(1020,[0,3,4,5,9,...|\n",
            "|   Male|     No|    Graduate|           4166|           7210.0|       184|             360|             1|        Urban|          Y|         0.0|          1.0|            0.0|                  6.0|                  272.0|            91.0|                   0.0|                 0.0|                1.0|              0.0|(1,[0],[1.0])|  (1,[0],[1.0])|    (286,[272],[1.0])|(2,[0],[1.0])| (203,[91],[1.0])|    (2,[1],[1.0])|    (504,[6],[1.0])|      (10,[0],[1.0])|     (1,[0],[1.0])|(2,[1],[1.0])|(1020,[1,3,4,5,8,...|\n",
            "|   Male|     No|Not Graduate|           3748|           1668.0|       110|             360|             1|    Semiurban|          Y|         0.0|          1.0|            1.0|                304.0|                   91.0|             2.0|                   0.0|                 0.0|                0.0|              0.0|    (1,[],[])|  (1,[0],[1.0])|     (286,[91],[1.0])|(2,[0],[1.0])|  (203,[2],[1.0])|    (2,[0],[1.0])|  (504,[304],[1.0])|      (10,[0],[1.0])|     (1,[0],[1.0])|(2,[1],[1.0])|(1020,[1,2,3,4,5,...|\n",
            "|   Male|     No|    Graduate|           3600|              0.0|        80|             360|             1|        Urban|          N|         0.0|          1.0|            0.0|                288.0|                    0.0|            27.0|                   0.0|                 0.0|                1.0|              1.0|(1,[0],[1.0])|      (1,[],[])|      (286,[0],[1.0])|(2,[0],[1.0])| (203,[27],[1.0])|    (2,[1],[1.0])|  (504,[288],[1.0])|      (10,[0],[1.0])|     (1,[0],[1.0])|(2,[1],[1.0])|(1020,[1,3,5,8,9,...|\n",
            "|   Male|     No|    Graduate|           1800|           1213.0|        47|             360|             1|        Urban|          Y|         0.0|          1.0|            0.0|                 25.0|                   56.0|           179.0|                   0.0|                 0.0|                1.0|              0.0|(1,[0],[1.0])|  (1,[0],[1.0])|     (286,[56],[1.0])|(2,[0],[1.0])|(203,[179],[1.0])|    (2,[1],[1.0])|   (504,[25],[1.0])|      (10,[0],[1.0])|     (1,[0],[1.0])|(2,[1],[1.0])|(1020,[1,3,4,5,8,...|\n",
            "|   Male|    Yes|    Graduate|           2400|              0.0|        75|             360|             0|        Urban|          Y|         0.0|          0.0|            0.0|                  8.0|                    0.0|            76.0|                   0.0|                 1.0|                1.0|              0.0|(1,[0],[1.0])|  (1,[0],[1.0])|      (286,[0],[1.0])|(2,[0],[1.0])| (203,[76],[1.0])|    (2,[1],[1.0])|    (504,[8],[1.0])|      (10,[0],[1.0])|         (1,[],[])|(2,[0],[1.0])|(1020,[3,5,7,8,9,...|\n",
            "|   Male|    Yes|    Graduate|           3941|           2336.0|       134|             360|             1|    Semiurban|          Y|         0.0|          0.0|            0.0|                326.0|                  158.0|            44.0|                   0.0|                 0.0|                0.0|              0.0|(1,[0],[1.0])|  (1,[0],[1.0])|    (286,[158],[1.0])|(2,[0],[1.0])| (203,[44],[1.0])|    (2,[0],[1.0])|  (504,[326],[1.0])|      (10,[0],[1.0])|     (1,[0],[1.0])|(2,[0],[1.0])|(1020,[3,4,5,9,16...|\n",
            "|   Male|    Yes|Not Graduate|           4695|              0.0|        96|               0|             1|        Urban|          Y|         0.0|          0.0|            1.0|                378.0|                    0.0|            10.0|                   3.0|                 0.0|                1.0|              0.0|    (1,[],[])|  (1,[0],[1.0])|      (286,[0],[1.0])|(2,[0],[1.0])| (203,[10],[1.0])|    (2,[1],[1.0])|  (504,[378],[1.0])|      (10,[3],[1.0])|     (1,[0],[1.0])|(2,[0],[1.0])|(1020,[2,3,5,6,8,...|\n",
            "| Female|     No|    Graduate|           3410|              0.0|        88|               0|             1|        Urban|          Y|         1.0|          1.0|            0.0|                266.0|                    0.0|            54.0|                   3.0|                 0.0|                1.0|              0.0|(1,[0],[1.0])|  (1,[0],[1.0])|      (286,[0],[1.0])|(2,[1],[1.0])| (203,[54],[1.0])|    (2,[1],[1.0])|  (504,[266],[1.0])|      (10,[3],[1.0])|     (1,[0],[1.0])|(2,[1],[1.0])|(1020,[0,1,3,5,6,...|\n",
            "|   Male|    Yes|    Graduate|           5649|              0.0|        44|             360|             1|        Urban|          Y|         0.0|          0.0|            0.0|                417.0|                    0.0|           104.0|                   0.0|                 0.0|                1.0|              0.0|(1,[0],[1.0])|  (1,[0],[1.0])|      (286,[0],[1.0])|(2,[0],[1.0])|(203,[104],[1.0])|    (2,[1],[1.0])|  (504,[417],[1.0])|      (10,[0],[1.0])|     (1,[0],[1.0])|(2,[0],[1.0])|(1020,[3,5,8,9,10...|\n",
            "|   Male|    Yes|    Graduate|           5821|              0.0|       144|             360|             1|        Urban|          Y|         0.0|          0.0|            0.0|                428.0|                    0.0|            22.0|                   0.0|                 0.0|                1.0|              0.0|(1,[0],[1.0])|  (1,[0],[1.0])|      (286,[0],[1.0])|(2,[0],[1.0])| (203,[22],[1.0])|    (2,[1],[1.0])|  (504,[428],[1.0])|      (10,[0],[1.0])|     (1,[0],[1.0])|(2,[0],[1.0])|(1020,[3,5,8,9,10...|\n",
            "| Female|    Yes|    Graduate|           2645|           3440.0|       120|             360|             0|        Urban|          N|         1.0|          0.0|            0.0|                178.0|                  215.0|             1.0|                   0.0|                 1.0|                1.0|              1.0|(1,[0],[1.0])|      (1,[],[])|    (286,[215],[1.0])|(2,[1],[1.0])|  (203,[1],[1.0])|    (2,[1],[1.0])|  (504,[178],[1.0])|      (10,[0],[1.0])|         (1,[],[])|(2,[0],[1.0])|(1020,[0,3,4,5,7,...|\n",
            "| Female|     No|    Graduate|           4000|           2275.0|       144|             360|             1|    Semiurban|          Y|         1.0|          1.0|            0.0|                 19.0|                  153.0|            22.0|                   0.0|                 0.0|                0.0|              0.0|(1,[0],[1.0])|  (1,[0],[1.0])|    (286,[153],[1.0])|(2,[1],[1.0])| (203,[22],[1.0])|    (2,[0],[1.0])|   (504,[19],[1.0])|      (10,[0],[1.0])|     (1,[0],[1.0])|(2,[1],[1.0])|(1020,[0,1,3,4,5,...|\n",
            "| Female|    Yes|Not Graduate|           1928|           1644.0|       100|             360|             1|    Semiurban|          Y|         1.0|          0.0|            1.0|                118.0|                   89.0|             3.0|                   0.0|                 0.0|                0.0|              0.0|    (1,[],[])|  (1,[0],[1.0])|     (286,[89],[1.0])|(2,[1],[1.0])|  (203,[3],[1.0])|    (2,[0],[1.0])|  (504,[118],[1.0])|      (10,[0],[1.0])|     (1,[0],[1.0])|(2,[0],[1.0])|(1020,[0,2,3,4,5,...|\n",
            "| Female|     No|    Graduate|           3086|              0.0|       120|             360|             1|    Semiurban|          Y|         1.0|          1.0|            0.0|                231.0|                    0.0|             1.0|                   0.0|                 0.0|                0.0|              0.0|(1,[0],[1.0])|  (1,[0],[1.0])|      (286,[0],[1.0])|(2,[1],[1.0])|  (203,[1],[1.0])|    (2,[0],[1.0])|  (504,[231],[1.0])|      (10,[0],[1.0])|     (1,[0],[1.0])|(2,[1],[1.0])|(1020,[0,1,3,5,9,...|\n",
            "| Female|     No|    Graduate|           4230|              0.0|       112|             360|             1|    Semiurban|          N|         1.0|          1.0|            0.0|                351.0|                    0.0|            11.0|                   0.0|                 0.0|                0.0|              1.0|(1,[0],[1.0])|      (1,[],[])|      (286,[0],[1.0])|(2,[1],[1.0])| (203,[11],[1.0])|    (2,[0],[1.0])|  (504,[351],[1.0])|      (10,[0],[1.0])|     (1,[0],[1.0])|(2,[1],[1.0])|(1020,[0,1,3,5,9,...|\n",
            "|   Male|    Yes|    Graduate|           4616|              0.0|       134|             360|             1|        Urban|          N|         0.0|          0.0|            0.0|                371.0|                    0.0|            44.0|                   0.0|                 0.0|                1.0|              1.0|(1,[0],[1.0])|      (1,[],[])|      (286,[0],[1.0])|(2,[0],[1.0])| (203,[44],[1.0])|    (2,[1],[1.0])|  (504,[371],[1.0])|      (10,[0],[1.0])|     (1,[0],[1.0])|(2,[0],[1.0])|(1020,[3,5,8,9,10...|\n",
            "| Female|    Yes|    Graduate|          11500|              0.0|       286|             360|             0|        Urban|          N|         1.0|          0.0|            0.0|                 72.0|                    0.0|           153.0|                   0.0|                 1.0|                1.0|              1.0|(1,[0],[1.0])|      (1,[],[])|      (286,[0],[1.0])|(2,[1],[1.0])|(203,[153],[1.0])|    (2,[1],[1.0])|   (504,[72],[1.0])|      (10,[0],[1.0])|         (1,[],[])|(2,[0],[1.0])|(1020,[0,3,5,7,8,...|\n",
            "|   Male|    Yes|    Graduate|           2708|           1167.0|        97|             360|             1|    Semiurban|          Y|         0.0|          0.0|            0.0|                186.0|                   54.0|           110.0|                   0.0|                 0.0|                0.0|              0.0|(1,[0],[1.0])|  (1,[0],[1.0])|     (286,[54],[1.0])|(2,[0],[1.0])|(203,[110],[1.0])|    (2,[0],[1.0])|  (504,[186],[1.0])|      (10,[0],[1.0])|     (1,[0],[1.0])|(2,[0],[1.0])|(1020,[3,4,5,9,64...|\n",
            "|   Male|    Yes|    Graduate|           2132|           1591.0|        96|             360|             1|    Semiurban|          Y|         0.0|          0.0|            0.0|                136.0|                   83.0|            10.0|                   0.0|                 0.0|                0.0|              0.0|(1,[0],[1.0])|  (1,[0],[1.0])|     (286,[83],[1.0])|(2,[0],[1.0])| (203,[10],[1.0])|    (2,[0],[1.0])|  (504,[136],[1.0])|      (10,[0],[1.0])|     (1,[0],[1.0])|(2,[0],[1.0])|(1020,[3,4,5,9,93...|\n",
            "|   Male|    Yes|    Graduate|           3366|           2200.0|       135|             360|             1|        Rural|          N|         0.0|          0.0|            0.0|                262.0|                  146.0|            17.0|                   0.0|                 0.0|                2.0|              1.0|(1,[0],[1.0])|      (1,[],[])|    (286,[146],[1.0])|(2,[0],[1.0])| (203,[17],[1.0])|        (2,[],[])|  (504,[262],[1.0])|      (10,[0],[1.0])|     (1,[0],[1.0])|(2,[0],[1.0])|(1020,[3,4,5,8,9,...|\n",
            "|   Male|    Yes|    Graduate|           8080|           2250.0|       180|             360|             1|        Urban|          Y|         0.0|          0.0|            0.0|                485.0|                    8.0|            26.0|                   0.0|                 0.0|                1.0|              0.0|(1,[0],[1.0])|  (1,[0],[1.0])|      (286,[8],[1.0])|(2,[0],[1.0])| (203,[26],[1.0])|    (2,[1],[1.0])|  (504,[485],[1.0])|      (10,[0],[1.0])|     (1,[0],[1.0])|(2,[0],[1.0])|(1020,[3,4,5,8,9,...|\n",
            "|   Male|    Yes|Not Graduate|           3357|           2859.0|       144|             360|             1|        Urban|          Y|         0.0|          0.0|            1.0|                259.0|                  190.0|            22.0|                   0.0|                 0.0|                1.0|              0.0|    (1,[],[])|  (1,[0],[1.0])|    (286,[190],[1.0])|(2,[0],[1.0])| (203,[22],[1.0])|    (2,[1],[1.0])|  (504,[259],[1.0])|      (10,[0],[1.0])|     (1,[0],[1.0])|(2,[0],[1.0])|(1020,[2,3,4,5,8,...|\n",
            "|   Male|    Yes|    Graduate|           2500|           3796.0|       120|             360|             1|        Urban|          Y|         0.0|          0.0|            0.0|                  0.0|                  224.0|             1.0|                   0.0|                 0.0|                1.0|              0.0|(1,[0],[1.0])|  (1,[0],[1.0])|    (286,[224],[1.0])|(2,[0],[1.0])|  (203,[1],[1.0])|    (2,[1],[1.0])|    (504,[0],[1.0])|      (10,[0],[1.0])|     (1,[0],[1.0])|(2,[0],[1.0])|(1020,[4,5,8,9,23...|\n",
            "|   Male|    Yes|    Graduate|           3029|              0.0|        99|             360|             1|        Urban|          Y|         0.0|          0.0|            0.0|                222.0|                    0.0|            57.0|                   0.0|                 0.0|                1.0|              0.0|(1,[0],[1.0])|  (1,[0],[1.0])|      (286,[0],[1.0])|(2,[0],[1.0])| (203,[57],[1.0])|    (2,[1],[1.0])|  (504,[222],[1.0])|      (10,[0],[1.0])|     (1,[0],[1.0])|(2,[0],[1.0])|(1020,[3,5,8,9,10...|\n",
            "|   Male|    Yes|Not Graduate|           2609|           3449.0|       165|             180|             0|        Rural|          N|         0.0|          0.0|            1.0|                175.0|                  217.0|            64.0|                   1.0|                 1.0|                2.0|              1.0|    (1,[],[])|      (1,[],[])|    (286,[217],[1.0])|(2,[0],[1.0])| (203,[64],[1.0])|        (2,[],[])|  (504,[175],[1.0])|      (10,[1],[1.0])|         (1,[],[])|(2,[0],[1.0])|(1020,[2,3,4,5,6,...|\n",
            "|   Male|    Yes|    Graduate|           4945|              0.0|         0|             360|             0|        Rural|          N|         0.0|          0.0|            0.0|                395.0|                    0.0|             0.0|                   0.0|                 1.0|                2.0|              1.0|(1,[0],[1.0])|      (1,[],[])|      (286,[0],[1.0])|(2,[0],[1.0])|  (203,[0],[1.0])|        (2,[],[])|  (504,[395],[1.0])|      (10,[0],[1.0])|         (1,[],[])|(2,[0],[1.0])|(1020,[3,7,8,9,10...|\n",
            "| Female|     No|    Graduate|           4166|              0.0|       116|             360|             0|    Semiurban|          N|         1.0|          1.0|            0.0|                  6.0|                    0.0|            20.0|                   0.0|                 1.0|                0.0|              1.0|(1,[0],[1.0])|      (1,[],[])|      (286,[0],[1.0])|(2,[1],[1.0])| (203,[20],[1.0])|    (2,[0],[1.0])|    (504,[6],[1.0])|      (10,[0],[1.0])|         (1,[],[])|(2,[1],[1.0])|(1020,[0,1,3,5,7,...|\n",
            "|   Male|    Yes|    Graduate|           5726|           4595.0|       258|             360|             1|    Semiurban|          N|         0.0|          0.0|            0.0|                422.0|                  245.0|           100.0|                   0.0|                 0.0|                0.0|              1.0|(1,[0],[1.0])|      (1,[],[])|    (286,[245],[1.0])|(2,[0],[1.0])|(203,[100],[1.0])|    (2,[0],[1.0])|  (504,[422],[1.0])|      (10,[0],[1.0])|     (1,[0],[1.0])|(2,[0],[1.0])|(1020,[3,4,5,9,25...|\n",
            "|   Male|     No|Not Graduate|           3200|           2254.0|       126|             180|             0|        Urban|          N|         0.0|          1.0|            1.0|                 41.0|                  152.0|            42.0|                   1.0|                 1.0|                1.0|              1.0|    (1,[],[])|      (1,[],[])|    (286,[152],[1.0])|(2,[0],[1.0])| (203,[42],[1.0])|    (2,[1],[1.0])|   (504,[41],[1.0])|      (10,[1],[1.0])|         (1,[],[])|(2,[1],[1.0])|(1020,[1,2,3,4,5,...|\n",
            "|   Male|    Yes|    Graduate|          10750|              0.0|       312|             360|             1|        Urban|          Y|         0.0|          0.0|            0.0|                 66.0|                    0.0|           161.0|                   0.0|                 0.0|                1.0|              0.0|(1,[0],[1.0])|  (1,[0],[1.0])|      (286,[0],[1.0])|(2,[0],[1.0])|(203,[161],[1.0])|    (2,[1],[1.0])|   (504,[66],[1.0])|      (10,[0],[1.0])|     (1,[0],[1.0])|(2,[0],[1.0])|(1020,[3,5,8,9,10...|\n",
            "|   Male|    Yes|Not Graduate|           7100|              0.0|       125|              60|             1|        Urban|          Y|         0.0|          0.0|            1.0|                467.0|                    0.0|            15.0|                   9.0|                 0.0|                1.0|              0.0|    (1,[],[])|  (1,[0],[1.0])|      (286,[0],[1.0])|(2,[0],[1.0])| (203,[15],[1.0])|    (2,[1],[1.0])|  (504,[467],[1.0])|      (10,[9],[1.0])|     (1,[0],[1.0])|(2,[0],[1.0])|(1020,[2,3,5,6,8,...|\n",
            "| Female|     No|    Graduate|           4300|              0.0|       136|             360|             0|    Semiurban|          N|         1.0|          1.0|            0.0|                 49.0|                    0.0|            18.0|                   0.0|                 1.0|                0.0|              1.0|(1,[0],[1.0])|      (1,[],[])|      (286,[0],[1.0])|(2,[1],[1.0])| (203,[18],[1.0])|    (2,[0],[1.0])|   (504,[49],[1.0])|      (10,[0],[1.0])|         (1,[],[])|(2,[1],[1.0])|(1020,[0,1,3,5,7,...|\n",
            "|   Male|    Yes|    Graduate|           3208|           3066.0|       172|             360|             1|        Urban|          Y|         0.0|          0.0|            0.0|                244.0|                  199.0|            47.0|                   0.0|                 0.0|                1.0|              0.0|(1,[0],[1.0])|  (1,[0],[1.0])|    (286,[199],[1.0])|(2,[0],[1.0])| (203,[47],[1.0])|    (2,[1],[1.0])|  (504,[244],[1.0])|      (10,[0],[1.0])|     (1,[0],[1.0])|(2,[0],[1.0])|(1020,[3,4,5,8,9,...|\n",
            "|   Male|    Yes|Not Graduate|           1875|           1875.0|        97|             360|             1|    Semiurban|          Y|         0.0|          0.0|            1.0|                113.0|                  114.0|           110.0|                   0.0|                 0.0|                0.0|              0.0|    (1,[],[])|  (1,[0],[1.0])|    (286,[114],[1.0])|(2,[0],[1.0])|(203,[110],[1.0])|    (2,[0],[1.0])|  (504,[113],[1.0])|      (10,[0],[1.0])|     (1,[0],[1.0])|(2,[0],[1.0])|(1020,[2,3,4,5,12...|\n",
            "|   Male|     No|    Graduate|           3500|              0.0|        81|             300|             1|    Semiurban|          Y|         0.0|          1.0|            0.0|                 18.0|                    0.0|            28.0|                   4.0|                 0.0|                0.0|              0.0|(1,[0],[1.0])|  (1,[0],[1.0])|      (286,[0],[1.0])|(2,[0],[1.0])| (203,[28],[1.0])|    (2,[0],[1.0])|   (504,[18],[1.0])|      (10,[4],[1.0])|     (1,[0],[1.0])|(2,[1],[1.0])|(1020,[1,3,5,6,9,...|\n",
            "|   Male|    Yes|Not Graduate|           4755|              0.0|        95|               0|             0|    Semiurban|          N|         0.0|          0.0|            1.0|                383.0|                    0.0|             9.0|                   3.0|                 1.0|                0.0|              1.0|    (1,[],[])|      (1,[],[])|      (286,[0],[1.0])|(2,[0],[1.0])|  (203,[9],[1.0])|    (2,[0],[1.0])|  (504,[383],[1.0])|      (10,[3],[1.0])|         (1,[],[])|(2,[0],[1.0])|(1020,[2,3,5,6,7,...|\n",
            "|   Male|    Yes|    Graduate|           5266|           1774.0|       187|             360|             1|    Semiurban|          Y|         0.0|          0.0|            0.0|                406.0|                   99.0|             5.0|                   0.0|                 0.0|                0.0|              0.0|(1,[0],[1.0])|  (1,[0],[1.0])|     (286,[99],[1.0])|(2,[0],[1.0])|  (203,[5],[1.0])|    (2,[0],[1.0])|  (504,[406],[1.0])|      (10,[0],[1.0])|     (1,[0],[1.0])|(2,[0],[1.0])|(1020,[3,4,5,9,10...|\n",
            "|   Male|     No|    Graduate|           3750|              0.0|       113|             480|             1|        Urban|          N|         0.0|          1.0|            0.0|                  5.0|                    0.0|             6.0|                   2.0|                 0.0|                1.0|              1.0|(1,[0],[1.0])|      (1,[],[])|      (286,[0],[1.0])|(2,[0],[1.0])|  (203,[6],[1.0])|    (2,[1],[1.0])|    (504,[5],[1.0])|      (10,[2],[1.0])|     (1,[0],[1.0])|(2,[1],[1.0])|(1020,[1,3,5,6,8,...|\n",
            "|   Male|     No|    Graduate|           3750|           4750.0|       176|             360|             1|        Urban|          N|         0.0|          1.0|            0.0|                  5.0|                   38.0|            90.0|                   0.0|                 0.0|                1.0|              1.0|(1,[0],[1.0])|      (1,[],[])|     (286,[38],[1.0])|(2,[0],[1.0])| (203,[90],[1.0])|    (2,[1],[1.0])|    (504,[5],[1.0])|      (10,[0],[1.0])|     (1,[0],[1.0])|(2,[1],[1.0])|(1020,[1,3,4,5,8,...|\n",
            "|   Male|    Yes|    Graduate|           1000|           3022.0|       110|             360|             1|        Urban|          N|         0.0|          0.0|            0.0|                 60.0|                  196.0|             2.0|                   0.0|                 0.0|                1.0|              1.0|(1,[0],[1.0])|      (1,[],[])|    (286,[196],[1.0])|(2,[0],[1.0])|  (203,[2],[1.0])|    (2,[1],[1.0])|   (504,[60],[1.0])|      (10,[0],[1.0])|     (1,[0],[1.0])|(2,[0],[1.0])|(1020,[3,4,5,8,9,...|\n",
            "|   Male|    Yes|    Graduate|           3167|           4000.0|       180|             300|             0|    Semiurban|          N|         0.0|          0.0|            0.0|                 16.0|                  230.0|            26.0|                   4.0|                 1.0|                0.0|              1.0|(1,[0],[1.0])|      (1,[],[])|    (286,[230],[1.0])|(2,[0],[1.0])| (203,[26],[1.0])|    (2,[0],[1.0])|   (504,[16],[1.0])|      (10,[4],[1.0])|         (1,[],[])|(2,[0],[1.0])|(1020,[3,4,5,6,7,...|\n",
            "|   Male|    Yes|Not Graduate|           3333|           2166.0|       130|             360|             0|    Semiurban|          Y|         0.0|          0.0|            1.0|                  4.0|                  143.0|             8.0|                   0.0|                 1.0|                0.0|              0.0|    (1,[],[])|  (1,[0],[1.0])|    (286,[143],[1.0])|(2,[0],[1.0])|  (203,[8],[1.0])|    (2,[0],[1.0])|    (504,[4],[1.0])|      (10,[0],[1.0])|         (1,[],[])|(2,[0],[1.0])|(1020,[2,3,4,5,7,...|\n",
            "| Female|     No|    Graduate|           3846|              0.0|       111|             360|             1|    Semiurban|          Y|         1.0|          1.0|            0.0|                314.0|                    0.0|            31.0|                   0.0|                 0.0|                0.0|              0.0|(1,[0],[1.0])|  (1,[0],[1.0])|      (286,[0],[1.0])|(2,[1],[1.0])| (203,[31],[1.0])|    (2,[0],[1.0])|  (504,[314],[1.0])|      (10,[0],[1.0])|     (1,[0],[1.0])|(2,[1],[1.0])|(1020,[0,1,3,5,9,...|\n",
            "|   Male|    Yes|    Graduate|           2395|              0.0|         0|             360|             1|    Semiurban|          Y|         0.0|          0.0|            0.0|                158.0|                    0.0|             0.0|                   0.0|                 0.0|                0.0|              0.0|(1,[0],[1.0])|  (1,[0],[1.0])|      (286,[0],[1.0])|(2,[0],[1.0])|  (203,[0],[1.0])|    (2,[0],[1.0])|  (504,[158],[1.0])|      (10,[0],[1.0])|     (1,[0],[1.0])|(2,[0],[1.0])|(1020,[3,9,10,296...|\n",
            "| Female|    Yes|    Graduate|           1378|           1881.0|       167|             360|             1|        Urban|          N|         1.0|          0.0|            0.0|                 80.0|                  115.0|           123.0|                   0.0|                 0.0|                1.0|              1.0|(1,[0],[1.0])|      (1,[],[])|    (286,[115],[1.0])|(2,[1],[1.0])|(203,[123],[1.0])|    (2,[1],[1.0])|   (504,[80],[1.0])|      (10,[0],[1.0])|     (1,[0],[1.0])|(2,[0],[1.0])|(1020,[0,3,4,5,8,...|\n",
            "|   Male|    Yes|    Graduate|           6000|           2250.0|       265|             360|             0|    Semiurban|          N|         0.0|          0.0|            0.0|                  3.0|                    8.0|           149.0|                   0.0|                 1.0|                0.0|              1.0|(1,[0],[1.0])|      (1,[],[])|      (286,[8],[1.0])|(2,[0],[1.0])|(203,[149],[1.0])|    (2,[0],[1.0])|    (504,[3],[1.0])|      (10,[0],[1.0])|         (1,[],[])|(2,[0],[1.0])|(1020,[3,4,5,7,9,...|\n",
            "|   Male|    Yes|    Graduate|           3988|              0.0|        50|             240|             1|        Urban|          Y|         0.0|          0.0|            0.0|                330.0|                    0.0|            49.0|                   5.0|                 0.0|                1.0|              0.0|(1,[0],[1.0])|  (1,[0],[1.0])|      (286,[0],[1.0])|(2,[0],[1.0])| (203,[49],[1.0])|    (2,[1],[1.0])|  (504,[330],[1.0])|      (10,[5],[1.0])|     (1,[0],[1.0])|(2,[0],[1.0])|(1020,[3,5,6,8,9,...|\n",
            "|   Male|     No|    Graduate|           2366|           2531.0|       136|             360|             1|    Semiurban|          Y|         0.0|          1.0|            0.0|                156.0|                   28.0|            18.0|                   0.0|                 0.0|                0.0|              0.0|(1,[0],[1.0])|  (1,[0],[1.0])|     (286,[28],[1.0])|(2,[0],[1.0])| (203,[18],[1.0])|    (2,[0],[1.0])|  (504,[156],[1.0])|      (10,[0],[1.0])|     (1,[0],[1.0])|(2,[1],[1.0])|(1020,[1,3,4,5,9,...|\n",
            "|   Male|    Yes|Not Graduate|           3333|           2000.0|        99|             360|             0|    Semiurban|          Y|         0.0|          0.0|            1.0|                  4.0|                   23.0|            57.0|                   0.0|                 1.0|                0.0|              0.0|    (1,[],[])|  (1,[0],[1.0])|     (286,[23],[1.0])|(2,[0],[1.0])| (203,[57],[1.0])|    (2,[0],[1.0])|    (504,[4],[1.0])|      (10,[0],[1.0])|         (1,[],[])|(2,[0],[1.0])|(1020,[2,3,4,5,7,...|\n",
            "|   Male|    Yes|    Graduate|           2500|           2118.0|       104|             360|             1|    Semiurban|          Y|         0.0|          0.0|            0.0|                  0.0|                  137.0|            14.0|                   0.0|                 0.0|                0.0|              0.0|(1,[0],[1.0])|  (1,[0],[1.0])|    (286,[137],[1.0])|(2,[0],[1.0])| (203,[14],[1.0])|    (2,[0],[1.0])|    (504,[0],[1.0])|      (10,[0],[1.0])|     (1,[0],[1.0])|(2,[0],[1.0])|(1020,[4,5,9,147,...|\n",
            "|   Male|     No|    Graduate|           8566|              0.0|       210|             360|             1|        Urban|          Y|         0.0|          1.0|            0.0|                489.0|                    0.0|            97.0|                   0.0|                 0.0|                1.0|              0.0|(1,[0],[1.0])|  (1,[0],[1.0])|      (286,[0],[1.0])|(2,[0],[1.0])| (203,[97],[1.0])|    (2,[1],[1.0])|  (504,[489],[1.0])|      (10,[0],[1.0])|     (1,[0],[1.0])|(2,[1],[1.0])|(1020,[1,3,5,8,9,...|\n",
            "|   Male|    Yes|    Graduate|           5695|           4167.0|       175|             360|             1|    Semiurban|          Y|         0.0|          0.0|            0.0|                420.0|                   36.0|            25.0|                   0.0|                 0.0|                0.0|              0.0|(1,[0],[1.0])|  (1,[0],[1.0])|     (286,[36],[1.0])|(2,[0],[1.0])| (203,[25],[1.0])|    (2,[0],[1.0])|  (504,[420],[1.0])|      (10,[0],[1.0])|     (1,[0],[1.0])|(2,[0],[1.0])|(1020,[3,4,5,9,46...|\n",
            "|   Male|    Yes|    Graduate|           2958|           2900.0|       131|             360|             1|    Semiurban|          Y|         0.0|          0.0|            0.0|                212.0|                  191.0|            43.0|                   0.0|                 0.0|                0.0|              0.0|(1,[0],[1.0])|  (1,[0],[1.0])|    (286,[191],[1.0])|(2,[0],[1.0])| (203,[43],[1.0])|    (2,[0],[1.0])|  (504,[212],[1.0])|      (10,[0],[1.0])|     (1,[0],[1.0])|(2,[0],[1.0])|(1020,[3,4,5,9,20...|\n",
            "|   Male|    Yes|    Graduate|           6250|           5654.0|       188|             180|             1|    Semiurban|          Y|         0.0|          0.0|            0.0|                 10.0|                  262.0|            68.0|                   1.0|                 0.0|                0.0|              0.0|(1,[0],[1.0])|  (1,[0],[1.0])|    (286,[262],[1.0])|(2,[0],[1.0])| (203,[68],[1.0])|    (2,[0],[1.0])|   (504,[10],[1.0])|      (10,[1],[1.0])|     (1,[0],[1.0])|(2,[0],[1.0])|(1020,[3,4,5,6,9,...|\n",
            "|   Male|    Yes|Not Graduate|           3273|           1820.0|        81|             360|             1|        Urban|          Y|         0.0|          0.0|            1.0|                252.0|                  106.0|            28.0|                   0.0|                 0.0|                1.0|              0.0|    (1,[],[])|  (1,[0],[1.0])|    (286,[106],[1.0])|(2,[0],[1.0])| (203,[28],[1.0])|    (2,[1],[1.0])|  (504,[252],[1.0])|      (10,[0],[1.0])|     (1,[0],[1.0])|(2,[0],[1.0])|(1020,[2,3,4,5,8,...|\n",
            "|   Male|     No|    Graduate|           4133|              0.0|       122|             360|             1|    Semiurban|          Y|         0.0|          1.0|            0.0|                342.0|                    0.0|            40.0|                   0.0|                 0.0|                0.0|              0.0|(1,[0],[1.0])|  (1,[0],[1.0])|      (286,[0],[1.0])|(2,[0],[1.0])| (203,[40],[1.0])|    (2,[0],[1.0])|  (504,[342],[1.0])|      (10,[0],[1.0])|     (1,[0],[1.0])|(2,[1],[1.0])|(1020,[1,3,5,9,10...|\n",
            "|   Male|     No|Not Graduate|           3620|              0.0|        25|             120|             1|    Semiurban|          Y|         0.0|          1.0|            1.0|                291.0|                    0.0|            99.0|                   7.0|                 0.0|                0.0|              0.0|    (1,[],[])|  (1,[0],[1.0])|      (286,[0],[1.0])|(2,[0],[1.0])| (203,[99],[1.0])|    (2,[0],[1.0])|  (504,[291],[1.0])|      (10,[7],[1.0])|     (1,[0],[1.0])|(2,[1],[1.0])|(1020,[1,2,3,5,6,...|\n",
            "|   Male|     No|    Graduate|           6782|              0.0|         0|             360|             0|        Urban|          N|         0.0|          1.0|            0.0|                461.0|                    0.0|             0.0|                   0.0|                 1.0|                1.0|              1.0|(1,[0],[1.0])|      (1,[],[])|      (286,[0],[1.0])|(2,[0],[1.0])|  (203,[0],[1.0])|    (2,[1],[1.0])|  (504,[461],[1.0])|      (10,[0],[1.0])|         (1,[],[])|(2,[1],[1.0])|(1020,[1,3,7,8,9,...|\n",
            "| Female|    Yes|    Graduate|           2484|           2302.0|       137|             360|             1|    Semiurban|          Y|         1.0|          0.0|            0.0|                166.0|                  155.0|            45.0|                   0.0|                 0.0|                0.0|              0.0|(1,[0],[1.0])|  (1,[0],[1.0])|    (286,[155],[1.0])|(2,[1],[1.0])| (203,[45],[1.0])|    (2,[0],[1.0])|  (504,[166],[1.0])|      (10,[0],[1.0])|     (1,[0],[1.0])|(2,[0],[1.0])|(1020,[0,3,4,5,9,...|\n",
            "|   Male|    Yes|    Graduate|           1977|            997.0|        50|             360|             1|    Semiurban|          Y|         0.0|          0.0|            0.0|                122.0|                  286.0|            49.0|                   0.0|                 0.0|                0.0|              0.0|(1,[0],[1.0])|  (1,[0],[1.0])|          (286,[],[])|(2,[0],[1.0])| (203,[49],[1.0])|    (2,[0],[1.0])|  (504,[122],[1.0])|      (10,[0],[1.0])|     (1,[0],[1.0])|(2,[0],[1.0])|(1020,[3,4,5,9,29...|\n",
            "|   Male|    Yes|Not Graduate|           4188|              0.0|       115|             180|             1|    Semiurban|          Y|         0.0|          0.0|            1.0|                347.0|                    0.0|            12.0|                   1.0|                 0.0|                0.0|              0.0|    (1,[],[])|  (1,[0],[1.0])|      (286,[0],[1.0])|(2,[0],[1.0])| (203,[12],[1.0])|    (2,[0],[1.0])|  (504,[347],[1.0])|      (10,[1],[1.0])|     (1,[0],[1.0])|(2,[0],[1.0])|(1020,[2,3,5,6,10...|\n",
            "|   Male|    Yes|    Graduate|           1759|           3541.0|       131|             360|             1|    Semiurban|          Y|         0.0|          0.0|            0.0|                102.0|                  218.0|            43.0|                   0.0|                 0.0|                0.0|              0.0|(1,[0],[1.0])|  (1,[0],[1.0])|    (286,[218],[1.0])|(2,[0],[1.0])| (203,[43],[1.0])|    (2,[0],[1.0])|  (504,[102],[1.0])|      (10,[0],[1.0])|     (1,[0],[1.0])|(2,[0],[1.0])|(1020,[3,4,5,9,22...|\n",
            "|   Male|    Yes|Not Graduate|           4288|           3263.0|       133|             180|             1|        Urban|          Y|         0.0|          0.0|            1.0|                353.0|                  206.0|            33.0|                   1.0|                 0.0|                1.0|              0.0|    (1,[],[])|  (1,[0],[1.0])|    (286,[206],[1.0])|(2,[0],[1.0])| (203,[33],[1.0])|    (2,[1],[1.0])|  (504,[353],[1.0])|      (10,[1],[1.0])|     (1,[0],[1.0])|(2,[0],[1.0])|(1020,[2,3,4,5,6,...|\n",
            "|   Male|     No|    Graduate|           4843|           3806.0|       151|             360|             1|    Semiurban|          Y|         0.0|          1.0|            0.0|                386.0|                  226.0|            46.0|                   0.0|                 0.0|                0.0|              0.0|(1,[0],[1.0])|  (1,[0],[1.0])|    (286,[226],[1.0])|(2,[0],[1.0])| (203,[46],[1.0])|    (2,[0],[1.0])|  (504,[386],[1.0])|      (10,[0],[1.0])|     (1,[0],[1.0])|(2,[1],[1.0])|(1020,[1,3,4,5,9,...|\n",
            "|   Male|    Yes|    Graduate|          13650|              0.0|         0|             360|             1|        Urban|          Y|         0.0|          0.0|            0.0|                 79.0|                    0.0|             0.0|                   0.0|                 0.0|                1.0|              0.0|(1,[0],[1.0])|  (1,[0],[1.0])|      (286,[0],[1.0])|(2,[0],[1.0])|  (203,[0],[1.0])|    (2,[1],[1.0])|   (504,[79],[1.0])|      (10,[0],[1.0])|     (1,[0],[1.0])|(2,[0],[1.0])|(1020,[3,8,9,10,2...|\n",
            "|   Male|    Yes|    Graduate|           4652|           3583.0|         0|             360|             1|    Semiurban|          Y|         0.0|          0.0|            0.0|                 50.0|                  219.0|             0.0|                   0.0|                 0.0|                0.0|              0.0|(1,[0],[1.0])|  (1,[0],[1.0])|    (286,[219],[1.0])|(2,[0],[1.0])|  (203,[0],[1.0])|    (2,[0],[1.0])|   (504,[50],[1.0])|      (10,[0],[1.0])|     (1,[0],[1.0])|(2,[0],[1.0])|(1020,[3,4,9,229,...|\n",
            "|   Male|unknown|    Graduate|           3816|            754.0|       160|             360|             1|        Urban|          Y|         0.0|          2.0|            0.0|                312.0|                   39.0|             4.0|                   0.0|                 0.0|                1.0|              0.0|(1,[0],[1.0])|  (1,[0],[1.0])|     (286,[39],[1.0])|(2,[0],[1.0])|  (203,[4],[1.0])|    (2,[1],[1.0])|  (504,[312],[1.0])|      (10,[0],[1.0])|     (1,[0],[1.0])|    (2,[],[])|(1020,[1,3,4,5,8,...|\n",
            "|   Male|    Yes|    Graduate|           3052|           1030.0|       100|             360|             1|        Urban|          Y|         0.0|          0.0|            0.0|                225.0|                   43.0|             3.0|                   0.0|                 0.0|                1.0|              0.0|(1,[0],[1.0])|  (1,[0],[1.0])|     (286,[43],[1.0])|(2,[0],[1.0])|  (203,[3],[1.0])|    (2,[1],[1.0])|  (504,[225],[1.0])|      (10,[0],[1.0])|     (1,[0],[1.0])|(2,[0],[1.0])|(1020,[3,4,5,8,9,...|\n",
            "|   Male|    Yes|    Graduate|          11417|           1126.0|       225|             360|             1|        Urban|          Y|         0.0|          0.0|            0.0|                 71.0|                   51.0|            69.0|                   0.0|                 0.0|                1.0|              0.0|(1,[0],[1.0])|  (1,[0],[1.0])|     (286,[51],[1.0])|(2,[0],[1.0])| (203,[69],[1.0])|    (2,[1],[1.0])|   (504,[71],[1.0])|      (10,[0],[1.0])|     (1,[0],[1.0])|(2,[0],[1.0])|(1020,[3,4,5,8,9,...|\n",
            "|   Male|     No|Not Graduate|           7333|              0.0|       120|             360|             1|        Rural|          N|         0.0|          1.0|            1.0|                 57.0|                    0.0|             1.0|                   0.0|                 0.0|                2.0|              1.0|    (1,[],[])|      (1,[],[])|      (286,[0],[1.0])|(2,[0],[1.0])|  (203,[1],[1.0])|        (2,[],[])|   (504,[57],[1.0])|      (10,[0],[1.0])|     (1,[0],[1.0])|(2,[1],[1.0])|(1020,[1,2,3,5,8,...|\n",
            "|   Male|    Yes|    Graduate|           3800|           3600.0|       216|             360|             0|        Urban|          N|         0.0|          0.0|            0.0|                308.0|                  220.0|            98.0|                   0.0|                 1.0|                1.0|              1.0|(1,[0],[1.0])|      (1,[],[])|    (286,[220],[1.0])|(2,[0],[1.0])| (203,[98],[1.0])|    (2,[1],[1.0])|  (504,[308],[1.0])|      (10,[0],[1.0])|         (1,[],[])|(2,[0],[1.0])|(1020,[3,4,5,7,8,...|\n",
            "|   Male|    Yes|Not Graduate|           2071|            754.0|        94|             480|             1|    Semiurban|          Y|         0.0|          0.0|            1.0|                132.0|                   39.0|            55.0|                   2.0|                 0.0|                0.0|              0.0|    (1,[],[])|  (1,[0],[1.0])|     (286,[39],[1.0])|(2,[0],[1.0])| (203,[55],[1.0])|    (2,[0],[1.0])|  (504,[132],[1.0])|      (10,[2],[1.0])|     (1,[0],[1.0])|(2,[0],[1.0])|(1020,[2,3,4,5,6,...|\n",
            "|   Male|     No|    Graduate|           5316|              0.0|       136|             360|             1|        Urban|          Y|         0.0|          1.0|            0.0|                408.0|                    0.0|            18.0|                   0.0|                 0.0|                1.0|              0.0|(1,[0],[1.0])|  (1,[0],[1.0])|      (286,[0],[1.0])|(2,[0],[1.0])| (203,[18],[1.0])|    (2,[1],[1.0])|  (504,[408],[1.0])|      (10,[0],[1.0])|     (1,[0],[1.0])|(2,[1],[1.0])|(1020,[1,3,5,8,9,...|\n",
            "| Female|    Yes|    Graduate|           2929|           2333.0|       139|             360|             1|    Semiurban|          Y|         1.0|          0.0|            0.0|                209.0|                    9.0|            83.0|                   0.0|                 0.0|                0.0|              0.0|(1,[0],[1.0])|  (1,[0],[1.0])|      (286,[9],[1.0])|(2,[1],[1.0])| (203,[83],[1.0])|    (2,[0],[1.0])|  (504,[209],[1.0])|      (10,[0],[1.0])|     (1,[0],[1.0])|(2,[0],[1.0])|(1020,[0,3,4,5,9,...|\n",
            "|   Male|    Yes|Not Graduate|           3572|           4114.0|       152|               0|             0|        Rural|          N|         0.0|          0.0|            1.0|                281.0|                  232.0|            35.0|                   3.0|                 1.0|                2.0|              1.0|    (1,[],[])|      (1,[],[])|    (286,[232],[1.0])|(2,[0],[1.0])| (203,[35],[1.0])|        (2,[],[])|  (504,[281],[1.0])|      (10,[3],[1.0])|         (1,[],[])|(2,[0],[1.0])|(1020,[2,3,4,5,6,...|\n",
            "| Female|     No|    Graduate|           7451|              0.0|         0|             360|             1|    Semiurban|          Y|         1.0|          1.0|            0.0|                473.0|                    0.0|             0.0|                   0.0|                 0.0|                0.0|              0.0|(1,[0],[1.0])|  (1,[0],[1.0])|      (286,[0],[1.0])|(2,[1],[1.0])|  (203,[0],[1.0])|    (2,[0],[1.0])|  (504,[473],[1.0])|      (10,[0],[1.0])|     (1,[0],[1.0])|(2,[1],[1.0])|(1020,[0,1,3,9,10...|\n",
            "|   Male|     No|    Graduate|           5050|              0.0|       118|             360|             1|    Semiurban|          Y|         0.0|          1.0|            0.0|                398.0|                    0.0|            61.0|                   0.0|                 0.0|                0.0|              0.0|(1,[0],[1.0])|  (1,[0],[1.0])|      (286,[0],[1.0])|(2,[0],[1.0])| (203,[61],[1.0])|    (2,[0],[1.0])|  (504,[398],[1.0])|      (10,[0],[1.0])|     (1,[0],[1.0])|(2,[1],[1.0])|(1020,[1,3,5,9,10...|\n",
            "|   Male|    Yes|    Graduate|          14583|              0.0|       185|             180|             1|        Rural|          Y|         0.0|          0.0|            0.0|                 24.0|                    0.0|            36.0|                   1.0|                 0.0|                2.0|              0.0|(1,[0],[1.0])|  (1,[0],[1.0])|      (286,[0],[1.0])|(2,[0],[1.0])| (203,[36],[1.0])|        (2,[],[])|   (504,[24],[1.0])|      (10,[1],[1.0])|     (1,[0],[1.0])|(2,[0],[1.0])|(1020,[3,5,6,8,9,...|\n",
            "| Female|    Yes|    Graduate|           3167|           2283.0|       154|             360|             1|    Semiurban|          Y|         1.0|          0.0|            0.0|                 16.0|                  154.0|            87.0|                   0.0|                 0.0|                0.0|              0.0|(1,[0],[1.0])|  (1,[0],[1.0])|    (286,[154],[1.0])|(2,[1],[1.0])| (203,[87],[1.0])|    (2,[0],[1.0])|   (504,[16],[1.0])|      (10,[0],[1.0])|     (1,[0],[1.0])|(2,[0],[1.0])|(1020,[0,3,4,5,9,...|\n",
            "|   Male|    Yes|    Graduate|           2214|           1398.0|        85|             360|             0|        Urban|          Y|         0.0|          0.0|            0.0|                144.0|                   66.0|           200.0|                   0.0|                 1.0|                1.0|              0.0|(1,[0],[1.0])|  (1,[0],[1.0])|     (286,[66],[1.0])|(2,[0],[1.0])|(203,[200],[1.0])|    (2,[1],[1.0])|  (504,[144],[1.0])|      (10,[0],[1.0])|         (1,[],[])|(2,[0],[1.0])|(1020,[3,4,5,7,8,...|\n",
            "|   Male|    Yes|    Graduate|           5568|           2142.0|       175|             360|             1|        Rural|          N|         0.0|          0.0|            0.0|                416.0|                  140.0|            25.0|                   0.0|                 0.0|                2.0|              1.0|(1,[0],[1.0])|      (1,[],[])|    (286,[140],[1.0])|(2,[0],[1.0])| (203,[25],[1.0])|        (2,[],[])|  (504,[416],[1.0])|      (10,[0],[1.0])|     (1,[0],[1.0])|(2,[0],[1.0])|(1020,[3,4,5,8,9,...|\n",
            "| Female|     No|    Graduate|          10408|              0.0|       259|             360|             1|        Urban|          Y|         1.0|          1.0|            0.0|                 63.0|                    0.0|           101.0|                   0.0|                 0.0|                1.0|              0.0|(1,[0],[1.0])|  (1,[0],[1.0])|      (286,[0],[1.0])|(2,[1],[1.0])|(203,[101],[1.0])|    (2,[1],[1.0])|   (504,[63],[1.0])|      (10,[0],[1.0])|     (1,[0],[1.0])|(2,[1],[1.0])|(1020,[0,1,3,5,8,...|\n",
            "|   Male|    Yes|    Graduate|           5667|           2667.0|       180|             360|             1|        Rural|          Y|         0.0|          0.0|            0.0|                418.0|                  179.0|            26.0|                   0.0|                 0.0|                2.0|              0.0|(1,[0],[1.0])|  (1,[0],[1.0])|    (286,[179],[1.0])|(2,[0],[1.0])| (203,[26],[1.0])|        (2,[],[])|  (504,[418],[1.0])|      (10,[0],[1.0])|     (1,[0],[1.0])|(2,[0],[1.0])|(1020,[3,4,5,8,9,...|\n",
            "| Female|     No|    Graduate|           4166|              0.0|        44|             360|             1|    Semiurban|          Y|         1.0|          1.0|            0.0|                  6.0|                    0.0|           104.0|                   0.0|                 0.0|                0.0|              0.0|(1,[0],[1.0])|  (1,[0],[1.0])|      (286,[0],[1.0])|(2,[1],[1.0])|(203,[104],[1.0])|    (2,[0],[1.0])|    (504,[6],[1.0])|      (10,[0],[1.0])|     (1,[0],[1.0])|(2,[1],[1.0])|(1020,[0,1,3,5,9,...|\n",
            "| Female|     No|    Graduate|           2137|           8980.0|       137|             360|             0|    Semiurban|          Y|         1.0|          1.0|            0.0|                137.0|                  281.0|            45.0|                   0.0|                 1.0|                0.0|              0.0|(1,[0],[1.0])|  (1,[0],[1.0])|    (286,[281],[1.0])|(2,[1],[1.0])| (203,[45],[1.0])|    (2,[0],[1.0])|  (504,[137],[1.0])|      (10,[0],[1.0])|         (1,[],[])|(2,[1],[1.0])|(1020,[0,1,3,4,5,...|\n",
            "|   Male|    Yes|    Graduate|           2957|              0.0|        81|             360|             1|    Semiurban|          Y|         0.0|          0.0|            0.0|                211.0|                    0.0|            28.0|                   0.0|                 0.0|                0.0|              0.0|(1,[0],[1.0])|  (1,[0],[1.0])|      (286,[0],[1.0])|(2,[0],[1.0])| (203,[28],[1.0])|    (2,[0],[1.0])|  (504,[211],[1.0])|      (10,[0],[1.0])|     (1,[0],[1.0])|(2,[0],[1.0])|(1020,[3,5,9,10,2...|\n",
            "|   Male|    Yes|Not Graduate|           4300|           2014.0|       194|             360|             1|        Rural|          Y|         0.0|          0.0|            1.0|                 49.0|                  125.0|            94.0|                   0.0|                 0.0|                2.0|              0.0|    (1,[],[])|  (1,[0],[1.0])|    (286,[125],[1.0])|(2,[0],[1.0])| (203,[94],[1.0])|        (2,[],[])|   (504,[49],[1.0])|      (10,[0],[1.0])|     (1,[0],[1.0])|(2,[0],[1.0])|(1020,[2,3,4,5,8,...|\n",
            "| Female|     No|    Graduate|           3692|              0.0|        93|             360|             0|        Rural|          Y|         1.0|          1.0|            0.0|                298.0|                    0.0|            77.0|                   0.0|                 1.0|                2.0|              0.0|(1,[0],[1.0])|  (1,[0],[1.0])|      (286,[0],[1.0])|(2,[1],[1.0])| (203,[77],[1.0])|        (2,[],[])|  (504,[298],[1.0])|      (10,[0],[1.0])|         (1,[],[])|(2,[1],[1.0])|(1020,[0,1,3,5,7,...|\n",
            "|unknown|    Yes|    Graduate|          23803|              0.0|       370|             360|             1|        Rural|          Y|         2.0|          0.0|            0.0|                157.0|                    0.0|           171.0|                   0.0|                 0.0|                2.0|              0.0|(1,[0],[1.0])|  (1,[0],[1.0])|      (286,[0],[1.0])|    (2,[],[])|(203,[171],[1.0])|        (2,[],[])|  (504,[157],[1.0])|      (10,[0],[1.0])|     (1,[0],[1.0])|(2,[0],[1.0])|(1020,[0,3,5,8,9,...|\n",
            "|   Male|     No|    Graduate|           3865|           1640.0|         0|             360|             1|        Rural|          Y|         0.0|          1.0|            0.0|                317.0|                   16.0|             0.0|                   0.0|                 0.0|                2.0|              0.0|(1,[0],[1.0])|  (1,[0],[1.0])|     (286,[16],[1.0])|(2,[0],[1.0])|  (203,[0],[1.0])|        (2,[],[])|  (504,[317],[1.0])|      (10,[0],[1.0])|     (1,[0],[1.0])|(2,[1],[1.0])|(1020,[1,3,4,8,9,...|\n",
            "|   Male|    Yes|    Graduate|          10513|           3850.0|       160|             180|             0|        Urban|          N|         0.0|          0.0|            0.0|                 65.0|                  227.0|             4.0|                   1.0|                 1.0|                1.0|              1.0|(1,[0],[1.0])|      (1,[],[])|    (286,[227],[1.0])|(2,[0],[1.0])|  (203,[4],[1.0])|    (2,[1],[1.0])|   (504,[65],[1.0])|      (10,[1],[1.0])|         (1,[],[])|(2,[0],[1.0])|(1020,[3,4,5,6,7,...|\n",
            "|   Male|    Yes|    Graduate|           6080|           2569.0|       182|             360|             0|        Rural|          N|         0.0|          0.0|            0.0|                439.0|                   29.0|            48.0|                   0.0|                 1.0|                2.0|              1.0|(1,[0],[1.0])|      (1,[],[])|     (286,[29],[1.0])|(2,[0],[1.0])| (203,[48],[1.0])|        (2,[],[])|  (504,[439],[1.0])|      (10,[0],[1.0])|         (1,[],[])|(2,[0],[1.0])|(1020,[3,4,5,7,8,...|\n",
            "|   Male|     No|    Graduate|          20166|              0.0|       650|             480|             0|        Urban|          Y|         0.0|          1.0|            0.0|                125.0|                    0.0|           194.0|                   2.0|                 1.0|                1.0|              0.0|(1,[0],[1.0])|  (1,[0],[1.0])|      (286,[0],[1.0])|(2,[0],[1.0])|(203,[194],[1.0])|    (2,[1],[1.0])|  (504,[125],[1.0])|      (10,[2],[1.0])|         (1,[],[])|(2,[1],[1.0])|(1020,[1,3,5,6,7,...|\n",
            "|   Male|     No|    Graduate|           2014|           1929.0|        74|             360|             1|        Urban|          Y|         0.0|          1.0|            0.0|                 28.0|                  119.0|            75.0|                   0.0|                 0.0|                1.0|              0.0|(1,[0],[1.0])|  (1,[0],[1.0])|    (286,[119],[1.0])|(2,[0],[1.0])| (203,[75],[1.0])|    (2,[1],[1.0])|   (504,[28],[1.0])|      (10,[0],[1.0])|     (1,[0],[1.0])|(2,[1],[1.0])|(1020,[1,3,4,5,8,...|\n",
            "|   Male|     No|    Graduate|           2718|              0.0|        70|             360|             1|    Semiurban|          Y|         0.0|          1.0|            0.0|                188.0|                    0.0|            13.0|                   0.0|                 0.0|                0.0|              0.0|(1,[0],[1.0])|  (1,[0],[1.0])|      (286,[0],[1.0])|(2,[0],[1.0])| (203,[13],[1.0])|    (2,[0],[1.0])|  (504,[188],[1.0])|      (10,[0],[1.0])|     (1,[0],[1.0])|(2,[1],[1.0])|(1020,[1,3,5,9,10...|\n",
            "|   Male|    Yes|    Graduate|           3459|              0.0|        25|             120|             1|    Semiurban|          Y|         0.0|          0.0|            0.0|                272.0|                    0.0|            99.0|                   7.0|                 0.0|                0.0|              0.0|(1,[0],[1.0])|  (1,[0],[1.0])|      (286,[0],[1.0])|(2,[0],[1.0])| (203,[99],[1.0])|    (2,[0],[1.0])|  (504,[272],[1.0])|      (10,[7],[1.0])|     (1,[0],[1.0])|(2,[0],[1.0])|(1020,[3,5,6,9,10...|\n",
            "|   Male|     No|    Graduate|           4895|              0.0|       102|             360|             1|    Semiurban|          Y|         0.0|          1.0|            0.0|                391.0|                    0.0|            58.0|                   0.0|                 0.0|                0.0|              0.0|(1,[0],[1.0])|  (1,[0],[1.0])|      (286,[0],[1.0])|(2,[0],[1.0])| (203,[58],[1.0])|    (2,[0],[1.0])|  (504,[391],[1.0])|      (10,[0],[1.0])|     (1,[0],[1.0])|(2,[1],[1.0])|(1020,[1,3,5,9,10...|\n",
            "|   Male|    Yes|    Graduate|           4000|           7750.0|       290|             360|             1|    Semiurban|          N|         0.0|          0.0|            0.0|                 19.0|                  275.0|           154.0|                   0.0|                 0.0|                0.0|              1.0|(1,[0],[1.0])|      (1,[],[])|    (286,[275],[1.0])|(2,[0],[1.0])|(203,[154],[1.0])|    (2,[0],[1.0])|   (504,[19],[1.0])|      (10,[0],[1.0])|     (1,[0],[1.0])|(2,[0],[1.0])|(1020,[3,4,5,9,28...|\n",
            "| Female|    Yes|    Graduate|           4583|              0.0|        84|             360|             1|        Rural|          N|         1.0|          0.0|            0.0|                  2.0|                    0.0|            53.0|                   0.0|                 0.0|                2.0|              1.0|(1,[0],[1.0])|      (1,[],[])|      (286,[0],[1.0])|(2,[1],[1.0])| (203,[53],[1.0])|        (2,[],[])|    (504,[2],[1.0])|      (10,[0],[1.0])|     (1,[0],[1.0])|(2,[0],[1.0])|(1020,[0,3,5,8,9,...|\n",
            "|   Male|    Yes|    Graduate|           3316|           3500.0|        88|             360|             1|        Urban|          Y|         0.0|          0.0|            0.0|                256.0|                   34.0|            54.0|                   0.0|                 0.0|                1.0|              0.0|(1,[0],[1.0])|  (1,[0],[1.0])|     (286,[34],[1.0])|(2,[0],[1.0])| (203,[54],[1.0])|    (2,[1],[1.0])|  (504,[256],[1.0])|      (10,[0],[1.0])|     (1,[0],[1.0])|(2,[0],[1.0])|(1020,[3,4,5,8,9,...|\n",
            "|   Male|     No|    Graduate|          14999|              0.0|       242|             360|             0|    Semiurban|          N|         0.0|          1.0|            0.0|                 85.0|                    0.0|           142.0|                   0.0|                 1.0|                0.0|              1.0|(1,[0],[1.0])|      (1,[],[])|      (286,[0],[1.0])|(2,[0],[1.0])|(203,[142],[1.0])|    (2,[0],[1.0])|   (504,[85],[1.0])|      (10,[0],[1.0])|         (1,[],[])|(2,[1],[1.0])|(1020,[1,3,5,7,9,...|\n",
            "|   Male|    Yes|Not Graduate|           4200|           1430.0|       129|             360|             1|        Rural|          N|         0.0|          0.0|            1.0|                349.0|                   13.0|            82.0|                   0.0|                 0.0|                2.0|              1.0|    (1,[],[])|      (1,[],[])|     (286,[13],[1.0])|(2,[0],[1.0])| (203,[82],[1.0])|        (2,[],[])|  (504,[349],[1.0])|      (10,[0],[1.0])|     (1,[0],[1.0])|(2,[0],[1.0])|(1020,[2,3,4,5,8,...|\n",
            "|   Male|    Yes|    Graduate|           5042|           2083.0|       185|             360|             1|        Rural|          N|         0.0|          0.0|            0.0|                397.0|                    2.0|            36.0|                   0.0|                 0.0|                2.0|              1.0|(1,[0],[1.0])|      (1,[],[])|      (286,[2],[1.0])|(2,[0],[1.0])| (203,[36],[1.0])|        (2,[],[])|  (504,[397],[1.0])|      (10,[0],[1.0])|     (1,[0],[1.0])|(2,[0],[1.0])|(1020,[3,4,5,8,9,...|\n",
            "|   Male|     No|    Graduate|           5417|              0.0|       168|             360|             1|        Urban|          Y|         0.0|          1.0|            0.0|                 21.0|                    0.0|            65.0|                   0.0|                 0.0|                1.0|              0.0|(1,[0],[1.0])|  (1,[0],[1.0])|      (286,[0],[1.0])|(2,[0],[1.0])| (203,[65],[1.0])|    (2,[1],[1.0])|   (504,[21],[1.0])|      (10,[0],[1.0])|     (1,[0],[1.0])|(2,[1],[1.0])|(1020,[1,3,5,8,9,...|\n",
            "|   Male|     No|    Graduate|           6950|              0.0|       175|             180|             1|    Semiurban|          Y|         0.0|          1.0|            0.0|                465.0|                    0.0|            25.0|                   1.0|                 0.0|                0.0|              0.0|(1,[0],[1.0])|  (1,[0],[1.0])|      (286,[0],[1.0])|(2,[0],[1.0])| (203,[25],[1.0])|    (2,[0],[1.0])|  (504,[465],[1.0])|      (10,[1],[1.0])|     (1,[0],[1.0])|(2,[1],[1.0])|(1020,[1,3,5,6,9,...|\n",
            "|   Male|    Yes|    Graduate|           2698|           2034.0|       122|             360|             1|    Semiurban|          Y|         0.0|          0.0|            0.0|                184.0|                  128.0|            40.0|                   0.0|                 0.0|                0.0|              0.0|(1,[0],[1.0])|  (1,[0],[1.0])|    (286,[128],[1.0])|(2,[0],[1.0])| (203,[40],[1.0])|    (2,[0],[1.0])|  (504,[184],[1.0])|      (10,[0],[1.0])|     (1,[0],[1.0])|(2,[0],[1.0])|(1020,[3,4,5,9,13...|\n",
            "|   Male|    Yes|    Graduate|          11757|              0.0|       187|             180|             1|        Urban|          Y|         0.0|          0.0|            0.0|                 73.0|                    0.0|             5.0|                   1.0|                 0.0|                1.0|              0.0|(1,[0],[1.0])|  (1,[0],[1.0])|      (286,[0],[1.0])|(2,[0],[1.0])|  (203,[5],[1.0])|    (2,[1],[1.0])|   (504,[73],[1.0])|      (10,[1],[1.0])|     (1,[0],[1.0])|(2,[0],[1.0])|(1020,[3,5,6,8,9,...|\n",
            "| Female|    Yes|    Graduate|           2330|           4486.0|       100|             360|             1|    Semiurban|          Y|         1.0|          0.0|            0.0|                154.0|                  242.0|             3.0|                   0.0|                 0.0|                0.0|              0.0|(1,[0],[1.0])|  (1,[0],[1.0])|    (286,[242],[1.0])|(2,[1],[1.0])|  (203,[3],[1.0])|    (2,[0],[1.0])|  (504,[154],[1.0])|      (10,[0],[1.0])|     (1,[0],[1.0])|(2,[0],[1.0])|(1020,[0,3,4,5,9,...|\n",
            "| Female|    Yes|    Graduate|          14866|              0.0|        70|             360|             1|        Urban|          Y|         1.0|          0.0|            0.0|                 83.0|                    0.0|            13.0|                   0.0|                 0.0|                1.0|              0.0|(1,[0],[1.0])|  (1,[0],[1.0])|      (286,[0],[1.0])|(2,[1],[1.0])| (203,[13],[1.0])|    (2,[1],[1.0])|   (504,[83],[1.0])|      (10,[0],[1.0])|     (1,[0],[1.0])|(2,[0],[1.0])|(1020,[0,3,5,8,9,...|\n",
            "|   Male|    Yes|    Graduate|           1538|           1425.0|        30|             360|             1|        Urban|          Y|         0.0|          0.0|            0.0|                 89.0|                   71.0|           102.0|                   0.0|                 0.0|                1.0|              0.0|(1,[0],[1.0])|  (1,[0],[1.0])|     (286,[71],[1.0])|(2,[0],[1.0])|(203,[102],[1.0])|    (2,[1],[1.0])|   (504,[89],[1.0])|      (10,[0],[1.0])|     (1,[0],[1.0])|(2,[0],[1.0])|(1020,[3,4,5,8,9,...|\n",
            "| Female|     No|    Graduate|          10000|           1666.0|       225|             360|             1|        Rural|          N|         1.0|          1.0|            0.0|                 12.0|                    1.0|            69.0|                   0.0|                 0.0|                2.0|              1.0|(1,[0],[1.0])|      (1,[],[])|      (286,[1],[1.0])|(2,[1],[1.0])| (203,[69],[1.0])|        (2,[],[])|   (504,[12],[1.0])|      (10,[0],[1.0])|     (1,[0],[1.0])|(2,[1],[1.0])|(1020,[0,1,3,4,5,...|\n",
            "|   Male|    Yes|    Graduate|           4860|            830.0|       125|             360|             1|    Semiurban|          Y|         0.0|          0.0|            0.0|                387.0|                  279.0|            15.0|                   0.0|                 0.0|                0.0|              0.0|(1,[0],[1.0])|  (1,[0],[1.0])|    (286,[279],[1.0])|(2,[0],[1.0])| (203,[15],[1.0])|    (2,[0],[1.0])|  (504,[387],[1.0])|      (10,[0],[1.0])|     (1,[0],[1.0])|(2,[0],[1.0])|(1020,[3,4,5,9,28...|\n",
            "|   Male|     No|    Graduate|           6277|              0.0|       118|             360|             0|        Rural|          N|         0.0|          1.0|            0.0|                446.0|                    0.0|            61.0|                   0.0|                 1.0|                2.0|              1.0|(1,[0],[1.0])|      (1,[],[])|      (286,[0],[1.0])|(2,[0],[1.0])| (203,[61],[1.0])|        (2,[],[])|  (504,[446],[1.0])|      (10,[0],[1.0])|         (1,[],[])|(2,[1],[1.0])|(1020,[1,3,5,7,8,...|\n",
            "|   Male|    Yes|    Graduate|           2577|           3750.0|       152|             360|             1|        Rural|          Y|         0.0|          0.0|            0.0|                174.0|                   35.0|            35.0|                   0.0|                 0.0|                2.0|              0.0|(1,[0],[1.0])|  (1,[0],[1.0])|     (286,[35],[1.0])|(2,[0],[1.0])| (203,[35],[1.0])|        (2,[],[])|  (504,[174],[1.0])|      (10,[0],[1.0])|     (1,[0],[1.0])|(2,[0],[1.0])|(1020,[3,4,5,8,9,...|\n",
            "|   Male|     No|    Graduate|           9166|              0.0|       244|             360|             1|        Urban|          N|         0.0|          1.0|            0.0|                494.0|                    0.0|           144.0|                   0.0|                 0.0|                1.0|              1.0|(1,[0],[1.0])|      (1,[],[])|      (286,[0],[1.0])|(2,[0],[1.0])|(203,[144],[1.0])|    (2,[1],[1.0])|  (504,[494],[1.0])|      (10,[0],[1.0])|     (1,[0],[1.0])|(2,[1],[1.0])|(1020,[1,3,5,8,9,...|\n",
            "|   Male|    Yes|Not Graduate|           2281|              0.0|       113|             360|             1|        Rural|          N|         0.0|          0.0|            1.0|                150.0|                    0.0|             6.0|                   0.0|                 0.0|                2.0|              1.0|    (1,[],[])|      (1,[],[])|      (286,[0],[1.0])|(2,[0],[1.0])|  (203,[6],[1.0])|        (2,[],[])|  (504,[150],[1.0])|      (10,[0],[1.0])|     (1,[0],[1.0])|(2,[0],[1.0])|(1020,[2,3,5,8,10...|\n",
            "|   Male|     No|    Graduate|           3254|              0.0|        50|             360|             1|        Urban|          Y|         0.0|          1.0|            0.0|                251.0|                    0.0|            49.0|                   0.0|                 0.0|                1.0|              0.0|(1,[0],[1.0])|  (1,[0],[1.0])|      (286,[0],[1.0])|(2,[0],[1.0])| (203,[49],[1.0])|    (2,[1],[1.0])|  (504,[251],[1.0])|      (10,[0],[1.0])|     (1,[0],[1.0])|(2,[1],[1.0])|(1020,[1,3,5,8,9,...|\n",
            "|   Male|    Yes|    Graduate|          39999|              0.0|       600|             180|             0|    Semiurban|          Y|         0.0|          0.0|            0.0|                333.0|                    0.0|           107.0|                   1.0|                 1.0|                0.0|              0.0|(1,[0],[1.0])|  (1,[0],[1.0])|      (286,[0],[1.0])|(2,[0],[1.0])|(203,[107],[1.0])|    (2,[0],[1.0])|  (504,[333],[1.0])|      (10,[1],[1.0])|         (1,[],[])|(2,[0],[1.0])|(1020,[3,5,6,7,9,...|\n",
            "|   Male|    Yes|    Graduate|           6000|              0.0|       160|             360|             0|        Rural|          Y|         0.0|          0.0|            0.0|                  3.0|                    0.0|             4.0|                   0.0|                 1.0|                2.0|              0.0|(1,[0],[1.0])|  (1,[0],[1.0])|      (286,[0],[1.0])|(2,[0],[1.0])|  (203,[4],[1.0])|        (2,[],[])|    (504,[3],[1.0])|      (10,[0],[1.0])|         (1,[],[])|(2,[0],[1.0])|(1020,[3,5,7,8,9,...|\n",
            "|   Male|    Yes|    Graduate|           9538|              0.0|       187|             360|             1|        Urban|          Y|         0.0|          0.0|            0.0|                500.0|                    0.0|             5.0|                   0.0|                 0.0|                1.0|              0.0|(1,[0],[1.0])|  (1,[0],[1.0])|      (286,[0],[1.0])|(2,[0],[1.0])|  (203,[5],[1.0])|    (2,[1],[1.0])|  (504,[500],[1.0])|      (10,[0],[1.0])|     (1,[0],[1.0])|(2,[0],[1.0])|(1020,[3,5,8,9,10...|\n",
            "|   Male|     No|    Graduate|           2980|           2083.0|       120|             360|             1|        Rural|          Y|         0.0|          1.0|            0.0|                215.0|                    2.0|             1.0|                   0.0|                 0.0|                2.0|              0.0|(1,[0],[1.0])|  (1,[0],[1.0])|      (286,[2],[1.0])|(2,[0],[1.0])|  (203,[1],[1.0])|        (2,[],[])|  (504,[215],[1.0])|      (10,[0],[1.0])|     (1,[0],[1.0])|(2,[1],[1.0])|(1020,[1,3,4,5,8,...|\n",
            "|   Male|    Yes|    Graduate|           4583|           5625.0|       255|             360|             1|    Semiurban|          Y|         0.0|          0.0|            0.0|                  2.0|                   10.0|            70.0|                   0.0|                 0.0|                0.0|              0.0|(1,[0],[1.0])|  (1,[0],[1.0])|     (286,[10],[1.0])|(2,[0],[1.0])| (203,[70],[1.0])|    (2,[0],[1.0])|    (504,[2],[1.0])|      (10,[0],[1.0])|     (1,[0],[1.0])|(2,[0],[1.0])|(1020,[3,4,5,9,20...|\n",
            "|   Male|    Yes|Not Graduate|           1863|           1041.0|        98|             360|             1|    Semiurban|          Y|         0.0|          0.0|            1.0|                112.0|                   46.0|            56.0|                   0.0|                 0.0|                0.0|              0.0|    (1,[],[])|  (1,[0],[1.0])|     (286,[46],[1.0])|(2,[0],[1.0])| (203,[56],[1.0])|    (2,[0],[1.0])|  (504,[112],[1.0])|      (10,[0],[1.0])|     (1,[0],[1.0])|(2,[0],[1.0])|(1020,[2,3,4,5,56...|\n",
            "|   Male|    Yes|    Graduate|           7933|              0.0|       275|             360|             1|        Urban|          N|         0.0|          0.0|            0.0|                481.0|                    0.0|            72.0|                   0.0|                 0.0|                1.0|              1.0|(1,[0],[1.0])|      (1,[],[])|      (286,[0],[1.0])|(2,[0],[1.0])| (203,[72],[1.0])|    (2,[1],[1.0])|  (504,[481],[1.0])|      (10,[0],[1.0])|     (1,[0],[1.0])|(2,[0],[1.0])|(1020,[3,5,8,9,10...|\n",
            "|   Male|    Yes|    Graduate|           3089|           1280.0|       121|             360|             0|    Semiurban|          N|         0.0|          0.0|            0.0|                233.0|                   60.0|            81.0|                   0.0|                 1.0|                0.0|              1.0|(1,[0],[1.0])|      (1,[],[])|     (286,[60],[1.0])|(2,[0],[1.0])| (203,[81],[1.0])|    (2,[0],[1.0])|  (504,[233],[1.0])|      (10,[0],[1.0])|         (1,[],[])|(2,[0],[1.0])|(1020,[3,4,5,7,9,...|\n",
            "|   Male|    Yes|    Graduate|           4167|           1447.0|       158|             360|             1|        Rural|          Y|         0.0|          0.0|            0.0|                345.0|                   72.0|            24.0|                   0.0|                 0.0|                2.0|              0.0|(1,[0],[1.0])|  (1,[0],[1.0])|     (286,[72],[1.0])|(2,[0],[1.0])| (203,[24],[1.0])|        (2,[],[])|  (504,[345],[1.0])|      (10,[0],[1.0])|     (1,[0],[1.0])|(2,[0],[1.0])|(1020,[3,4,5,8,9,...|\n",
            "|   Male|    Yes|    Graduate|           9323|              0.0|        75|             180|             1|        Urban|          Y|         0.0|          0.0|            0.0|                 59.0|                    0.0|            76.0|                   1.0|                 0.0|                1.0|              0.0|(1,[0],[1.0])|  (1,[0],[1.0])|      (286,[0],[1.0])|(2,[0],[1.0])| (203,[76],[1.0])|    (2,[1],[1.0])|   (504,[59],[1.0])|      (10,[1],[1.0])|     (1,[0],[1.0])|(2,[0],[1.0])|(1020,[3,5,6,8,9,...|\n",
            "|   Male|    Yes|    Graduate|           3707|           3166.0|       182|               0|             1|        Rural|          Y|         0.0|          0.0|            0.0|                300.0|                  202.0|            48.0|                   3.0|                 0.0|                2.0|              0.0|(1,[0],[1.0])|  (1,[0],[1.0])|    (286,[202],[1.0])|(2,[0],[1.0])| (203,[48],[1.0])|        (2,[],[])|  (504,[300],[1.0])|      (10,[3],[1.0])|     (1,[0],[1.0])|(2,[0],[1.0])|(1020,[3,4,5,6,8,...|\n",
            "| Female|    Yes|    Graduate|           4583|              0.0|       112|             360|             1|        Rural|          N|         1.0|          0.0|            0.0|                  2.0|                    0.0|            11.0|                   0.0|                 0.0|                2.0|              1.0|(1,[0],[1.0])|      (1,[],[])|      (286,[0],[1.0])|(2,[1],[1.0])| (203,[11],[1.0])|        (2,[],[])|    (504,[2],[1.0])|      (10,[0],[1.0])|     (1,[0],[1.0])|(2,[0],[1.0])|(1020,[0,3,5,8,9,...|\n",
            "|   Male|    Yes|    Graduate|           2439|           3333.0|       129|             360|             1|        Rural|          Y|         0.0|          0.0|            0.0|                162.0|                  209.0|            82.0|                   0.0|                 0.0|                2.0|              0.0|(1,[0],[1.0])|  (1,[0],[1.0])|    (286,[209],[1.0])|(2,[0],[1.0])| (203,[82],[1.0])|        (2,[],[])|  (504,[162],[1.0])|      (10,[0],[1.0])|     (1,[0],[1.0])|(2,[0],[1.0])|(1020,[3,4,5,8,9,...|\n",
            "|   Male|     No|    Graduate|           2237|              0.0|        63|             480|             0|    Semiurban|          N|         0.0|          1.0|            0.0|                146.0|                    0.0|           192.0|                   2.0|                 1.0|                0.0|              1.0|(1,[0],[1.0])|      (1,[],[])|      (286,[0],[1.0])|(2,[0],[1.0])|(203,[192],[1.0])|    (2,[0],[1.0])|  (504,[146],[1.0])|      (10,[2],[1.0])|         (1,[],[])|(2,[1],[1.0])|(1020,[1,3,5,6,7,...|\n",
            "|   Male|    Yes|    Graduate|           8000|              0.0|       200|             360|             1|    Semiurban|          Y|         0.0|          0.0|            0.0|                483.0|                    0.0|            37.0|                   0.0|                 0.0|                0.0|              0.0|(1,[0],[1.0])|  (1,[0],[1.0])|      (286,[0],[1.0])|(2,[0],[1.0])| (203,[37],[1.0])|    (2,[0],[1.0])|  (504,[483],[1.0])|      (10,[0],[1.0])|     (1,[0],[1.0])|(2,[0],[1.0])|(1020,[3,5,9,10,2...|\n",
            "|   Male|    Yes|Not Graduate|           1820|           1769.0|        95|             360|             1|        Rural|          Y|         0.0|          0.0|            1.0|                 26.0|                   98.0|             9.0|                   0.0|                 0.0|                2.0|              0.0|    (1,[],[])|  (1,[0],[1.0])|     (286,[98],[1.0])|(2,[0],[1.0])|  (203,[9],[1.0])|        (2,[],[])|   (504,[26],[1.0])|      (10,[0],[1.0])|     (1,[0],[1.0])|(2,[0],[1.0])|(1020,[2,3,4,5,8,...|\n",
            "|unknown|    Yes|    Graduate|          51763|              0.0|       700|             300|             1|        Urban|          Y|         2.0|          0.0|            0.0|                403.0|                    0.0|           195.0|                   4.0|                 0.0|                1.0|              0.0|(1,[0],[1.0])|  (1,[0],[1.0])|      (286,[0],[1.0])|    (2,[],[])|(203,[195],[1.0])|    (2,[1],[1.0])|  (504,[403],[1.0])|      (10,[4],[1.0])|     (1,[0],[1.0])|(2,[0],[1.0])|(1020,[0,3,5,6,8,...|\n",
            "|   Male|    Yes|Not Graduate|           3522|              0.0|        81|             180|             1|        Rural|          N|         0.0|          0.0|            1.0|                276.0|                    0.0|            28.0|                   1.0|                 0.0|                2.0|              1.0|    (1,[],[])|      (1,[],[])|      (286,[0],[1.0])|(2,[0],[1.0])| (203,[28],[1.0])|        (2,[],[])|  (504,[276],[1.0])|      (10,[1],[1.0])|     (1,[0],[1.0])|(2,[0],[1.0])|(1020,[2,3,5,6,8,...|\n",
            "|   Male|    Yes|    Graduate|           5708|           5625.0|       187|             360|             1|    Semiurban|          Y|         0.0|          0.0|            0.0|                421.0|                   10.0|             5.0|                   0.0|                 0.0|                0.0|              0.0|(1,[0],[1.0])|  (1,[0],[1.0])|     (286,[10],[1.0])|(2,[0],[1.0])|  (203,[5],[1.0])|    (2,[0],[1.0])|  (504,[421],[1.0])|      (10,[0],[1.0])|     (1,[0],[1.0])|(2,[0],[1.0])|(1020,[3,4,5,9,20...|\n",
            "|   Male|    Yes|Not Graduate|           4344|            736.0|        87|             360|             1|    Semiurban|          N|         0.0|          0.0|            1.0|                357.0|                  274.0|           109.0|                   0.0|                 0.0|                0.0|              1.0|    (1,[],[])|      (1,[],[])|    (286,[274],[1.0])|(2,[0],[1.0])|(203,[109],[1.0])|    (2,[0],[1.0])|  (504,[357],[1.0])|      (10,[0],[1.0])|     (1,[0],[1.0])|(2,[0],[1.0])|(1020,[2,3,4,5,28...|\n",
            "|   Male|    Yes|    Graduate|           3497|           1964.0|       116|             360|             1|        Rural|          Y|         0.0|          0.0|            0.0|                275.0|                  120.0|            20.0|                   0.0|                 0.0|                2.0|              0.0|(1,[0],[1.0])|  (1,[0],[1.0])|    (286,[120],[1.0])|(2,[0],[1.0])| (203,[20],[1.0])|        (2,[],[])|  (504,[275],[1.0])|      (10,[0],[1.0])|     (1,[0],[1.0])|(2,[0],[1.0])|(1020,[3,4,5,8,9,...|\n",
            "|   Male|    Yes|    Graduate|           2045|           1619.0|       101|             360|             1|        Rural|          Y|         0.0|          0.0|            0.0|                128.0|                   87.0|           111.0|                   0.0|                 0.0|                2.0|              0.0|(1,[0],[1.0])|  (1,[0],[1.0])|     (286,[87],[1.0])|(2,[0],[1.0])|(203,[111],[1.0])|        (2,[],[])|  (504,[128],[1.0])|      (10,[0],[1.0])|     (1,[0],[1.0])|(2,[0],[1.0])|(1020,[3,4,5,8,9,...|\n",
            "|   Male|    Yes|    Graduate|           5516|          11300.0|       495|             360|             0|    Semiurban|          N|         0.0|          0.0|            0.0|                414.0|                   52.0|           182.0|                   0.0|                 1.0|                0.0|              1.0|(1,[0],[1.0])|      (1,[],[])|     (286,[52],[1.0])|(2,[0],[1.0])|(203,[182],[1.0])|    (2,[0],[1.0])|  (504,[414],[1.0])|      (10,[0],[1.0])|         (1,[],[])|(2,[0],[1.0])|(1020,[3,4,5,7,9,...|\n",
            "|   Male|    Yes|    Graduate|           3750|              0.0|       116|             360|             1|    Semiurban|          Y|         0.0|          0.0|            0.0|                  5.0|                    0.0|            20.0|                   0.0|                 0.0|                0.0|              0.0|(1,[0],[1.0])|  (1,[0],[1.0])|      (286,[0],[1.0])|(2,[0],[1.0])| (203,[20],[1.0])|    (2,[0],[1.0])|    (504,[5],[1.0])|      (10,[0],[1.0])|     (1,[0],[1.0])|(2,[0],[1.0])|(1020,[3,5,9,10,2...|\n",
            "|   Male|     No|Not Graduate|           2333|           1451.0|       102|             480|             0|        Urban|          N|         0.0|          1.0|            1.0|                 13.0|                   14.0|            58.0|                   2.0|                 1.0|                1.0|              1.0|    (1,[],[])|      (1,[],[])|     (286,[14],[1.0])|(2,[0],[1.0])| (203,[58],[1.0])|    (2,[1],[1.0])|   (504,[13],[1.0])|      (10,[2],[1.0])|         (1,[],[])|(2,[1],[1.0])|(1020,[1,2,3,4,5,...|\n",
            "|   Male|    Yes|    Graduate|           6400|           7250.0|       180|             360|             0|        Urban|          N|         0.0|          0.0|            0.0|                 56.0|                  273.0|            26.0|                   0.0|                 1.0|                1.0|              1.0|(1,[0],[1.0])|      (1,[],[])|    (286,[273],[1.0])|(2,[0],[1.0])| (203,[26],[1.0])|    (2,[1],[1.0])|   (504,[56],[1.0])|      (10,[0],[1.0])|         (1,[],[])|(2,[0],[1.0])|(1020,[3,4,5,7,8,...|\n",
            "|   Male|     No|    Graduate|           1916|           5063.0|        67|             360|             0|        Rural|          N|         0.0|          1.0|            0.0|                116.0|                  254.0|            74.0|                   0.0|                 1.0|                2.0|              1.0|(1,[0],[1.0])|      (1,[],[])|    (286,[254],[1.0])|(2,[0],[1.0])| (203,[74],[1.0])|        (2,[],[])|  (504,[116],[1.0])|      (10,[0],[1.0])|         (1,[],[])|(2,[1],[1.0])|(1020,[1,3,4,5,7,...|\n",
            "|   Male|    Yes|    Graduate|           4600|              0.0|        73|             180|             1|    Semiurban|          Y|         0.0|          0.0|            0.0|                368.0|                    0.0|           197.0|                   1.0|                 0.0|                0.0|              0.0|(1,[0],[1.0])|  (1,[0],[1.0])|      (286,[0],[1.0])|(2,[0],[1.0])|(203,[197],[1.0])|    (2,[0],[1.0])|  (504,[368],[1.0])|      (10,[1],[1.0])|     (1,[0],[1.0])|(2,[0],[1.0])|(1020,[3,5,6,9,10...|\n",
            "|   Male|    Yes|    Graduate|          33846|              0.0|       260|             360|             1|    Semiurban|          N|         0.0|          0.0|            0.0|                263.0|                    0.0|            71.0|                   0.0|                 0.0|                0.0|              1.0|(1,[0],[1.0])|      (1,[],[])|      (286,[0],[1.0])|(2,[0],[1.0])| (203,[71],[1.0])|    (2,[0],[1.0])|  (504,[263],[1.0])|      (10,[0],[1.0])|     (1,[0],[1.0])|(2,[0],[1.0])|(1020,[3,5,9,10,2...|\n",
            "| Female|    Yes|    Graduate|           3625|              0.0|       108|             360|             1|    Semiurban|          Y|         1.0|          0.0|            0.0|                292.0|                    0.0|            30.0|                   0.0|                 0.0|                0.0|              0.0|(1,[0],[1.0])|  (1,[0],[1.0])|      (286,[0],[1.0])|(2,[1],[1.0])| (203,[30],[1.0])|    (2,[0],[1.0])|  (504,[292],[1.0])|      (10,[0],[1.0])|     (1,[0],[1.0])|(2,[0],[1.0])|(1020,[0,3,5,9,10...|\n",
            "|   Male|    Yes|    Graduate|          39147|           4750.0|       120|             360|             1|    Semiurban|          Y|         0.0|          0.0|            0.0|                323.0|                   38.0|             1.0|                   0.0|                 0.0|                0.0|              0.0|(1,[0],[1.0])|  (1,[0],[1.0])|     (286,[38],[1.0])|(2,[0],[1.0])|  (203,[1],[1.0])|    (2,[0],[1.0])|  (504,[323],[1.0])|      (10,[0],[1.0])|     (1,[0],[1.0])|(2,[0],[1.0])|(1020,[3,4,5,9,48...|\n",
            "|   Male|    Yes|    Graduate|           2178|              0.0|        66|             300|             0|        Rural|          N|         0.0|          0.0|            0.0|                142.0|                    0.0|            52.0|                   4.0|                 1.0|                2.0|              1.0|(1,[0],[1.0])|      (1,[],[])|      (286,[0],[1.0])|(2,[0],[1.0])| (203,[52],[1.0])|        (2,[],[])|  (504,[142],[1.0])|      (10,[4],[1.0])|         (1,[],[])|(2,[0],[1.0])|(1020,[3,5,6,7,8,...|\n",
            "|   Male|    Yes|    Graduate|           2383|           2138.0|        58|             360|             0|        Rural|          Y|         0.0|          0.0|            0.0|                 32.0|                  139.0|           188.0|                   0.0|                 1.0|                2.0|              0.0|(1,[0],[1.0])|  (1,[0],[1.0])|    (286,[139],[1.0])|(2,[0],[1.0])|(203,[188],[1.0])|        (2,[],[])|   (504,[32],[1.0])|      (10,[0],[1.0])|         (1,[],[])|(2,[0],[1.0])|(1020,[3,4,5,7,8,...|\n",
            "|unknown|    Yes|    Graduate|            674|           5296.0|       168|             360|             1|        Rural|          Y|         2.0|          0.0|            0.0|                460.0|                  257.0|            65.0|                   0.0|                 0.0|                2.0|              0.0|(1,[0],[1.0])|  (1,[0],[1.0])|    (286,[257],[1.0])|    (2,[],[])| (203,[65],[1.0])|        (2,[],[])|  (504,[460],[1.0])|      (10,[0],[1.0])|     (1,[0],[1.0])|(2,[0],[1.0])|(1020,[0,3,4,5,8,...|\n",
            "|   Male|    Yes|    Graduate|           9328|              0.0|       188|             180|             1|        Rural|          Y|         0.0|          0.0|            0.0|                496.0|                    0.0|            68.0|                   1.0|                 0.0|                2.0|              0.0|(1,[0],[1.0])|  (1,[0],[1.0])|      (286,[0],[1.0])|(2,[0],[1.0])| (203,[68],[1.0])|        (2,[],[])|  (504,[496],[1.0])|      (10,[1],[1.0])|     (1,[0],[1.0])|(2,[0],[1.0])|(1020,[3,5,6,8,9,...|\n",
            "|   Male|     No|Not Graduate|           4885|              0.0|        48|             360|             1|        Rural|          Y|         0.0|          1.0|            1.0|                389.0|                    0.0|           180.0|                   0.0|                 0.0|                2.0|              0.0|    (1,[],[])|  (1,[0],[1.0])|      (286,[0],[1.0])|(2,[0],[1.0])|(203,[180],[1.0])|        (2,[],[])|  (504,[389],[1.0])|      (10,[0],[1.0])|     (1,[0],[1.0])|(2,[1],[1.0])|(1020,[1,2,3,5,8,...|\n",
            "|   Male|     No|    Graduate|          12000|              0.0|       164|             360|             1|    Semiurban|          N|         0.0|          1.0|            0.0|                 23.0|                    0.0|           121.0|                   0.0|                 0.0|                0.0|              1.0|(1,[0],[1.0])|      (1,[],[])|      (286,[0],[1.0])|(2,[0],[1.0])|(203,[121],[1.0])|    (2,[0],[1.0])|   (504,[23],[1.0])|      (10,[0],[1.0])|     (1,[0],[1.0])|(2,[1],[1.0])|(1020,[1,3,5,9,10...|\n",
            "|   Male|    Yes|Not Graduate|           6033|              0.0|       160|             360|             1|        Urban|          N|         0.0|          0.0|            1.0|                435.0|                    0.0|             4.0|                   0.0|                 0.0|                1.0|              1.0|    (1,[],[])|      (1,[],[])|      (286,[0],[1.0])|(2,[0],[1.0])|  (203,[4],[1.0])|    (2,[1],[1.0])|  (504,[435],[1.0])|      (10,[0],[1.0])|     (1,[0],[1.0])|(2,[0],[1.0])|(1020,[2,3,5,8,10...|\n",
            "|   Male|     No|    Graduate|           3858|              0.0|        76|             360|             1|    Semiurban|          Y|         0.0|          1.0|            0.0|                316.0|                    0.0|           108.0|                   0.0|                 0.0|                0.0|              0.0|(1,[0],[1.0])|  (1,[0],[1.0])|      (286,[0],[1.0])|(2,[0],[1.0])|(203,[108],[1.0])|    (2,[0],[1.0])|  (504,[316],[1.0])|      (10,[0],[1.0])|     (1,[0],[1.0])|(2,[1],[1.0])|(1020,[1,3,5,9,10...|\n",
            "|   Male|     No|    Graduate|           4191|              0.0|       120|             360|             1|        Rural|          Y|         0.0|          1.0|            0.0|                348.0|                    0.0|             1.0|                   0.0|                 0.0|                2.0|              0.0|(1,[0],[1.0])|  (1,[0],[1.0])|      (286,[0],[1.0])|(2,[0],[1.0])|  (203,[1],[1.0])|        (2,[],[])|  (504,[348],[1.0])|      (10,[0],[1.0])|     (1,[0],[1.0])|(2,[1],[1.0])|(1020,[1,3,5,8,9,...|\n",
            "|   Male|    Yes|    Graduate|           3125|           2583.0|       170|             360|             1|    Semiurban|          N|         0.0|          0.0|            0.0|                237.0|                  177.0|            66.0|                   0.0|                 0.0|                0.0|              1.0|(1,[0],[1.0])|      (1,[],[])|    (286,[177],[1.0])|(2,[0],[1.0])| (203,[66],[1.0])|    (2,[0],[1.0])|  (504,[237],[1.0])|      (10,[0],[1.0])|     (1,[0],[1.0])|(2,[0],[1.0])|(1020,[3,4,5,9,18...|\n",
            "|   Male|     No|    Graduate|           8333|           3750.0|       187|             360|             1|        Rural|          Y|         0.0|          1.0|            0.0|                 11.0|                   35.0|             5.0|                   0.0|                 0.0|                2.0|              0.0|(1,[0],[1.0])|  (1,[0],[1.0])|     (286,[35],[1.0])|(2,[0],[1.0])|  (203,[5],[1.0])|        (2,[],[])|   (504,[11],[1.0])|      (10,[0],[1.0])|     (1,[0],[1.0])|(2,[1],[1.0])|(1020,[1,3,4,5,8,...|\n",
            "| Female|     No|Not Graduate|           1907|           2365.0|       120|               0|             1|        Urban|          Y|         1.0|          1.0|            1.0|                115.0|                  161.0|             1.0|                   3.0|                 0.0|                1.0|              0.0|    (1,[],[])|  (1,[0],[1.0])|    (286,[161],[1.0])|(2,[1],[1.0])|  (203,[1],[1.0])|    (2,[1],[1.0])|  (504,[115],[1.0])|      (10,[3],[1.0])|     (1,[0],[1.0])|(2,[1],[1.0])|(1020,[0,1,2,3,4,...|\n",
            "| Female|    Yes|    Graduate|           3416|           2816.0|       113|             360|             0|    Semiurban|          Y|         1.0|          0.0|            0.0|                267.0|                  186.0|             6.0|                   0.0|                 1.0|                0.0|              0.0|(1,[0],[1.0])|  (1,[0],[1.0])|    (286,[186],[1.0])|(2,[1],[1.0])|  (203,[6],[1.0])|    (2,[0],[1.0])|  (504,[267],[1.0])|      (10,[0],[1.0])|         (1,[],[])|(2,[0],[1.0])|(1020,[0,3,4,5,7,...|\n",
            "|   Male|     No|    Graduate|          11000|              0.0|        83|             360|             1|        Urban|          N|         0.0|          1.0|            0.0|                 68.0|                    0.0|           199.0|                   0.0|                 0.0|                1.0|              1.0|(1,[0],[1.0])|      (1,[],[])|      (286,[0],[1.0])|(2,[0],[1.0])|(203,[199],[1.0])|    (2,[1],[1.0])|   (504,[68],[1.0])|      (10,[0],[1.0])|     (1,[0],[1.0])|(2,[1],[1.0])|(1020,[1,3,5,8,9,...|\n",
            "|   Male|    Yes|Not Graduate|           2600|           2500.0|        90|             360|             1|    Semiurban|          Y|         0.0|          0.0|            1.0|                  1.0|                    3.0|            29.0|                   0.0|                 0.0|                0.0|              0.0|    (1,[],[])|  (1,[0],[1.0])|      (286,[3],[1.0])|(2,[0],[1.0])| (203,[29],[1.0])|    (2,[0],[1.0])|    (504,[1],[1.0])|      (10,[0],[1.0])|     (1,[0],[1.0])|(2,[0],[1.0])|(1020,[2,3,4,5,13...|\n",
            "|   Male|     No|    Graduate|           4923|              0.0|       166|             360|             0|    Semiurban|          Y|         0.0|          1.0|            0.0|                393.0|                    0.0|           122.0|                   0.0|                 1.0|                0.0|              0.0|(1,[0],[1.0])|  (1,[0],[1.0])|      (286,[0],[1.0])|(2,[0],[1.0])|(203,[122],[1.0])|    (2,[0],[1.0])|  (504,[393],[1.0])|      (10,[0],[1.0])|         (1,[],[])|(2,[1],[1.0])|(1020,[1,3,5,7,9,...|\n",
            "|   Male|    Yes|Not Graduate|           3992|              0.0|         0|             180|             1|        Urban|          N|         0.0|          0.0|            1.0|                331.0|                    0.0|             0.0|                   1.0|                 0.0|                1.0|              1.0|    (1,[],[])|      (1,[],[])|      (286,[0],[1.0])|(2,[0],[1.0])|  (203,[0],[1.0])|    (2,[1],[1.0])|  (504,[331],[1.0])|      (10,[1],[1.0])|     (1,[0],[1.0])|(2,[0],[1.0])|(1020,[2,3,6,8,10...|\n",
            "|   Male|    Yes|Not Graduate|           3500|           1083.0|       135|             360|             1|        Urban|          Y|         0.0|          0.0|            1.0|                 18.0|                   47.0|            17.0|                   0.0|                 0.0|                1.0|              0.0|    (1,[],[])|  (1,[0],[1.0])|     (286,[47],[1.0])|(2,[0],[1.0])| (203,[17],[1.0])|    (2,[1],[1.0])|   (504,[18],[1.0])|      (10,[0],[1.0])|     (1,[0],[1.0])|(2,[0],[1.0])|(1020,[2,3,4,5,8,...|\n",
            "|   Male|    Yes|Not Graduate|           3917|              0.0|       124|             360|             1|    Semiurban|          Y|         0.0|          0.0|            1.0|                324.0|                    0.0|            32.0|                   0.0|                 0.0|                0.0|              0.0|    (1,[],[])|  (1,[0],[1.0])|      (286,[0],[1.0])|(2,[0],[1.0])| (203,[32],[1.0])|    (2,[0],[1.0])|  (504,[324],[1.0])|      (10,[0],[1.0])|     (1,[0],[1.0])|(2,[0],[1.0])|(1020,[2,3,5,10,2...|\n",
            "| Female|     No|Not Graduate|           4408|              0.0|       120|             360|             1|    Semiurban|          Y|         1.0|          1.0|            1.0|                362.0|                    0.0|             1.0|                   0.0|                 0.0|                0.0|              0.0|    (1,[],[])|  (1,[0],[1.0])|      (286,[0],[1.0])|(2,[1],[1.0])|  (203,[1],[1.0])|    (2,[0],[1.0])|  (504,[362],[1.0])|      (10,[0],[1.0])|     (1,[0],[1.0])|(2,[1],[1.0])|(1020,[0,1,2,3,5,...|\n",
            "| Female|     No|    Graduate|           3244|              0.0|        80|             360|             1|        Urban|          Y|         1.0|          1.0|            0.0|                248.0|                    0.0|            27.0|                   0.0|                 0.0|                1.0|              0.0|(1,[0],[1.0])|  (1,[0],[1.0])|      (286,[0],[1.0])|(2,[1],[1.0])| (203,[27],[1.0])|    (2,[1],[1.0])|  (504,[248],[1.0])|      (10,[0],[1.0])|     (1,[0],[1.0])|(2,[1],[1.0])|(1020,[0,1,3,5,8,...|\n",
            "|   Male|     No|Not Graduate|           3975|           2531.0|        55|             360|             1|        Rural|          Y|         0.0|          1.0|            1.0|                328.0|                   28.0|            50.0|                   0.0|                 0.0|                2.0|              0.0|    (1,[],[])|  (1,[0],[1.0])|     (286,[28],[1.0])|(2,[0],[1.0])| (203,[50],[1.0])|        (2,[],[])|  (504,[328],[1.0])|      (10,[0],[1.0])|     (1,[0],[1.0])|(2,[1],[1.0])|(1020,[1,2,3,4,5,...|\n",
            "|   Male|     No|    Graduate|           2479|              0.0|        59|             360|             1|        Urban|          Y|         0.0|          1.0|            0.0|                 33.0|                    0.0|           189.0|                   0.0|                 0.0|                1.0|              0.0|(1,[0],[1.0])|  (1,[0],[1.0])|      (286,[0],[1.0])|(2,[0],[1.0])|(203,[189],[1.0])|    (2,[1],[1.0])|   (504,[33],[1.0])|      (10,[0],[1.0])|     (1,[0],[1.0])|(2,[1],[1.0])|(1020,[1,3,5,8,9,...|\n",
            "|   Male|     No|    Graduate|           3418|              0.0|       127|             360|             1|    Semiurban|          N|         0.0|          1.0|            0.0|                 42.0|                    0.0|            62.0|                   0.0|                 0.0|                0.0|              1.0|(1,[0],[1.0])|      (1,[],[])|      (286,[0],[1.0])|(2,[0],[1.0])| (203,[62],[1.0])|    (2,[0],[1.0])|   (504,[42],[1.0])|      (10,[0],[1.0])|     (1,[0],[1.0])|(2,[1],[1.0])|(1020,[1,3,5,9,10...|\n",
            "| Female|     No|    Graduate|          10000|              0.0|       214|             360|             1|    Semiurban|          N|         1.0|          1.0|            0.0|                 12.0|                    0.0|           134.0|                   0.0|                 0.0|                0.0|              1.0|(1,[0],[1.0])|      (1,[],[])|      (286,[0],[1.0])|(2,[1],[1.0])|(203,[134],[1.0])|    (2,[0],[1.0])|   (504,[12],[1.0])|      (10,[0],[1.0])|     (1,[0],[1.0])|(2,[1],[1.0])|(1020,[0,1,3,5,9,...|\n",
            "|   Male|    Yes|    Graduate|           3430|           1250.0|       128|             360|             0|    Semiurban|          N|         0.0|          0.0|            0.0|                270.0|                   11.0|             7.0|                   0.0|                 1.0|                0.0|              1.0|(1,[0],[1.0])|      (1,[],[])|     (286,[11],[1.0])|(2,[0],[1.0])|  (203,[7],[1.0])|    (2,[0],[1.0])|  (504,[270],[1.0])|      (10,[0],[1.0])|         (1,[],[])|(2,[0],[1.0])|(1020,[3,4,5,7,9,...|\n",
            "|   Male|    Yes|    Graduate|           7787|              0.0|       240|             360|             1|        Urban|          Y|         0.0|          0.0|            0.0|                479.0|                    0.0|           141.0|                   0.0|                 0.0|                1.0|              0.0|(1,[0],[1.0])|  (1,[0],[1.0])|      (286,[0],[1.0])|(2,[0],[1.0])|(203,[141],[1.0])|    (2,[1],[1.0])|  (504,[479],[1.0])|      (10,[0],[1.0])|     (1,[0],[1.0])|(2,[0],[1.0])|(1020,[3,5,8,9,10...|\n",
            "|   Male|    Yes|Not Graduate|           5703|              0.0|       130|             360|             1|        Rural|          Y|         0.0|          0.0|            1.0|                 54.0|                    0.0|             8.0|                   0.0|                 0.0|                2.0|              0.0|    (1,[],[])|  (1,[0],[1.0])|      (286,[0],[1.0])|(2,[0],[1.0])|  (203,[8],[1.0])|        (2,[],[])|   (504,[54],[1.0])|      (10,[0],[1.0])|     (1,[0],[1.0])|(2,[0],[1.0])|(1020,[2,3,5,8,10...|\n",
            "|   Male|    Yes|    Graduate|           3173|           3021.0|       137|             360|             1|        Urban|          Y|         0.0|          0.0|            0.0|                 40.0|                  195.0|            45.0|                   0.0|                 0.0|                1.0|              0.0|(1,[0],[1.0])|  (1,[0],[1.0])|    (286,[195],[1.0])|(2,[0],[1.0])| (203,[45],[1.0])|    (2,[1],[1.0])|   (504,[40],[1.0])|      (10,[0],[1.0])|     (1,[0],[1.0])|(2,[0],[1.0])|(1020,[3,4,5,8,9,...|\n",
            "|   Male|    Yes|Not Graduate|           3850|            983.0|       100|             360|             1|    Semiurban|          Y|         0.0|          0.0|            1.0|                315.0|                  284.0|             3.0|                   0.0|                 0.0|                0.0|              0.0|    (1,[],[])|  (1,[0],[1.0])|    (286,[284],[1.0])|(2,[0],[1.0])|  (203,[3],[1.0])|    (2,[0],[1.0])|  (504,[315],[1.0])|      (10,[0],[1.0])|     (1,[0],[1.0])|(2,[0],[1.0])|(1020,[2,3,4,5,29...|\n",
            "|   Male|    Yes|    Graduate|            150|           1800.0|       135|             360|             1|        Rural|          N|         0.0|          0.0|            0.0|                 86.0|                    7.0|            17.0|                   0.0|                 0.0|                2.0|              1.0|(1,[0],[1.0])|      (1,[],[])|      (286,[7],[1.0])|(2,[0],[1.0])| (203,[17],[1.0])|        (2,[],[])|   (504,[86],[1.0])|      (10,[0],[1.0])|     (1,[0],[1.0])|(2,[0],[1.0])|(1020,[3,4,5,8,9,...|\n",
            "|   Male|    Yes|    Graduate|           3727|           1775.0|       131|             360|             1|    Semiurban|          Y|         0.0|          0.0|            0.0|                303.0|                  100.0|            43.0|                   0.0|                 0.0|                0.0|              0.0|(1,[0],[1.0])|  (1,[0],[1.0])|    (286,[100],[1.0])|(2,[0],[1.0])| (203,[43],[1.0])|    (2,[0],[1.0])|  (504,[303],[1.0])|      (10,[0],[1.0])|     (1,[0],[1.0])|(2,[0],[1.0])|(1020,[3,4,5,9,11...|\n",
            "|   Male|    Yes|    Graduate|           5000|              0.0|        72|             360|             0|    Semiurban|          N|         0.0|          0.0|            0.0|                  7.0|                    0.0|           196.0|                   0.0|                 1.0|                0.0|              1.0|(1,[0],[1.0])|      (1,[],[])|      (286,[0],[1.0])|(2,[0],[1.0])|(203,[196],[1.0])|    (2,[0],[1.0])|    (504,[7],[1.0])|      (10,[0],[1.0])|         (1,[],[])|(2,[0],[1.0])|(1020,[3,5,7,9,10...|\n",
            "| Female|    Yes|    Graduate|           4283|           2383.0|       127|             360|             0|    Semiurban|          Y|         1.0|          0.0|            0.0|                 48.0|                  163.0|            62.0|                   0.0|                 1.0|                0.0|              0.0|(1,[0],[1.0])|  (1,[0],[1.0])|    (286,[163],[1.0])|(2,[1],[1.0])| (203,[62],[1.0])|    (2,[0],[1.0])|   (504,[48],[1.0])|      (10,[0],[1.0])|         (1,[],[])|(2,[0],[1.0])|(1020,[0,3,4,5,7,...|\n",
            "|   Male|    Yes|    Graduate|           2221|              0.0|        60|             360|             0|        Urban|          N|         0.0|          0.0|            0.0|                145.0|                    0.0|            51.0|                   0.0|                 1.0|                1.0|              1.0|(1,[0],[1.0])|      (1,[],[])|      (286,[0],[1.0])|(2,[0],[1.0])| (203,[51],[1.0])|    (2,[1],[1.0])|  (504,[145],[1.0])|      (10,[0],[1.0])|         (1,[],[])|(2,[0],[1.0])|(1020,[3,5,7,8,9,...|\n",
            "|   Male|    Yes|    Graduate|           4009|           1717.0|       116|             360|             1|    Semiurban|          Y|         0.0|          0.0|            0.0|                335.0|                   18.0|            20.0|                   0.0|                 0.0|                0.0|              0.0|(1,[0],[1.0])|  (1,[0],[1.0])|     (286,[18],[1.0])|(2,[0],[1.0])| (203,[20],[1.0])|    (2,[0],[1.0])|  (504,[335],[1.0])|      (10,[0],[1.0])|     (1,[0],[1.0])|(2,[0],[1.0])|(1020,[3,4,5,9,28...|\n",
            "|   Male|     No|    Graduate|           2971|           2791.0|       144|             360|             1|    Semiurban|          Y|         0.0|          1.0|            0.0|                214.0|                  184.0|            22.0|                   0.0|                 0.0|                0.0|              0.0|(1,[0],[1.0])|  (1,[0],[1.0])|    (286,[184],[1.0])|(2,[0],[1.0])| (203,[22],[1.0])|    (2,[0],[1.0])|  (504,[214],[1.0])|      (10,[0],[1.0])|     (1,[0],[1.0])|(2,[1],[1.0])|(1020,[1,3,4,5,9,...|\n",
            "|   Male|    Yes|    Graduate|           7578|           1010.0|       175|               0|             1|    Semiurban|          Y|         0.0|          0.0|            0.0|                474.0|                   41.0|            25.0|                   3.0|                 0.0|                0.0|              0.0|(1,[0],[1.0])|  (1,[0],[1.0])|     (286,[41],[1.0])|(2,[0],[1.0])| (203,[25],[1.0])|    (2,[0],[1.0])|  (504,[474],[1.0])|      (10,[3],[1.0])|     (1,[0],[1.0])|(2,[0],[1.0])|(1020,[3,4,5,6,9,...|\n",
            "|   Male|    Yes|    Graduate|           6250|              0.0|       128|             360|             1|    Semiurban|          Y|         0.0|          0.0|            0.0|                 10.0|                    0.0|             7.0|                   0.0|                 0.0|                0.0|              0.0|(1,[0],[1.0])|  (1,[0],[1.0])|      (286,[0],[1.0])|(2,[0],[1.0])|  (203,[7],[1.0])|    (2,[0],[1.0])|   (504,[10],[1.0])|      (10,[0],[1.0])|     (1,[0],[1.0])|(2,[0],[1.0])|(1020,[3,5,9,10,2...|\n",
            "|   Male|    Yes|    Graduate|           3250|              0.0|       170|             360|             1|        Rural|          N|         0.0|          0.0|            0.0|                250.0|                    0.0|            66.0|                   0.0|                 0.0|                2.0|              1.0|(1,[0],[1.0])|      (1,[],[])|      (286,[0],[1.0])|(2,[0],[1.0])| (203,[66],[1.0])|        (2,[],[])|  (504,[250],[1.0])|      (10,[0],[1.0])|     (1,[0],[1.0])|(2,[0],[1.0])|(1020,[3,5,8,9,10...|\n",
            "|   Male|    Yes|Not Graduate|           4735|              0.0|       138|             360|             1|        Urban|          N|         0.0|          0.0|            1.0|                382.0|                    0.0|            21.0|                   0.0|                 0.0|                1.0|              1.0|    (1,[],[])|      (1,[],[])|      (286,[0],[1.0])|(2,[0],[1.0])| (203,[21],[1.0])|    (2,[1],[1.0])|  (504,[382],[1.0])|      (10,[0],[1.0])|     (1,[0],[1.0])|(2,[0],[1.0])|(1020,[2,3,5,8,10...|\n",
            "|   Male|    Yes|    Graduate|           6250|           1695.0|       210|             360|             1|    Semiurban|          Y|         0.0|          0.0|            0.0|                 10.0|                   92.0|            97.0|                   0.0|                 0.0|                0.0|              0.0|(1,[0],[1.0])|  (1,[0],[1.0])|     (286,[92],[1.0])|(2,[0],[1.0])| (203,[97],[1.0])|    (2,[0],[1.0])|   (504,[10],[1.0])|      (10,[0],[1.0])|     (1,[0],[1.0])|(2,[0],[1.0])|(1020,[3,4,5,9,10...|\n",
            "|   Male|unknown|    Graduate|           4758|              0.0|       158|             480|             1|    Semiurban|          Y|         0.0|          2.0|            0.0|                384.0|                    0.0|            24.0|                   2.0|                 0.0|                0.0|              0.0|(1,[0],[1.0])|  (1,[0],[1.0])|      (286,[0],[1.0])|(2,[0],[1.0])| (203,[24],[1.0])|    (2,[0],[1.0])|  (504,[384],[1.0])|      (10,[2],[1.0])|     (1,[0],[1.0])|    (2,[],[])|(1020,[1,3,5,6,9,...|\n",
            "|   Male|     No|    Graduate|           6400|              0.0|       200|             360|             1|        Rural|          Y|         0.0|          1.0|            0.0|                 56.0|                    0.0|            37.0|                   0.0|                 0.0|                2.0|              0.0|(1,[0],[1.0])|  (1,[0],[1.0])|      (286,[0],[1.0])|(2,[0],[1.0])| (203,[37],[1.0])|        (2,[],[])|   (504,[56],[1.0])|      (10,[0],[1.0])|     (1,[0],[1.0])|(2,[1],[1.0])|(1020,[1,3,5,8,9,...|\n",
            "|   Male|    Yes|    Graduate|           2491|           2054.0|       104|             360|             1|    Semiurban|          Y|         0.0|          0.0|            0.0|                167.0|                   25.0|            14.0|                   0.0|                 0.0|                0.0|              0.0|(1,[0],[1.0])|  (1,[0],[1.0])|     (286,[25],[1.0])|(2,[0],[1.0])| (203,[14],[1.0])|    (2,[0],[1.0])|  (504,[167],[1.0])|      (10,[0],[1.0])|     (1,[0],[1.0])|(2,[0],[1.0])|(1020,[3,4,5,9,35...|\n",
            "|   Male|    Yes|    Graduate|           3716|              0.0|        42|             180|             1|        Rural|          Y|         0.0|          0.0|            0.0|                302.0|                    0.0|           176.0|                   1.0|                 0.0|                2.0|              0.0|(1,[0],[1.0])|  (1,[0],[1.0])|      (286,[0],[1.0])|(2,[0],[1.0])|(203,[176],[1.0])|        (2,[],[])|  (504,[302],[1.0])|      (10,[1],[1.0])|     (1,[0],[1.0])|(2,[0],[1.0])|(1020,[3,5,6,8,9,...|\n",
            "|   Male|     No|Not Graduate|           3189|           2598.0|       120|               0|             1|        Rural|          Y|         0.0|          1.0|            1.0|                243.0|                  178.0|             1.0|                   3.0|                 0.0|                2.0|              0.0|    (1,[],[])|  (1,[0],[1.0])|    (286,[178],[1.0])|(2,[0],[1.0])|  (203,[1],[1.0])|        (2,[],[])|  (504,[243],[1.0])|      (10,[3],[1.0])|     (1,[0],[1.0])|(2,[1],[1.0])|(1020,[1,2,3,4,5,...|\n",
            "| Female|     No|    Graduate|           8333|              0.0|       280|             360|             1|    Semiurban|          Y|         1.0|          1.0|            0.0|                 11.0|                    0.0|           152.0|                   0.0|                 0.0|                0.0|              0.0|(1,[0],[1.0])|  (1,[0],[1.0])|      (286,[0],[1.0])|(2,[1],[1.0])|(203,[152],[1.0])|    (2,[0],[1.0])|   (504,[11],[1.0])|      (10,[0],[1.0])|     (1,[0],[1.0])|(2,[1],[1.0])|(1020,[0,1,3,5,9,...|\n",
            "|   Male|    Yes|    Graduate|           3155|           1779.0|       140|             360|             1|    Semiurban|          Y|         0.0|          0.0|            0.0|                239.0|                  101.0|            34.0|                   0.0|                 0.0|                0.0|              0.0|(1,[0],[1.0])|  (1,[0],[1.0])|    (286,[101],[1.0])|(2,[0],[1.0])| (203,[34],[1.0])|    (2,[0],[1.0])|  (504,[239],[1.0])|      (10,[0],[1.0])|     (1,[0],[1.0])|(2,[0],[1.0])|(1020,[3,4,5,9,11...|\n",
            "|   Male|    Yes|    Graduate|           5500|           1260.0|       170|             360|             1|        Rural|          Y|         0.0|          0.0|            0.0|                 53.0|                   59.0|            66.0|                   0.0|                 0.0|                2.0|              0.0|(1,[0],[1.0])|  (1,[0],[1.0])|     (286,[59],[1.0])|(2,[0],[1.0])| (203,[66],[1.0])|        (2,[],[])|   (504,[53],[1.0])|      (10,[0],[1.0])|     (1,[0],[1.0])|(2,[0],[1.0])|(1020,[3,4,5,8,9,...|\n",
            "|   Male|    Yes|    Graduate|           5746|              0.0|       255|             360|             0|        Urban|          N|         0.0|          0.0|            0.0|                 55.0|                    0.0|            70.0|                   0.0|                 1.0|                1.0|              1.0|(1,[0],[1.0])|      (1,[],[])|      (286,[0],[1.0])|(2,[0],[1.0])| (203,[70],[1.0])|    (2,[1],[1.0])|   (504,[55],[1.0])|      (10,[0],[1.0])|         (1,[],[])|(2,[0],[1.0])|(1020,[3,5,7,8,9,...|\n",
            "| Female|     No|    Graduate|           3463|              0.0|       122|             360|             0|        Urban|          Y|         1.0|          1.0|            0.0|                273.0|                    0.0|            40.0|                   0.0|                 1.0|                1.0|              0.0|(1,[0],[1.0])|  (1,[0],[1.0])|      (286,[0],[1.0])|(2,[1],[1.0])| (203,[40],[1.0])|    (2,[1],[1.0])|  (504,[273],[1.0])|      (10,[0],[1.0])|         (1,[],[])|(2,[1],[1.0])|(1020,[0,1,3,5,7,...|\n",
            "| Female|     No|    Graduate|           3812|              0.0|       112|             360|             1|        Rural|          Y|         1.0|          1.0|            0.0|                309.0|                    0.0|            11.0|                   0.0|                 0.0|                2.0|              0.0|(1,[0],[1.0])|  (1,[0],[1.0])|      (286,[0],[1.0])|(2,[1],[1.0])| (203,[11],[1.0])|        (2,[],[])|  (504,[309],[1.0])|      (10,[0],[1.0])|     (1,[0],[1.0])|(2,[1],[1.0])|(1020,[0,1,3,5,8,...|\n",
            "|   Male|    Yes|    Graduate|           3315|              0.0|        96|             360|             1|    Semiurban|          Y|         0.0|          0.0|            0.0|                255.0|                    0.0|            10.0|                   0.0|                 0.0|                0.0|              0.0|(1,[0],[1.0])|  (1,[0],[1.0])|      (286,[0],[1.0])|(2,[0],[1.0])| (203,[10],[1.0])|    (2,[0],[1.0])|  (504,[255],[1.0])|      (10,[0],[1.0])|     (1,[0],[1.0])|(2,[0],[1.0])|(1020,[3,5,9,10,2...|\n",
            "|   Male|    Yes|    Graduate|           5819|           5000.0|       120|             360|             1|        Rural|          Y|         0.0|          0.0|            0.0|                427.0|                  252.0|             1.0|                   0.0|                 0.0|                2.0|              0.0|(1,[0],[1.0])|  (1,[0],[1.0])|    (286,[252],[1.0])|(2,[0],[1.0])|  (203,[1],[1.0])|        (2,[],[])|  (504,[427],[1.0])|      (10,[0],[1.0])|     (1,[0],[1.0])|(2,[0],[1.0])|(1020,[3,4,5,8,9,...|\n",
            "|   Male|    Yes|Not Graduate|           2510|           1983.0|       140|             180|             1|        Urban|          N|         0.0|          0.0|            1.0|                171.0|                  121.0|            34.0|                   1.0|                 0.0|                1.0|              1.0|    (1,[],[])|      (1,[],[])|    (286,[121],[1.0])|(2,[0],[1.0])| (203,[34],[1.0])|    (2,[1],[1.0])|  (504,[171],[1.0])|      (10,[1],[1.0])|     (1,[0],[1.0])|(2,[0],[1.0])|(1020,[2,3,4,5,6,...|\n",
            "|   Male|     No|    Graduate|           2965|           5701.0|       155|              60|             1|        Urban|          Y|         0.0|          1.0|            0.0|                213.0|                  263.0|            23.0|                   9.0|                 0.0|                1.0|              0.0|(1,[0],[1.0])|  (1,[0],[1.0])|    (286,[263],[1.0])|(2,[0],[1.0])| (203,[23],[1.0])|    (2,[1],[1.0])|  (504,[213],[1.0])|      (10,[9],[1.0])|     (1,[0],[1.0])|(2,[1],[1.0])|(1020,[1,3,4,5,6,...|\n",
            "|   Male|    Yes|    Graduate|           6250|           1300.0|       108|             360|             1|        Rural|          Y|         0.0|          0.0|            0.0|                 10.0|                   12.0|            30.0|                   0.0|                 0.0|                2.0|              0.0|(1,[0],[1.0])|  (1,[0],[1.0])|     (286,[12],[1.0])|(2,[0],[1.0])| (203,[30],[1.0])|        (2,[],[])|   (504,[10],[1.0])|      (10,[0],[1.0])|     (1,[0],[1.0])|(2,[0],[1.0])|(1020,[3,4,5,8,9,...|\n",
            "|   Male|    Yes|Not Graduate|           3406|           4417.0|       123|             360|             1|    Semiurban|          Y|         0.0|          0.0|            1.0|                265.0|                  241.0|            41.0|                   0.0|                 0.0|                0.0|              0.0|    (1,[],[])|  (1,[0],[1.0])|    (286,[241],[1.0])|(2,[0],[1.0])| (203,[41],[1.0])|    (2,[0],[1.0])|  (504,[265],[1.0])|      (10,[0],[1.0])|     (1,[0],[1.0])|(2,[0],[1.0])|(1020,[2,3,4,5,25...|\n",
            "|   Male|     No|    Graduate|           6050|           4333.0|       120|             180|             1|        Urban|          N|         0.0|          1.0|            0.0|                437.0|                  240.0|             1.0|                   1.0|                 0.0|                1.0|              1.0|(1,[0],[1.0])|      (1,[],[])|    (286,[240],[1.0])|(2,[0],[1.0])|  (203,[1],[1.0])|    (2,[1],[1.0])|  (504,[437],[1.0])|      (10,[1],[1.0])|     (1,[0],[1.0])|(2,[1],[1.0])|(1020,[1,3,4,5,6,...|\n",
            "|   Male|    Yes|    Graduate|           9703|              0.0|       112|             360|             1|        Urban|          Y|         0.0|          0.0|            0.0|                502.0|                    0.0|            11.0|                   0.0|                 0.0|                1.0|              0.0|(1,[0],[1.0])|  (1,[0],[1.0])|      (286,[0],[1.0])|(2,[0],[1.0])| (203,[11],[1.0])|    (2,[1],[1.0])|  (504,[502],[1.0])|      (10,[0],[1.0])|     (1,[0],[1.0])|(2,[0],[1.0])|(1020,[3,5,8,9,10...|\n",
            "|   Male|    Yes|Not Graduate|           6608|              0.0|       137|             180|             1|        Urban|          Y|         0.0|          0.0|            1.0|                457.0|                    0.0|            45.0|                   1.0|                 0.0|                1.0|              0.0|    (1,[],[])|  (1,[0],[1.0])|      (286,[0],[1.0])|(2,[0],[1.0])| (203,[45],[1.0])|    (2,[1],[1.0])|  (504,[457],[1.0])|      (10,[1],[1.0])|     (1,[0],[1.0])|(2,[0],[1.0])|(1020,[2,3,5,6,8,...|\n",
            "|   Male|    Yes|    Graduate|           2882|           1843.0|       123|             480|             1|    Semiurban|          Y|         0.0|          0.0|            0.0|                202.0|                   20.0|            41.0|                   2.0|                 0.0|                0.0|              0.0|(1,[0],[1.0])|  (1,[0],[1.0])|     (286,[20],[1.0])|(2,[0],[1.0])| (203,[41],[1.0])|    (2,[0],[1.0])|  (504,[202],[1.0])|      (10,[2],[1.0])|     (1,[0],[1.0])|(2,[0],[1.0])|(1020,[3,4,5,6,9,...|\n",
            "|   Male|    Yes|    Graduate|           1809|           1868.0|        90|             360|             1|        Urban|          Y|         0.0|          0.0|            0.0|                104.0|                  112.0|            29.0|                   0.0|                 0.0|                1.0|              0.0|(1,[0],[1.0])|  (1,[0],[1.0])|    (286,[112],[1.0])|(2,[0],[1.0])| (203,[29],[1.0])|    (2,[1],[1.0])|  (504,[104],[1.0])|      (10,[0],[1.0])|     (1,[0],[1.0])|(2,[0],[1.0])|(1020,[3,4,5,8,9,...|\n",
            "|   Male|    Yes|Not Graduate|           1668|           3890.0|       201|             360|             0|    Semiurban|          N|         0.0|          0.0|            1.0|                 98.0|                  228.0|            95.0|                   0.0|                 1.0|                0.0|              1.0|    (1,[],[])|      (1,[],[])|    (286,[228],[1.0])|(2,[0],[1.0])| (203,[95],[1.0])|    (2,[0],[1.0])|   (504,[98],[1.0])|      (10,[0],[1.0])|         (1,[],[])|(2,[0],[1.0])|(1020,[2,3,4,5,7,...|\n",
            "| Female|     No|    Graduate|           3427|              0.0|       138|             360|             1|        Urban|          N|         1.0|          1.0|            0.0|                269.0|                    0.0|            21.0|                   0.0|                 0.0|                1.0|              1.0|(1,[0],[1.0])|      (1,[],[])|      (286,[0],[1.0])|(2,[1],[1.0])| (203,[21],[1.0])|    (2,[1],[1.0])|  (504,[269],[1.0])|      (10,[0],[1.0])|     (1,[0],[1.0])|(2,[1],[1.0])|(1020,[0,1,3,5,8,...|\n",
            "|   Male|     No|Not Graduate|           2583|           2167.0|       104|             360|             1|        Rural|          Y|         0.0|          1.0|            1.0|                  9.0|                   26.0|            14.0|                   0.0|                 0.0|                2.0|              0.0|    (1,[],[])|  (1,[0],[1.0])|     (286,[26],[1.0])|(2,[0],[1.0])| (203,[14],[1.0])|        (2,[],[])|    (504,[9],[1.0])|      (10,[0],[1.0])|     (1,[0],[1.0])|(2,[1],[1.0])|(1020,[1,2,3,4,5,...|\n",
            "|   Male|    Yes|Not Graduate|           2661|           7101.0|       279|             180|             1|    Semiurban|          Y|         0.0|          0.0|            1.0|                181.0|                  270.0|           151.0|                   1.0|                 0.0|                0.0|              0.0|    (1,[],[])|  (1,[0],[1.0])|    (286,[270],[1.0])|(2,[0],[1.0])|(203,[151],[1.0])|    (2,[0],[1.0])|  (504,[181],[1.0])|      (10,[1],[1.0])|     (1,[0],[1.0])|(2,[0],[1.0])|(1020,[2,3,4,5,6,...|\n",
            "|   Male|     No|    Graduate|          16250|              0.0|       192|             360|             0|        Urban|          N|         0.0|          1.0|            0.0|                 94.0|                    0.0|            93.0|                   0.0|                 1.0|                1.0|              1.0|(1,[0],[1.0])|      (1,[],[])|      (286,[0],[1.0])|(2,[0],[1.0])| (203,[93],[1.0])|    (2,[1],[1.0])|   (504,[94],[1.0])|      (10,[0],[1.0])|         (1,[],[])|(2,[1],[1.0])|(1020,[1,3,5,7,8,...|\n",
            "| Female|     No|    Graduate|           3083|              0.0|       255|             360|             1|        Rural|          Y|         1.0|          1.0|            0.0|                 38.0|                    0.0|            70.0|                   0.0|                 0.0|                2.0|              0.0|(1,[0],[1.0])|  (1,[0],[1.0])|      (286,[0],[1.0])|(2,[1],[1.0])| (203,[70],[1.0])|        (2,[],[])|   (504,[38],[1.0])|      (10,[0],[1.0])|     (1,[0],[1.0])|(2,[1],[1.0])|(1020,[0,1,3,5,8,...|\n",
            "|   Male|     No|Not Graduate|           6045|              0.0|       115|             360|             0|        Rural|          N|         0.0|          1.0|            1.0|                436.0|                    0.0|            12.0|                   0.0|                 1.0|                2.0|              1.0|    (1,[],[])|      (1,[],[])|      (286,[0],[1.0])|(2,[0],[1.0])| (203,[12],[1.0])|        (2,[],[])|  (504,[436],[1.0])|      (10,[0],[1.0])|         (1,[],[])|(2,[1],[1.0])|(1020,[1,2,3,5,7,...|\n",
            "|   Male|    Yes|    Graduate|           5250|              0.0|        94|             360|             1|        Urban|          N|         0.0|          0.0|            0.0|                 52.0|                    0.0|            55.0|                   0.0|                 0.0|                1.0|              1.0|(1,[0],[1.0])|      (1,[],[])|      (286,[0],[1.0])|(2,[0],[1.0])| (203,[55],[1.0])|    (2,[1],[1.0])|   (504,[52],[1.0])|      (10,[0],[1.0])|     (1,[0],[1.0])|(2,[0],[1.0])|(1020,[3,5,8,9,10...|\n",
            "|   Male|    Yes|    Graduate|          14683|           2100.0|       304|             360|             1|        Rural|          N|         0.0|          0.0|            0.0|                 82.0|                  135.0|           158.0|                   0.0|                 0.0|                2.0|              1.0|(1,[0],[1.0])|      (1,[],[])|    (286,[135],[1.0])|(2,[0],[1.0])|(203,[158],[1.0])|        (2,[],[])|   (504,[82],[1.0])|      (10,[0],[1.0])|     (1,[0],[1.0])|(2,[0],[1.0])|(1020,[3,4,5,8,9,...|\n",
            "|   Male|    Yes|Not Graduate|           4931|              0.0|       128|             360|             0|    Semiurban|          N|         0.0|          0.0|            1.0|                394.0|                    0.0|             7.0|                   0.0|                 1.0|                0.0|              1.0|    (1,[],[])|      (1,[],[])|      (286,[0],[1.0])|(2,[0],[1.0])|  (203,[7],[1.0])|    (2,[0],[1.0])|  (504,[394],[1.0])|      (10,[0],[1.0])|         (1,[],[])|(2,[0],[1.0])|(1020,[2,3,5,7,10...|\n",
            "|   Male|    Yes|    Graduate|           6083|           4250.0|       330|             360|             0|        Urban|          Y|         0.0|          0.0|            0.0|                440.0|                  236.0|           165.0|                   0.0|                 1.0|                1.0|              0.0|(1,[0],[1.0])|  (1,[0],[1.0])|    (286,[236],[1.0])|(2,[0],[1.0])|(203,[165],[1.0])|    (2,[1],[1.0])|  (504,[440],[1.0])|      (10,[0],[1.0])|         (1,[],[])|(2,[0],[1.0])|(1020,[3,4,5,7,8,...|\n",
            "|   Male|     No|    Graduate|           2060|           2209.0|       134|             360|             1|    Semiurban|          Y|         0.0|          1.0|            0.0|                130.0|                  147.0|            44.0|                   0.0|                 0.0|                0.0|              0.0|(1,[0],[1.0])|  (1,[0],[1.0])|    (286,[147],[1.0])|(2,[0],[1.0])| (203,[44],[1.0])|    (2,[0],[1.0])|  (504,[130],[1.0])|      (10,[0],[1.0])|     (1,[0],[1.0])|(2,[1],[1.0])|(1020,[1,3,4,5,9,...|\n",
            "| Female|     No|    Graduate|           3481|              0.0|       155|              36|             1|    Semiurban|          N|         1.0|          1.0|            0.0|                274.0|                    0.0|            23.0|                   8.0|                 0.0|                0.0|              1.0|(1,[0],[1.0])|      (1,[],[])|      (286,[0],[1.0])|(2,[1],[1.0])| (203,[23],[1.0])|    (2,[0],[1.0])|  (504,[274],[1.0])|      (10,[8],[1.0])|     (1,[0],[1.0])|(2,[1],[1.0])|(1020,[0,1,3,5,6,...|\n",
            "| Female|     No|    Graduate|           7200|              0.0|       120|             360|             1|        Rural|          Y|         1.0|          1.0|            0.0|                470.0|                    0.0|             1.0|                   0.0|                 0.0|                2.0|              0.0|(1,[0],[1.0])|  (1,[0],[1.0])|      (286,[0],[1.0])|(2,[1],[1.0])|  (203,[1],[1.0])|        (2,[],[])|  (504,[470],[1.0])|      (10,[0],[1.0])|     (1,[0],[1.0])|(2,[1],[1.0])|(1020,[0,1,3,5,8,...|\n",
            "|   Male|     No|    Graduate|           5166|              0.0|       128|             360|             1|    Semiurban|          Y|         0.0|          1.0|            0.0|                401.0|                    0.0|             7.0|                   0.0|                 0.0|                0.0|              0.0|(1,[0],[1.0])|  (1,[0],[1.0])|      (286,[0],[1.0])|(2,[0],[1.0])|  (203,[7],[1.0])|    (2,[0],[1.0])|  (504,[401],[1.0])|      (10,[0],[1.0])|     (1,[0],[1.0])|(2,[1],[1.0])|(1020,[1,3,5,9,10...|\n",
            "|   Male|     No|    Graduate|           4095|           3447.0|       151|             360|             1|        Rural|          Y|         0.0|          1.0|            0.0|                338.0|                  216.0|            46.0|                   0.0|                 0.0|                2.0|              0.0|(1,[0],[1.0])|  (1,[0],[1.0])|    (286,[216],[1.0])|(2,[0],[1.0])| (203,[46],[1.0])|        (2,[],[])|  (504,[338],[1.0])|      (10,[0],[1.0])|     (1,[0],[1.0])|(2,[1],[1.0])|(1020,[1,3,4,5,8,...|\n",
            "|   Male|    Yes|    Graduate|           4708|           1387.0|       150|             360|             1|    Semiurban|          Y|         0.0|          0.0|            0.0|                380.0|                   65.0|            19.0|                   0.0|                 0.0|                0.0|              0.0|(1,[0],[1.0])|  (1,[0],[1.0])|     (286,[65],[1.0])|(2,[0],[1.0])| (203,[19],[1.0])|    (2,[0],[1.0])|  (504,[380],[1.0])|      (10,[0],[1.0])|     (1,[0],[1.0])|(2,[0],[1.0])|(1020,[3,4,5,9,75...|\n",
            "|   Male|    Yes|    Graduate|           4333|           1811.0|       160|             360|             0|        Urban|          Y|         0.0|          0.0|            0.0|                 20.0|                  105.0|             4.0|                   0.0|                 1.0|                1.0|              0.0|(1,[0],[1.0])|  (1,[0],[1.0])|    (286,[105],[1.0])|(2,[0],[1.0])|  (203,[4],[1.0])|    (2,[1],[1.0])|   (504,[20],[1.0])|      (10,[0],[1.0])|         (1,[],[])|(2,[0],[1.0])|(1020,[3,4,5,7,8,...|\n",
            "| Female|     No|    Graduate|           3418|              0.0|       135|             360|             1|        Rural|          N|         1.0|          1.0|            0.0|                 42.0|                    0.0|            17.0|                   0.0|                 0.0|                2.0|              1.0|(1,[0],[1.0])|      (1,[],[])|      (286,[0],[1.0])|(2,[1],[1.0])| (203,[17],[1.0])|        (2,[],[])|   (504,[42],[1.0])|      (10,[0],[1.0])|     (1,[0],[1.0])|(2,[1],[1.0])|(1020,[0,1,3,5,8,...|\n",
            "| Female|     No|    Graduate|           2876|           1560.0|        90|             360|             1|        Urban|          Y|         1.0|          1.0|            0.0|                201.0|                   15.0|            29.0|                   0.0|                 0.0|                1.0|              0.0|(1,[0],[1.0])|  (1,[0],[1.0])|     (286,[15],[1.0])|(2,[1],[1.0])| (203,[29],[1.0])|    (2,[1],[1.0])|  (504,[201],[1.0])|      (10,[0],[1.0])|     (1,[0],[1.0])|(2,[1],[1.0])|(1020,[0,1,3,4,5,...|\n",
            "| Female|     No|    Graduate|           3237|              0.0|        30|             360|             1|        Urban|          Y|         1.0|          1.0|            0.0|                247.0|                    0.0|           102.0|                   0.0|                 0.0|                1.0|              0.0|(1,[0],[1.0])|  (1,[0],[1.0])|      (286,[0],[1.0])|(2,[1],[1.0])|(203,[102],[1.0])|    (2,[1],[1.0])|  (504,[247],[1.0])|      (10,[0],[1.0])|     (1,[0],[1.0])|(2,[1],[1.0])|(1020,[0,1,3,5,8,...|\n",
            "|   Male|    Yes|    Graduate|          11146|              0.0|       136|             360|             1|        Urban|          Y|         0.0|          0.0|            0.0|                 69.0|                    0.0|            18.0|                   0.0|                 0.0|                1.0|              0.0|(1,[0],[1.0])|  (1,[0],[1.0])|      (286,[0],[1.0])|(2,[0],[1.0])| (203,[18],[1.0])|    (2,[1],[1.0])|   (504,[69],[1.0])|      (10,[0],[1.0])|     (1,[0],[1.0])|(2,[0],[1.0])|(1020,[3,5,8,9,10...|\n",
            "|   Male|     No|    Graduate|           2833|           1857.0|       126|             360|             1|        Rural|          Y|         0.0|          1.0|            0.0|                 35.0|                  110.0|            42.0|                   0.0|                 0.0|                2.0|              0.0|(1,[0],[1.0])|  (1,[0],[1.0])|    (286,[110],[1.0])|(2,[0],[1.0])| (203,[42],[1.0])|        (2,[],[])|   (504,[35],[1.0])|      (10,[0],[1.0])|     (1,[0],[1.0])|(2,[1],[1.0])|(1020,[1,3,4,5,8,...|\n",
            "|   Male|    Yes|    Graduate|           2620|           2223.0|       150|             360|             1|    Semiurban|          Y|         0.0|          0.0|            0.0|                176.0|                  149.0|            19.0|                   0.0|                 0.0|                0.0|              0.0|(1,[0],[1.0])|  (1,[0],[1.0])|    (286,[149],[1.0])|(2,[0],[1.0])| (203,[19],[1.0])|    (2,[0],[1.0])|  (504,[176],[1.0])|      (10,[0],[1.0])|     (1,[0],[1.0])|(2,[0],[1.0])|(1020,[3,4,5,9,15...|\n",
            "|   Male|    Yes|    Graduate|           3900|              0.0|        90|             360|             1|    Semiurban|          Y|         0.0|          0.0|            0.0|                321.0|                    0.0|            29.0|                   0.0|                 0.0|                0.0|              0.0|(1,[0],[1.0])|  (1,[0],[1.0])|      (286,[0],[1.0])|(2,[0],[1.0])| (203,[29],[1.0])|    (2,[0],[1.0])|  (504,[321],[1.0])|      (10,[0],[1.0])|     (1,[0],[1.0])|(2,[0],[1.0])|(1020,[3,5,9,10,2...|\n",
            "|   Male|    Yes|    Graduate|           2750|           1842.0|       115|             360|             1|    Semiurban|          Y|         0.0|          0.0|            0.0|                191.0|                  108.0|            12.0|                   0.0|                 0.0|                0.0|              0.0|(1,[0],[1.0])|  (1,[0],[1.0])|    (286,[108],[1.0])|(2,[0],[1.0])| (203,[12],[1.0])|    (2,[0],[1.0])|  (504,[191],[1.0])|      (10,[0],[1.0])|     (1,[0],[1.0])|(2,[0],[1.0])|(1020,[3,4,5,9,11...|\n",
            "|   Male|    Yes|    Graduate|           3993|           3274.0|       207|             360|             1|    Semiurban|          Y|         0.0|          0.0|            0.0|                332.0|                  207.0|           130.0|                   0.0|                 0.0|                0.0|              0.0|(1,[0],[1.0])|  (1,[0],[1.0])|    (286,[207],[1.0])|(2,[0],[1.0])|(203,[130],[1.0])|    (2,[0],[1.0])|  (504,[332],[1.0])|      (10,[0],[1.0])|     (1,[0],[1.0])|(2,[0],[1.0])|(1020,[3,4,5,9,21...|\n",
            "|   Male|    Yes|    Graduate|           3103|           1300.0|        80|             360|             1|        Urban|          Y|         0.0|          0.0|            0.0|                236.0|                   12.0|            27.0|                   0.0|                 0.0|                1.0|              0.0|(1,[0],[1.0])|  (1,[0],[1.0])|     (286,[12],[1.0])|(2,[0],[1.0])| (203,[27],[1.0])|    (2,[1],[1.0])|  (504,[236],[1.0])|      (10,[0],[1.0])|     (1,[0],[1.0])|(2,[0],[1.0])|(1020,[3,4,5,8,9,...|\n",
            "|   Male|    Yes|    Graduate|          14583|              0.0|       436|             360|             1|    Semiurban|          Y|         0.0|          0.0|            0.0|                 24.0|                    0.0|           177.0|                   0.0|                 0.0|                0.0|              0.0|(1,[0],[1.0])|  (1,[0],[1.0])|      (286,[0],[1.0])|(2,[0],[1.0])|(203,[177],[1.0])|    (2,[0],[1.0])|   (504,[24],[1.0])|      (10,[0],[1.0])|     (1,[0],[1.0])|(2,[0],[1.0])|(1020,[3,5,9,10,2...|\n",
            "| Female|    Yes|Not Graduate|           4100|              0.0|       124|             360|             0|        Rural|          Y|         1.0|          0.0|            1.0|                339.0|                    0.0|            32.0|                   0.0|                 1.0|                2.0|              0.0|    (1,[],[])|  (1,[0],[1.0])|      (286,[0],[1.0])|(2,[1],[1.0])| (203,[32],[1.0])|        (2,[],[])|  (504,[339],[1.0])|      (10,[0],[1.0])|         (1,[],[])|(2,[0],[1.0])|(1020,[0,2,3,5,7,...|\n",
            "|   Male|     No|Not Graduate|           4053|           2426.0|       158|             360|             0|        Urban|          N|         0.0|          1.0|            1.0|                337.0|                  170.0|            24.0|                   0.0|                 1.0|                1.0|              1.0|    (1,[],[])|      (1,[],[])|    (286,[170],[1.0])|(2,[0],[1.0])| (203,[24],[1.0])|    (2,[1],[1.0])|  (504,[337],[1.0])|      (10,[0],[1.0])|         (1,[],[])|(2,[1],[1.0])|(1020,[1,2,3,4,5,...|\n",
            "|   Male|    Yes|    Graduate|           3927|            800.0|       112|             360|             1|    Semiurban|          Y|         0.0|          0.0|            0.0|                325.0|                  277.0|            11.0|                   0.0|                 0.0|                0.0|              0.0|(1,[0],[1.0])|  (1,[0],[1.0])|    (286,[277],[1.0])|(2,[0],[1.0])| (203,[11],[1.0])|    (2,[0],[1.0])|  (504,[325],[1.0])|      (10,[0],[1.0])|     (1,[0],[1.0])|(2,[0],[1.0])|(1020,[3,4,5,9,28...|\n",
            "|   Male|    Yes|    Graduate|           2301|      985.7999878|        78|             180|             1|        Urban|          Y|         0.0|          0.0|            0.0|                152.0|                  285.0|           198.0|                   1.0|                 0.0|                1.0|              0.0|(1,[0],[1.0])|  (1,[0],[1.0])|    (286,[285],[1.0])|(2,[0],[1.0])|(203,[198],[1.0])|    (2,[1],[1.0])|  (504,[152],[1.0])|      (10,[1],[1.0])|     (1,[0],[1.0])|(2,[0],[1.0])|(1020,[3,4,5,6,8,...|\n",
            "| Female|     No|    Graduate|           1811|           1666.0|        54|             360|             1|        Urban|          Y|         1.0|          1.0|            0.0|                105.0|                    1.0|           186.0|                   0.0|                 0.0|                1.0|              0.0|(1,[0],[1.0])|  (1,[0],[1.0])|      (286,[1],[1.0])|(2,[1],[1.0])|(203,[186],[1.0])|    (2,[1],[1.0])|  (504,[105],[1.0])|      (10,[0],[1.0])|     (1,[0],[1.0])|(2,[1],[1.0])|(1020,[0,1,3,4,5,...|\n",
            "|   Male|    Yes|    Graduate|          20667|              0.0|         0|             360|             1|        Rural|          N|         0.0|          0.0|            0.0|                131.0|                    0.0|             0.0|                   0.0|                 0.0|                2.0|              1.0|(1,[0],[1.0])|      (1,[],[])|      (286,[0],[1.0])|(2,[0],[1.0])|  (203,[0],[1.0])|        (2,[],[])|  (504,[131],[1.0])|      (10,[0],[1.0])|     (1,[0],[1.0])|(2,[0],[1.0])|(1020,[3,8,9,10,2...|\n",
            "|   Male|     No|    Graduate|           3158|           3053.0|        89|             360|             1|        Rural|          Y|         0.0|          1.0|            0.0|                240.0|                  198.0|           202.0|                   0.0|                 0.0|                2.0|              0.0|(1,[0],[1.0])|  (1,[0],[1.0])|    (286,[198],[1.0])|(2,[0],[1.0])|(203,[202],[1.0])|        (2,[],[])|  (504,[240],[1.0])|      (10,[0],[1.0])|     (1,[0],[1.0])|(2,[1],[1.0])|(1020,[1,3,4,5,8,...|\n",
            "| Female|     No|    Graduate|           2600|           1717.0|        99|             300|             1|    Semiurban|          N|         1.0|          1.0|            0.0|                  1.0|                   18.0|            57.0|                   4.0|                 0.0|                0.0|              1.0|(1,[0],[1.0])|      (1,[],[])|     (286,[18],[1.0])|(2,[1],[1.0])| (203,[57],[1.0])|    (2,[0],[1.0])|    (504,[1],[1.0])|      (10,[4],[1.0])|     (1,[0],[1.0])|(2,[1],[1.0])|(1020,[0,1,3,4,5,...|\n",
            "|   Male|    Yes|    Graduate|           3704|           2000.0|       120|             360|             1|        Rural|          Y|         0.0|          0.0|            0.0|                299.0|                   23.0|             1.0|                   0.0|                 0.0|                2.0|              0.0|(1,[0],[1.0])|  (1,[0],[1.0])|     (286,[23],[1.0])|(2,[0],[1.0])|  (203,[1],[1.0])|        (2,[],[])|  (504,[299],[1.0])|      (10,[0],[1.0])|     (1,[0],[1.0])|(2,[0],[1.0])|(1020,[3,4,5,8,9,...|\n",
            "| Female|     No|    Graduate|           4124|              0.0|       115|             360|             1|    Semiurban|          Y|         1.0|          1.0|            0.0|                341.0|                    0.0|            12.0|                   0.0|                 0.0|                0.0|              0.0|(1,[0],[1.0])|  (1,[0],[1.0])|      (286,[0],[1.0])|(2,[1],[1.0])| (203,[12],[1.0])|    (2,[0],[1.0])|  (504,[341],[1.0])|      (10,[0],[1.0])|     (1,[0],[1.0])|(2,[1],[1.0])|(1020,[0,1,3,5,9,...|\n",
            "|   Male|     No|    Graduate|           9508|              0.0|       187|             360|             1|        Rural|          Y|         0.0|          1.0|            0.0|                499.0|                    0.0|             5.0|                   0.0|                 0.0|                2.0|              0.0|(1,[0],[1.0])|  (1,[0],[1.0])|      (286,[0],[1.0])|(2,[0],[1.0])|  (203,[5],[1.0])|        (2,[],[])|  (504,[499],[1.0])|      (10,[0],[1.0])|     (1,[0],[1.0])|(2,[1],[1.0])|(1020,[1,3,5,8,9,...|\n",
            "|   Male|    Yes|    Graduate|           3075|           2416.0|       139|             360|             1|        Rural|          Y|         0.0|          0.0|            0.0|                230.0|                  167.0|            83.0|                   0.0|                 0.0|                2.0|              0.0|(1,[0],[1.0])|  (1,[0],[1.0])|    (286,[167],[1.0])|(2,[0],[1.0])| (203,[83],[1.0])|        (2,[],[])|  (504,[230],[1.0])|      (10,[0],[1.0])|     (1,[0],[1.0])|(2,[0],[1.0])|(1020,[3,4,5,8,9,...|\n",
            "|   Male|    Yes|    Graduate|           4400|              0.0|       127|             360|             0|    Semiurban|          N|         0.0|          0.0|            0.0|                361.0|                    0.0|            62.0|                   0.0|                 1.0|                0.0|              1.0|(1,[0],[1.0])|      (1,[],[])|      (286,[0],[1.0])|(2,[0],[1.0])| (203,[62],[1.0])|    (2,[0],[1.0])|  (504,[361],[1.0])|      (10,[0],[1.0])|         (1,[],[])|(2,[0],[1.0])|(1020,[3,5,7,9,10...|\n",
            "|   Male|    Yes|    Graduate|           3153|           1560.0|       134|             360|             1|        Urban|          Y|         0.0|          0.0|            0.0|                238.0|                   15.0|            44.0|                   0.0|                 0.0|                1.0|              0.0|(1,[0],[1.0])|  (1,[0],[1.0])|     (286,[15],[1.0])|(2,[0],[1.0])| (203,[44],[1.0])|    (2,[1],[1.0])|  (504,[238],[1.0])|      (10,[0],[1.0])|     (1,[0],[1.0])|(2,[0],[1.0])|(1020,[3,4,5,8,9,...|\n",
            "| Female|     No|    Graduate|           5417|              0.0|       143|             480|             0|        Urban|          N|         1.0|          1.0|            0.0|                 21.0|                    0.0|            85.0|                   2.0|                 1.0|                1.0|              1.0|(1,[0],[1.0])|      (1,[],[])|      (286,[0],[1.0])|(2,[1],[1.0])| (203,[85],[1.0])|    (2,[1],[1.0])|   (504,[21],[1.0])|      (10,[2],[1.0])|         (1,[],[])|(2,[1],[1.0])|(1020,[0,1,3,5,6,...|\n",
            "|   Male|    Yes|    Graduate|           2383|           3334.0|       172|             360|             1|    Semiurban|          Y|         0.0|          0.0|            0.0|                 32.0|                  210.0|            47.0|                   0.0|                 0.0|                0.0|              0.0|(1,[0],[1.0])|  (1,[0],[1.0])|    (286,[210],[1.0])|(2,[0],[1.0])| (203,[47],[1.0])|    (2,[0],[1.0])|   (504,[32],[1.0])|      (10,[0],[1.0])|     (1,[0],[1.0])|(2,[0],[1.0])|(1020,[3,4,5,9,22...|\n",
            "|   Male|    Yes|    Graduate|           4416|           1250.0|       110|             360|             1|        Urban|          Y|         0.0|          0.0|            0.0|                363.0|                   11.0|             2.0|                   0.0|                 0.0|                1.0|              0.0|(1,[0],[1.0])|  (1,[0],[1.0])|     (286,[11],[1.0])|(2,[0],[1.0])|  (203,[2],[1.0])|    (2,[1],[1.0])|  (504,[363],[1.0])|      (10,[0],[1.0])|     (1,[0],[1.0])|(2,[0],[1.0])|(1020,[3,4,5,8,9,...|\n",
            "|   Male|    Yes|    Graduate|           6875|              0.0|       200|             360|             1|    Semiurban|          Y|         0.0|          0.0|            0.0|                464.0|                    0.0|            37.0|                   0.0|                 0.0|                0.0|              0.0|(1,[0],[1.0])|  (1,[0],[1.0])|      (286,[0],[1.0])|(2,[0],[1.0])| (203,[37],[1.0])|    (2,[0],[1.0])|  (504,[464],[1.0])|      (10,[0],[1.0])|     (1,[0],[1.0])|(2,[0],[1.0])|(1020,[3,5,9,10,2...|\n",
            "| Female|    Yes|    Graduate|           4666|              0.0|       135|             360|             1|        Urban|          Y|         1.0|          0.0|            0.0|                373.0|                    0.0|            17.0|                   0.0|                 0.0|                1.0|              0.0|(1,[0],[1.0])|  (1,[0],[1.0])|      (286,[0],[1.0])|(2,[1],[1.0])| (203,[17],[1.0])|    (2,[1],[1.0])|  (504,[373],[1.0])|      (10,[0],[1.0])|     (1,[0],[1.0])|(2,[0],[1.0])|(1020,[0,3,5,8,9,...|\n",
            "| Female|     No|    Graduate|           5000|           2541.0|       151|             480|             1|        Rural|          N|         1.0|          1.0|            0.0|                  7.0|                  176.0|            46.0|                   2.0|                 0.0|                2.0|              1.0|(1,[0],[1.0])|      (1,[],[])|    (286,[176],[1.0])|(2,[1],[1.0])| (203,[46],[1.0])|        (2,[],[])|    (504,[7],[1.0])|      (10,[2],[1.0])|     (1,[0],[1.0])|(2,[1],[1.0])|(1020,[0,1,3,4,5,...|\n",
            "|   Male|    Yes|    Graduate|           2014|           2925.0|       113|             360|             1|        Urban|          N|         0.0|          0.0|            0.0|                 28.0|                   31.0|             6.0|                   0.0|                 0.0|                1.0|              1.0|(1,[0],[1.0])|      (1,[],[])|     (286,[31],[1.0])|(2,[0],[1.0])|  (203,[6],[1.0])|    (2,[1],[1.0])|   (504,[28],[1.0])|      (10,[0],[1.0])|     (1,[0],[1.0])|(2,[0],[1.0])|(1020,[3,4,5,8,9,...|\n",
            "+-------+-------+------------+---------------+-----------------+----------+----------------+--------------+-------------+-----------+------------+-------------+---------------+---------------------+-----------------------+----------------+----------------------+--------------------+-------------------+-----------------+-------------+---------------+---------------------+-------------+-----------------+-----------------+-------------------+--------------------+------------------+-------------+--------------------+\n",
            "only showing top 300 rows\n",
            "\n"
          ],
          "name": "stdout"
        }
      ]
    },
    {
      "cell_type": "code",
      "metadata": {
        "colab": {
          "base_uri": "https://localhost:8080/"
        },
        "id": "NTbekojb9Lca",
        "outputId": "01fc64f2-89ef-425b-9a07-62ea04af3b2d"
      },
      "source": [
        "# view the transformed vector\n",
        "final_data.select('features','Loan_Status_Index').show(25)"
      ],
      "execution_count": 419,
      "outputs": [
        {
          "output_type": "stream",
          "text": [
            "+--------------------+-----------------+\n",
            "|            features|Loan_Status_Index|\n",
            "+--------------------+-----------------+\n",
            "|(1020,[1,3,8,9,10...|              0.0|\n",
            "|(1020,[3,4,5,8,9,...|              1.0|\n",
            "|(1020,[3,5,8,9,10...|              0.0|\n",
            "|(1020,[2,3,4,5,8,...|              0.0|\n",
            "|(1020,[1,3,5,8,9,...|              0.0|\n",
            "|(1020,[3,4,5,8,9,...|              0.0|\n",
            "|(1020,[2,3,4,5,8,...|              0.0|\n",
            "|(1020,[3,4,5,7,9,...|              1.0|\n",
            "|(1020,[3,4,5,8,9,...|              0.0|\n",
            "|(1020,[3,4,5,9,59...|              1.0|\n",
            "|(1020,[3,4,5,8,9,...|              0.0|\n",
            "|(1020,[4,5,8,9,11...|              0.0|\n",
            "|(1020,[3,4,5,8,9,...|              0.0|\n",
            "|(1020,[1,3,4,5,8,...|              1.0|\n",
            "|(1020,[3,4,5,6,8,...|              0.0|\n",
            "|(1020,[1,3,5,8,9,...|              0.0|\n",
            "|(1020,[1,2,3,5,6,...|              0.0|\n",
            "|(1020,[0,1,3,5,7,...|              1.0|\n",
            "|(1020,[2,3,5,8,10...|              1.0|\n",
            "|(1020,[3,4,5,6,8,...|              0.0|\n",
            "|(1020,[2,3,5,7,8,...|              1.0|\n",
            "|(1020,[3,4,5,8,9,...|              0.0|\n",
            "|(1020,[2,3,4,5,7,...|              1.0|\n",
            "|(1020,[0,2,3,4,5,...|              1.0|\n",
            "|(1020,[3,4,5,7,9,...|              1.0|\n",
            "+--------------------+-----------------+\n",
            "only showing top 25 rows\n",
            "\n"
          ],
          "name": "stdout"
        }
      ]
    },
    {
      "cell_type": "code",
      "metadata": {
        "colab": {
          "base_uri": "https://localhost:8080/"
        },
        "id": "5_iHSx6b91j_",
        "outputId": "12417aca-6c4b-4e32-ddf8-32cdd37f5b5f"
      },
      "source": [
        "#Model_Dataframe\n",
        "model_df = final_data.select(['features','Loan_Status_Index'])\n",
        "model_df = model_df.withColumnRenamed(\"Loan_Status_Index\",\"label\")\n",
        "model_df.printSchema()"
      ],
      "execution_count": 420,
      "outputs": [
        {
          "output_type": "stream",
          "text": [
            "root\n",
            " |-- features: vector (nullable = true)\n",
            " |-- label: double (nullable = false)\n",
            "\n"
          ],
          "name": "stdout"
        }
      ]
    },
    {
      "cell_type": "code",
      "metadata": {
        "colab": {
          "base_uri": "https://localhost:8080/"
        },
        "id": "DYBLe4bI-Vgr",
        "outputId": "0ba6d41f-f896-497b-cbaa-c83a1102e4f4"
      },
      "source": [
        "model_df.show(100)"
      ],
      "execution_count": 421,
      "outputs": [
        {
          "output_type": "stream",
          "text": [
            "+--------------------+-----+\n",
            "|            features|label|\n",
            "+--------------------+-----+\n",
            "|(1020,[1,3,8,9,10...|  0.0|\n",
            "|(1020,[3,4,5,8,9,...|  1.0|\n",
            "|(1020,[3,5,8,9,10...|  0.0|\n",
            "|(1020,[2,3,4,5,8,...|  0.0|\n",
            "|(1020,[1,3,5,8,9,...|  0.0|\n",
            "|(1020,[3,4,5,8,9,...|  0.0|\n",
            "|(1020,[2,3,4,5,8,...|  0.0|\n",
            "|(1020,[3,4,5,7,9,...|  1.0|\n",
            "|(1020,[3,4,5,8,9,...|  0.0|\n",
            "|(1020,[3,4,5,9,59...|  1.0|\n",
            "|(1020,[3,4,5,8,9,...|  0.0|\n",
            "|(1020,[4,5,8,9,11...|  0.0|\n",
            "|(1020,[3,4,5,8,9,...|  0.0|\n",
            "|(1020,[1,3,4,5,8,...|  1.0|\n",
            "|(1020,[3,4,5,6,8,...|  0.0|\n",
            "|(1020,[1,3,5,8,9,...|  0.0|\n",
            "|(1020,[1,2,3,5,6,...|  0.0|\n",
            "|(1020,[0,1,3,5,7,...|  1.0|\n",
            "|(1020,[2,3,5,8,10...|  1.0|\n",
            "|(1020,[3,4,5,6,8,...|  0.0|\n",
            "|(1020,[2,3,5,7,8,...|  1.0|\n",
            "|(1020,[3,4,5,8,9,...|  0.0|\n",
            "|(1020,[2,3,4,5,7,...|  1.0|\n",
            "|(1020,[0,2,3,4,5,...|  1.0|\n",
            "|(1020,[3,4,5,7,9,...|  1.0|\n",
            "|(1020,[3,5,9,10,2...|  0.0|\n",
            "|(1020,[3,4,5,9,16...|  0.0|\n",
            "|(1020,[2,3,4,5,8,...|  0.0|\n",
            "|(1020,[1,2,3,5,8,...|  1.0|\n",
            "|(1020,[0,1,3,4,5,...|  0.0|\n",
            "|(1020,[3,4,5,7,8,...|  1.0|\n",
            "|(1020,[1,3,5,8,9,...|  1.0|\n",
            "|(1020,[1,3,5,8,9,...|  1.0|\n",
            "|(1020,[3,4,5,9,27...|  0.0|\n",
            "|(1020,[1,3,4,5,8,...|  1.0|\n",
            "|(1020,[3,4,8,9,14...|  0.0|\n",
            "|(1020,[3,4,5,6,7,...|  1.0|\n",
            "|(1020,[0,3,4,5,9,...|  0.0|\n",
            "|(1020,[1,3,4,5,8,...|  0.0|\n",
            "|(1020,[1,2,3,4,5,...|  0.0|\n",
            "|(1020,[1,3,5,8,9,...|  1.0|\n",
            "|(1020,[1,3,4,5,8,...|  0.0|\n",
            "|(1020,[3,5,7,8,9,...|  0.0|\n",
            "|(1020,[3,4,5,9,16...|  0.0|\n",
            "|(1020,[2,3,5,6,8,...|  0.0|\n",
            "|(1020,[0,1,3,5,6,...|  0.0|\n",
            "|(1020,[3,5,8,9,10...|  0.0|\n",
            "|(1020,[3,5,8,9,10...|  0.0|\n",
            "|(1020,[0,3,4,5,7,...|  1.0|\n",
            "|(1020,[0,1,3,4,5,...|  0.0|\n",
            "|(1020,[0,2,3,4,5,...|  0.0|\n",
            "|(1020,[0,1,3,5,9,...|  0.0|\n",
            "|(1020,[0,1,3,5,9,...|  1.0|\n",
            "|(1020,[3,5,8,9,10...|  1.0|\n",
            "|(1020,[0,3,5,7,8,...|  1.0|\n",
            "|(1020,[3,4,5,9,64...|  0.0|\n",
            "|(1020,[3,4,5,9,93...|  0.0|\n",
            "|(1020,[3,4,5,8,9,...|  1.0|\n",
            "|(1020,[3,4,5,8,9,...|  0.0|\n",
            "|(1020,[2,3,4,5,8,...|  0.0|\n",
            "|(1020,[4,5,8,9,23...|  0.0|\n",
            "|(1020,[3,5,8,9,10...|  0.0|\n",
            "|(1020,[2,3,4,5,6,...|  1.0|\n",
            "|(1020,[3,7,8,9,10...|  1.0|\n",
            "|(1020,[0,1,3,5,7,...|  1.0|\n",
            "|(1020,[3,4,5,9,25...|  1.0|\n",
            "|(1020,[1,2,3,4,5,...|  1.0|\n",
            "|(1020,[3,5,8,9,10...|  0.0|\n",
            "|(1020,[2,3,5,6,8,...|  0.0|\n",
            "|(1020,[0,1,3,5,7,...|  1.0|\n",
            "|(1020,[3,4,5,8,9,...|  0.0|\n",
            "|(1020,[2,3,4,5,12...|  0.0|\n",
            "|(1020,[1,3,5,6,9,...|  0.0|\n",
            "|(1020,[2,3,5,6,7,...|  1.0|\n",
            "|(1020,[3,4,5,9,10...|  0.0|\n",
            "|(1020,[1,3,5,6,8,...|  1.0|\n",
            "|(1020,[1,3,4,5,8,...|  1.0|\n",
            "|(1020,[3,4,5,8,9,...|  1.0|\n",
            "|(1020,[3,4,5,6,7,...|  1.0|\n",
            "|(1020,[2,3,4,5,7,...|  0.0|\n",
            "|(1020,[0,1,3,5,9,...|  0.0|\n",
            "|(1020,[3,9,10,296...|  0.0|\n",
            "|(1020,[0,3,4,5,8,...|  1.0|\n",
            "|(1020,[3,4,5,7,9,...|  1.0|\n",
            "|(1020,[3,5,6,8,9,...|  0.0|\n",
            "|(1020,[1,3,4,5,9,...|  0.0|\n",
            "|(1020,[2,3,4,5,7,...|  0.0|\n",
            "|(1020,[4,5,9,147,...|  0.0|\n",
            "|(1020,[1,3,5,8,9,...|  0.0|\n",
            "|(1020,[3,4,5,9,46...|  0.0|\n",
            "|(1020,[3,4,5,9,20...|  0.0|\n",
            "|(1020,[3,4,5,6,9,...|  0.0|\n",
            "|(1020,[2,3,4,5,8,...|  0.0|\n",
            "|(1020,[1,3,5,9,10...|  0.0|\n",
            "|(1020,[1,2,3,5,6,...|  0.0|\n",
            "|(1020,[1,3,7,8,9,...|  1.0|\n",
            "|(1020,[0,3,4,5,9,...|  0.0|\n",
            "|(1020,[3,4,5,9,29...|  0.0|\n",
            "|(1020,[2,3,5,6,10...|  0.0|\n",
            "|(1020,[3,4,5,9,22...|  0.0|\n",
            "+--------------------+-----+\n",
            "only showing top 100 rows\n",
            "\n"
          ],
          "name": "stdout"
        }
      ]
    },
    {
      "cell_type": "code",
      "metadata": {
        "id": "sclHZJY19-nl"
      },
      "source": [
        "#Split into training & testing Dataframe\n",
        "training_df,test_df = model_df.randomSplit([0.75,0.25])"
      ],
      "execution_count": 446,
      "outputs": []
    },
    {
      "cell_type": "code",
      "metadata": {
        "colab": {
          "base_uri": "https://localhost:8080/"
        },
        "id": "JYJ1i-m4-Ohz",
        "outputId": "f9ba705f-81be-4bd0-b48d-51e83a8e5bc2"
      },
      "source": [
        "training_df.show()"
      ],
      "execution_count": 447,
      "outputs": [
        {
          "output_type": "stream",
          "text": [
            "+--------------------+-----+\n",
            "|            features|label|\n",
            "+--------------------+-----+\n",
            "|(1020,[0,1,2,3,4,...|  0.0|\n",
            "|(1020,[0,1,2,3,5,...|  1.0|\n",
            "|(1020,[0,1,2,3,5,...|  1.0|\n",
            "|(1020,[0,1,2,3,5,...|  0.0|\n",
            "|(1020,[0,1,2,3,5,...|  1.0|\n",
            "|(1020,[0,1,2,3,5,...|  0.0|\n",
            "|(1020,[0,1,2,3,5,...|  0.0|\n",
            "|(1020,[0,1,2,3,5,...|  0.0|\n",
            "|(1020,[0,1,2,3,5,...|  0.0|\n",
            "|(1020,[0,1,2,3,5,...|  0.0|\n",
            "|(1020,[0,1,2,3,5,...|  0.0|\n",
            "|(1020,[0,1,2,3,5,...|  1.0|\n",
            "|(1020,[0,1,2,3,7,...|  1.0|\n",
            "|(1020,[0,1,3,4,5,...|  1.0|\n",
            "|(1020,[0,1,3,4,5,...|  1.0|\n",
            "|(1020,[0,1,3,4,5,...|  0.0|\n",
            "|(1020,[0,1,3,4,5,...|  1.0|\n",
            "|(1020,[0,1,3,4,5,...|  0.0|\n",
            "|(1020,[0,1,3,4,5,...|  0.0|\n",
            "|(1020,[0,1,3,4,5,...|  1.0|\n",
            "+--------------------+-----+\n",
            "only showing top 20 rows\n",
            "\n"
          ],
          "name": "stdout"
        }
      ]
    },
    {
      "cell_type": "code",
      "metadata": {
        "id": "6D4VsrZE-FXP"
      },
      "source": [
        "#Create a logistic regression model object\n",
        "from pyspark.ml.classification import LogisticRegression\n",
        "log_reg=LogisticRegression().fit(training_df)"
      ],
      "execution_count": 449,
      "outputs": []
    },
    {
      "cell_type": "code",
      "metadata": {
        "colab": {
          "base_uri": "https://localhost:8080/"
        },
        "id": "U2CQRxSIRad5",
        "outputId": "caf5d0bb-3fa0-4d3b-bafa-76893aca16ee"
      },
      "source": [
        "lr_predictions = log_reg.transform(test_df)\n",
        "lr_predictions.select(\"prediction\",\"label\",\"features\").show(5)\n",
        "from pyspark.ml.evaluation import BinaryClassificationEvaluator\n",
        "lr_evaluator = BinaryClassificationEvaluator()\n",
        "print(\"R Squared (R2) on test data = %g\" % lr_evaluator.evaluate(lr_predictions))\n"
      ],
      "execution_count": 467,
      "outputs": [
        {
          "output_type": "stream",
          "text": [
            "+----------+-----+--------------------+\n",
            "|prediction|label|            features|\n",
            "+----------+-----+--------------------+\n",
            "|       0.0|  0.0|(1020,[0,1,2,3,5,...|\n",
            "|       1.0|  1.0|(1020,[0,1,3,4,5,...|\n",
            "|       1.0|  0.0|(1020,[0,1,3,4,5,...|\n",
            "|       1.0|  1.0|(1020,[0,1,3,4,5,...|\n",
            "|       0.0|  0.0|(1020,[0,1,3,4,5,...|\n",
            "+----------+-----+--------------------+\n",
            "only showing top 5 rows\n",
            "\n",
            "R Squared (R2) on test data = 0.650433\n"
          ],
          "name": "stdout"
        }
      ]
    },
    {
      "cell_type": "code",
      "metadata": {
        "id": "-GBtkAtPP_mJ"
      },
      "source": [
        "lr_summary=log_reg.summary"
      ],
      "execution_count": 468,
      "outputs": []
    },
    {
      "cell_type": "code",
      "metadata": {
        "colab": {
          "base_uri": "https://localhost:8080/"
        },
        "id": "IQUatjcaQIJ5",
        "outputId": "0f5cba04-b052-4605-d892-f2e93ad8c654"
      },
      "source": [
        "#Overall accuracy of the classification model\n",
        "lr_summary.accuracy"
      ],
      "execution_count": 469,
      "outputs": [
        {
          "output_type": "execute_result",
          "data": {
            "text/plain": [
              "1.0"
            ]
          },
          "metadata": {
            "tags": []
          },
          "execution_count": 469
        }
      ]
    },
    {
      "cell_type": "code",
      "metadata": {
        "colab": {
          "base_uri": "https://localhost:8080/"
        },
        "id": "HGQCtp7UQQuB",
        "outputId": "2d232dec-61ba-4f7f-8074-49d6ae7e6e44"
      },
      "source": [
        "lr_summary.areaUnderROC"
      ],
      "execution_count": 470,
      "outputs": [
        {
          "output_type": "execute_result",
          "data": {
            "text/plain": [
              "1.0"
            ]
          },
          "metadata": {
            "tags": []
          },
          "execution_count": 470
        }
      ]
    },
    {
      "cell_type": "code",
      "metadata": {
        "colab": {
          "base_uri": "https://localhost:8080/"
        },
        "id": "gK4PP6WrQY9L",
        "outputId": "8a03f770-6ce1-4561-e816-8189adc114b6"
      },
      "source": [
        "#Precision of both classes\n",
        "print(lr_summary.precisionByLabel)"
      ],
      "execution_count": 445,
      "outputs": [
        {
          "output_type": "stream",
          "text": [
            "[1.0, 1.0]\n"
          ],
          "name": "stdout"
        }
      ]
    },
    {
      "cell_type": "code",
      "metadata": {
        "id": "snnbVb6aQeFJ"
      },
      "source": [
        "predictions = log_reg.transform(test_df)\n"
      ],
      "execution_count": 453,
      "outputs": []
    },
    {
      "cell_type": "code",
      "metadata": {
        "colab": {
          "base_uri": "https://localhost:8080/"
        },
        "id": "1j6wySCYQ4Zl",
        "outputId": "c8ddd8be-15d0-40a0-9e3d-bb97d9025ed1"
      },
      "source": [
        "predictions.select('label','prediction').show(50)\n"
      ],
      "execution_count": 454,
      "outputs": [
        {
          "output_type": "stream",
          "text": [
            "+-----+----------+\n",
            "|label|prediction|\n",
            "+-----+----------+\n",
            "|  0.0|       0.0|\n",
            "|  1.0|       1.0|\n",
            "|  0.0|       1.0|\n",
            "|  1.0|       1.0|\n",
            "|  0.0|       0.0|\n",
            "|  0.0|       0.0|\n",
            "|  1.0|       0.0|\n",
            "|  1.0|       0.0|\n",
            "|  0.0|       1.0|\n",
            "|  1.0|       0.0|\n",
            "|  0.0|       0.0|\n",
            "|  0.0|       0.0|\n",
            "|  0.0|       0.0|\n",
            "|  0.0|       0.0|\n",
            "|  0.0|       1.0|\n",
            "|  0.0|       0.0|\n",
            "|  0.0|       0.0|\n",
            "|  0.0|       0.0|\n",
            "|  1.0|       0.0|\n",
            "|  1.0|       1.0|\n",
            "|  0.0|       0.0|\n",
            "|  0.0|       0.0|\n",
            "|  0.0|       0.0|\n",
            "|  1.0|       0.0|\n",
            "|  0.0|       0.0|\n",
            "|  1.0|       1.0|\n",
            "|  0.0|       1.0|\n",
            "|  0.0|       0.0|\n",
            "|  1.0|       0.0|\n",
            "|  0.0|       0.0|\n",
            "|  1.0|       0.0|\n",
            "|  1.0|       1.0|\n",
            "|  0.0|       0.0|\n",
            "|  1.0|       0.0|\n",
            "|  0.0|       0.0|\n",
            "|  0.0|       0.0|\n",
            "|  0.0|       0.0|\n",
            "|  1.0|       0.0|\n",
            "|  1.0|       0.0|\n",
            "|  0.0|       0.0|\n",
            "|  1.0|       0.0|\n",
            "|  0.0|       0.0|\n",
            "|  0.0|       0.0|\n",
            "|  1.0|       0.0|\n",
            "|  1.0|       1.0|\n",
            "|  0.0|       0.0|\n",
            "|  1.0|       0.0|\n",
            "|  1.0|       1.0|\n",
            "|  0.0|       0.0|\n",
            "|  0.0|       1.0|\n",
            "+-----+----------+\n",
            "only showing top 50 rows\n",
            "\n"
          ],
          "name": "stdout"
        }
      ]
    }
  ]
}